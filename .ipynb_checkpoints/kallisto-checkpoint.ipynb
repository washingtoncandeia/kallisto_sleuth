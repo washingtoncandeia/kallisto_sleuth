{
 "cells": [
  {
   "cell_type": "markdown",
   "metadata": {},
   "source": [
    "# Expressão Diferencial em Nível de Transcritos com Kallisto e Sleuth\n",
    "## Laboratório de Medicina Tropical - IMT - UFRN\n",
    "\n",
    "Análises de expressão diferencial de dados de sequenciamento de segunda geração (_high-throughput sequencing reads_, **_RNA-seq_**) realizadas utilizando as ferramentas [kallisto](https://pachterlab.github.io/kallisto/) e [sleuth](https://pachterlab.github.io/sleuth/).  \n",
    "\n",
    "**kallisto** utiliza o conceito de **pseudoalinhamento** para determinar a compatibilidade de _reads_ com seus alvos no genoma, sem que se faça um alinhamento. Quantifica as abundâncias dos transcritos pertencentes a um determinado conjunto de dados de **_RNA-seq_**. Para mais informações, procurar por sua página o artigo do grupo desenvolvedor deste programa:  \n",
    "\n",
    "Nicolas L Bray, Harold Pimentel, Páll Melsted and Lior Pachter, [Near-optimal probabilistic RNA-seq quantification](https://www.nature.com/articles/nbt.3519), Nature Biotechnology **34**, 525–527 (2016), doi:10.1038/nbt.3519. \n",
    "\n",
    "**sleuth**, por sua vez, é utilizado no _workflow_ de análises advindas de dados \n",
    "\n",
    "sleuth is a program for differential analysis of RNA-Seq data. It makes use of quantification uncertainty estimates obtained via kallisto for accurate differential analysis of isoforms or genes, allows testing in the context of experiments with complex designs, and supports interactive exploratory data analysis via sleuth live. The sleuth methods are described in\n",
    "\n",
    "As análises continuam em andamento no Laboratório de Imunogenética, chefiado pela **Prof. Dr. Selma M.B. Jeronimo**, pertencente ao **Instituto de Medicina Tropical - IMT**, na **Universidade Federal do Rio Grande do Norte**, em Natal."
   ]
  }
 ],
 "metadata": {
  "kernelspec": {
   "display_name": "Python 2",
   "language": "python",
   "name": "python2"
  },
  "language_info": {
   "codemirror_mode": {
    "name": "ipython",
    "version": 2
   },
   "file_extension": ".py",
   "mimetype": "text/x-python",
   "name": "python",
   "nbconvert_exporter": "python",
   "pygments_lexer": "ipython2",
   "version": "2.7.14"
  }
 },
 "nbformat": 4,
 "nbformat_minor": 2
}
