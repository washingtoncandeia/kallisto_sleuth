{
 "cells": [
  {
   "cell_type": "markdown",
   "metadata": {},
   "source": [
    "# RNA-seq - Análise de Abundância de Transcritos\n",
    "## De Kallisto a DESeq2\n",
    "\n",
    "Alguns _sites_ com tutoriais de base:   \n",
    "[DESeq2 funções, Michael Love _et_al ](https://bioconductor.org/packages/release/workflows/vignettes/rnaseqGene/inst/doc/rnaseqGene.html#deseq2-import-functions)  \n",
    "[RNA-seq workflow](https://dockflow.org/workflow/rnaseq-gene/)  "
   ]
  },
  {
   "cell_type": "code",
   "execution_count": 44,
   "metadata": {},
   "outputs": [],
   "source": [
    "library(tximport)\n",
    "library(apeglm)\n",
    "library(biomaRt)\n",
    "library(DESeq2)\n",
    "library(readr)\n",
    "library(dplyr)\n",
    "library(rhdf5)\n",
    "library(IHW)"
   ]
  },
  {
   "cell_type": "code",
   "execution_count": 2,
   "metadata": {},
   "outputs": [
    {
     "data": {
      "text/html": [
       "<ol class=list-inline>\n",
       "\t<li>'1_rep1'</li>\n",
       "\t<li>'1_rep2'</li>\n",
       "\t<li>'1_rep3'</li>\n",
       "\t<li>'10_rep1'</li>\n",
       "\t<li>'10_rep2'</li>\n",
       "\t<li>'10_rep3'</li>\n",
       "\t<li>'11_rep1'</li>\n",
       "\t<li>'11_rep2'</li>\n",
       "\t<li>'11_rep3'</li>\n",
       "\t<li>'12_rep1'</li>\n",
       "\t<li>'12_rep2'</li>\n",
       "\t<li>'12_rep3'</li>\n",
       "\t<li>'13_rep1'</li>\n",
       "\t<li>'13_rep2'</li>\n",
       "\t<li>'13_rep3'</li>\n",
       "\t<li>'14_rep1'</li>\n",
       "\t<li>'14_rep2'</li>\n",
       "\t<li>'14_rep3'</li>\n",
       "\t<li>'16_rep1'</li>\n",
       "\t<li>'16_rep2'</li>\n",
       "\t<li>'16_rep3'</li>\n",
       "\t<li>'18_rep1'</li>\n",
       "\t<li>'18_rep2'</li>\n",
       "\t<li>'18_rep3'</li>\n",
       "\t<li>'19_rep1'</li>\n",
       "\t<li>'19_rep2'</li>\n",
       "\t<li>'19_rep3'</li>\n",
       "\t<li>'2_rep1'</li>\n",
       "\t<li>'2_rep2'</li>\n",
       "\t<li>'2_rep3'</li>\n",
       "\t<li>'20_rep1'</li>\n",
       "\t<li>'20_rep2'</li>\n",
       "\t<li>'20_rep3'</li>\n",
       "\t<li>'22_rep1'</li>\n",
       "\t<li>'22_rep2'</li>\n",
       "\t<li>'22_rep3'</li>\n",
       "\t<li>'24_rep1'</li>\n",
       "\t<li>'24_rep2'</li>\n",
       "\t<li>'24_rep3'</li>\n",
       "\t<li>'25_rep1'</li>\n",
       "\t<li>'25_rep2'</li>\n",
       "\t<li>'25_rep3'</li>\n",
       "\t<li>'27_rep1'</li>\n",
       "\t<li>'27_rep2'</li>\n",
       "\t<li>'27_rep3'</li>\n",
       "\t<li>'28_rep1'</li>\n",
       "\t<li>'28_rep2'</li>\n",
       "\t<li>'28_rep3'</li>\n",
       "\t<li>'30_rep1'</li>\n",
       "\t<li>'30_rep2'</li>\n",
       "\t<li>'30_rep3'</li>\n",
       "\t<li>'31_rep1'</li>\n",
       "\t<li>'31_rep2'</li>\n",
       "\t<li>'31_rep3'</li>\n",
       "\t<li>'32_rep1'</li>\n",
       "\t<li>'32_rep2'</li>\n",
       "\t<li>'32_rep3'</li>\n",
       "\t<li>'33_rep1'</li>\n",
       "\t<li>'33_rep2'</li>\n",
       "\t<li>'33_rep3'</li>\n",
       "\t<li>'34_rep1'</li>\n",
       "\t<li>'34_rep2'</li>\n",
       "\t<li>'34_rep3'</li>\n",
       "\t<li>'35_rep1'</li>\n",
       "\t<li>'35_rep2'</li>\n",
       "\t<li>'35_rep3'</li>\n",
       "\t<li>'36_rep1'</li>\n",
       "\t<li>'36_rep2'</li>\n",
       "\t<li>'36_rep3'</li>\n",
       "\t<li>'38_rep1'</li>\n",
       "\t<li>'38_rep2'</li>\n",
       "\t<li>'38_rep3'</li>\n",
       "\t<li>'39_rep1'</li>\n",
       "\t<li>'39_rep2'</li>\n",
       "\t<li>'39_rep3'</li>\n",
       "\t<li>'4_rep1'</li>\n",
       "\t<li>'4_rep2'</li>\n",
       "\t<li>'4_rep3'</li>\n",
       "\t<li>'40_rep1'</li>\n",
       "\t<li>'40_rep2'</li>\n",
       "\t<li>'40_rep3'</li>\n",
       "\t<li>'41_rep1'</li>\n",
       "\t<li>'41_rep2'</li>\n",
       "\t<li>'41_rep3'</li>\n",
       "\t<li>'42_rep1'</li>\n",
       "\t<li>'42_rep2'</li>\n",
       "\t<li>'42_rep3'</li>\n",
       "\t<li>'46_rep1'</li>\n",
       "\t<li>'46_rep2'</li>\n",
       "\t<li>'46_rep3'</li>\n",
       "\t<li>'47_rep1'</li>\n",
       "\t<li>'47_rep2'</li>\n",
       "\t<li>'47_rep3'</li>\n",
       "\t<li>'48_rep1'</li>\n",
       "\t<li>'48_rep2'</li>\n",
       "\t<li>'48_rep3'</li>\n",
       "\t<li>'7_rep1'</li>\n",
       "\t<li>'7_rep2'</li>\n",
       "\t<li>'7_rep3'</li>\n",
       "\t<li>'8_rep1'</li>\n",
       "\t<li>'8_rep2'</li>\n",
       "\t<li>'8_rep3'</li>\n",
       "\t<li>'9_rep1'</li>\n",
       "\t<li>'9_rep2'</li>\n",
       "\t<li>'9_rep3'</li>\n",
       "</ol>\n"
      ],
      "text/latex": [
       "\\begin{enumerate*}\n",
       "\\item '1\\_rep1'\n",
       "\\item '1\\_rep2'\n",
       "\\item '1\\_rep3'\n",
       "\\item '10\\_rep1'\n",
       "\\item '10\\_rep2'\n",
       "\\item '10\\_rep3'\n",
       "\\item '11\\_rep1'\n",
       "\\item '11\\_rep2'\n",
       "\\item '11\\_rep3'\n",
       "\\item '12\\_rep1'\n",
       "\\item '12\\_rep2'\n",
       "\\item '12\\_rep3'\n",
       "\\item '13\\_rep1'\n",
       "\\item '13\\_rep2'\n",
       "\\item '13\\_rep3'\n",
       "\\item '14\\_rep1'\n",
       "\\item '14\\_rep2'\n",
       "\\item '14\\_rep3'\n",
       "\\item '16\\_rep1'\n",
       "\\item '16\\_rep2'\n",
       "\\item '16\\_rep3'\n",
       "\\item '18\\_rep1'\n",
       "\\item '18\\_rep2'\n",
       "\\item '18\\_rep3'\n",
       "\\item '19\\_rep1'\n",
       "\\item '19\\_rep2'\n",
       "\\item '19\\_rep3'\n",
       "\\item '2\\_rep1'\n",
       "\\item '2\\_rep2'\n",
       "\\item '2\\_rep3'\n",
       "\\item '20\\_rep1'\n",
       "\\item '20\\_rep2'\n",
       "\\item '20\\_rep3'\n",
       "\\item '22\\_rep1'\n",
       "\\item '22\\_rep2'\n",
       "\\item '22\\_rep3'\n",
       "\\item '24\\_rep1'\n",
       "\\item '24\\_rep2'\n",
       "\\item '24\\_rep3'\n",
       "\\item '25\\_rep1'\n",
       "\\item '25\\_rep2'\n",
       "\\item '25\\_rep3'\n",
       "\\item '27\\_rep1'\n",
       "\\item '27\\_rep2'\n",
       "\\item '27\\_rep3'\n",
       "\\item '28\\_rep1'\n",
       "\\item '28\\_rep2'\n",
       "\\item '28\\_rep3'\n",
       "\\item '30\\_rep1'\n",
       "\\item '30\\_rep2'\n",
       "\\item '30\\_rep3'\n",
       "\\item '31\\_rep1'\n",
       "\\item '31\\_rep2'\n",
       "\\item '31\\_rep3'\n",
       "\\item '32\\_rep1'\n",
       "\\item '32\\_rep2'\n",
       "\\item '32\\_rep3'\n",
       "\\item '33\\_rep1'\n",
       "\\item '33\\_rep2'\n",
       "\\item '33\\_rep3'\n",
       "\\item '34\\_rep1'\n",
       "\\item '34\\_rep2'\n",
       "\\item '34\\_rep3'\n",
       "\\item '35\\_rep1'\n",
       "\\item '35\\_rep2'\n",
       "\\item '35\\_rep3'\n",
       "\\item '36\\_rep1'\n",
       "\\item '36\\_rep2'\n",
       "\\item '36\\_rep3'\n",
       "\\item '38\\_rep1'\n",
       "\\item '38\\_rep2'\n",
       "\\item '38\\_rep3'\n",
       "\\item '39\\_rep1'\n",
       "\\item '39\\_rep2'\n",
       "\\item '39\\_rep3'\n",
       "\\item '4\\_rep1'\n",
       "\\item '4\\_rep2'\n",
       "\\item '4\\_rep3'\n",
       "\\item '40\\_rep1'\n",
       "\\item '40\\_rep2'\n",
       "\\item '40\\_rep3'\n",
       "\\item '41\\_rep1'\n",
       "\\item '41\\_rep2'\n",
       "\\item '41\\_rep3'\n",
       "\\item '42\\_rep1'\n",
       "\\item '42\\_rep2'\n",
       "\\item '42\\_rep3'\n",
       "\\item '46\\_rep1'\n",
       "\\item '46\\_rep2'\n",
       "\\item '46\\_rep3'\n",
       "\\item '47\\_rep1'\n",
       "\\item '47\\_rep2'\n",
       "\\item '47\\_rep3'\n",
       "\\item '48\\_rep1'\n",
       "\\item '48\\_rep2'\n",
       "\\item '48\\_rep3'\n",
       "\\item '7\\_rep1'\n",
       "\\item '7\\_rep2'\n",
       "\\item '7\\_rep3'\n",
       "\\item '8\\_rep1'\n",
       "\\item '8\\_rep2'\n",
       "\\item '8\\_rep3'\n",
       "\\item '9\\_rep1'\n",
       "\\item '9\\_rep2'\n",
       "\\item '9\\_rep3'\n",
       "\\end{enumerate*}\n"
      ],
      "text/markdown": [
       "1. '1_rep1'\n",
       "2. '1_rep2'\n",
       "3. '1_rep3'\n",
       "4. '10_rep1'\n",
       "5. '10_rep2'\n",
       "6. '10_rep3'\n",
       "7. '11_rep1'\n",
       "8. '11_rep2'\n",
       "9. '11_rep3'\n",
       "10. '12_rep1'\n",
       "11. '12_rep2'\n",
       "12. '12_rep3'\n",
       "13. '13_rep1'\n",
       "14. '13_rep2'\n",
       "15. '13_rep3'\n",
       "16. '14_rep1'\n",
       "17. '14_rep2'\n",
       "18. '14_rep3'\n",
       "19. '16_rep1'\n",
       "20. '16_rep2'\n",
       "21. '16_rep3'\n",
       "22. '18_rep1'\n",
       "23. '18_rep2'\n",
       "24. '18_rep3'\n",
       "25. '19_rep1'\n",
       "26. '19_rep2'\n",
       "27. '19_rep3'\n",
       "28. '2_rep1'\n",
       "29. '2_rep2'\n",
       "30. '2_rep3'\n",
       "31. '20_rep1'\n",
       "32. '20_rep2'\n",
       "33. '20_rep3'\n",
       "34. '22_rep1'\n",
       "35. '22_rep2'\n",
       "36. '22_rep3'\n",
       "37. '24_rep1'\n",
       "38. '24_rep2'\n",
       "39. '24_rep3'\n",
       "40. '25_rep1'\n",
       "41. '25_rep2'\n",
       "42. '25_rep3'\n",
       "43. '27_rep1'\n",
       "44. '27_rep2'\n",
       "45. '27_rep3'\n",
       "46. '28_rep1'\n",
       "47. '28_rep2'\n",
       "48. '28_rep3'\n",
       "49. '30_rep1'\n",
       "50. '30_rep2'\n",
       "51. '30_rep3'\n",
       "52. '31_rep1'\n",
       "53. '31_rep2'\n",
       "54. '31_rep3'\n",
       "55. '32_rep1'\n",
       "56. '32_rep2'\n",
       "57. '32_rep3'\n",
       "58. '33_rep1'\n",
       "59. '33_rep2'\n",
       "60. '33_rep3'\n",
       "61. '34_rep1'\n",
       "62. '34_rep2'\n",
       "63. '34_rep3'\n",
       "64. '35_rep1'\n",
       "65. '35_rep2'\n",
       "66. '35_rep3'\n",
       "67. '36_rep1'\n",
       "68. '36_rep2'\n",
       "69. '36_rep3'\n",
       "70. '38_rep1'\n",
       "71. '38_rep2'\n",
       "72. '38_rep3'\n",
       "73. '39_rep1'\n",
       "74. '39_rep2'\n",
       "75. '39_rep3'\n",
       "76. '4_rep1'\n",
       "77. '4_rep2'\n",
       "78. '4_rep3'\n",
       "79. '40_rep1'\n",
       "80. '40_rep2'\n",
       "81. '40_rep3'\n",
       "82. '41_rep1'\n",
       "83. '41_rep2'\n",
       "84. '41_rep3'\n",
       "85. '42_rep1'\n",
       "86. '42_rep2'\n",
       "87. '42_rep3'\n",
       "88. '46_rep1'\n",
       "89. '46_rep2'\n",
       "90. '46_rep3'\n",
       "91. '47_rep1'\n",
       "92. '47_rep2'\n",
       "93. '47_rep3'\n",
       "94. '48_rep1'\n",
       "95. '48_rep2'\n",
       "96. '48_rep3'\n",
       "97. '7_rep1'\n",
       "98. '7_rep2'\n",
       "99. '7_rep3'\n",
       "100. '8_rep1'\n",
       "101. '8_rep2'\n",
       "102. '8_rep3'\n",
       "103. '9_rep1'\n",
       "104. '9_rep2'\n",
       "105. '9_rep3'\n",
       "\n",
       "\n"
      ],
      "text/plain": [
       "  [1] \"1_rep1\"  \"1_rep2\"  \"1_rep3\"  \"10_rep1\" \"10_rep2\" \"10_rep3\" \"11_rep1\"\n",
       "  [8] \"11_rep2\" \"11_rep3\" \"12_rep1\" \"12_rep2\" \"12_rep3\" \"13_rep1\" \"13_rep2\"\n",
       " [15] \"13_rep3\" \"14_rep1\" \"14_rep2\" \"14_rep3\" \"16_rep1\" \"16_rep2\" \"16_rep3\"\n",
       " [22] \"18_rep1\" \"18_rep2\" \"18_rep3\" \"19_rep1\" \"19_rep2\" \"19_rep3\" \"2_rep1\" \n",
       " [29] \"2_rep2\"  \"2_rep3\"  \"20_rep1\" \"20_rep2\" \"20_rep3\" \"22_rep1\" \"22_rep2\"\n",
       " [36] \"22_rep3\" \"24_rep1\" \"24_rep2\" \"24_rep3\" \"25_rep1\" \"25_rep2\" \"25_rep3\"\n",
       " [43] \"27_rep1\" \"27_rep2\" \"27_rep3\" \"28_rep1\" \"28_rep2\" \"28_rep3\" \"30_rep1\"\n",
       " [50] \"30_rep2\" \"30_rep3\" \"31_rep1\" \"31_rep2\" \"31_rep3\" \"32_rep1\" \"32_rep2\"\n",
       " [57] \"32_rep3\" \"33_rep1\" \"33_rep2\" \"33_rep3\" \"34_rep1\" \"34_rep2\" \"34_rep3\"\n",
       " [64] \"35_rep1\" \"35_rep2\" \"35_rep3\" \"36_rep1\" \"36_rep2\" \"36_rep3\" \"38_rep1\"\n",
       " [71] \"38_rep2\" \"38_rep3\" \"39_rep1\" \"39_rep2\" \"39_rep3\" \"4_rep1\"  \"4_rep2\" \n",
       " [78] \"4_rep3\"  \"40_rep1\" \"40_rep2\" \"40_rep3\" \"41_rep1\" \"41_rep2\" \"41_rep3\"\n",
       " [85] \"42_rep1\" \"42_rep2\" \"42_rep3\" \"46_rep1\" \"46_rep2\" \"46_rep3\" \"47_rep1\"\n",
       " [92] \"47_rep2\" \"47_rep3\" \"48_rep1\" \"48_rep2\" \"48_rep3\" \"7_rep1\"  \"7_rep2\" \n",
       " [99] \"7_rep3\"  \"8_rep1\"  \"8_rep2\"  \"8_rep3\"  \"9_rep1\"  \"9_rep2\"  \"9_rep3\" "
      ]
     },
     "metadata": {},
     "output_type": "display_data"
    }
   ],
   "source": [
    "## Parte 1 - Preparação de dados das amostras de kallisto.\n",
    "# Caminho dos arquivos (fele path)\n",
    "dir <- './results'\n",
    "list.files(dir)\n",
    "\n",
    "\n",
    "# Nomes de populações\n",
    "ZIKA <- 'ZIKA'\n",
    "CHIKV <- 'CHIKV'\n",
    "CHIKV_REC <- 'CHIKV_REC'\n",
    "GBS <- 'GBS'\n",
    "GBS_REC <- 'GBS_REC'\n",
    "CONTROL <- 'CONTROL'\n",
    "\n",
    "# Vetor com nomes populações para fazer coluna pop:\n",
    "# Obs.: Ao fazer o vetor, melhor deixar organizado combinando amostra + nomearquivo\n",
    "pop <- c(rep(GBS, 3), rep(CONTROL, 6), rep(ZIKA, 3), rep(GBS, 6), \n",
    "         rep(GBS_REC, 3), rep(CHIKV_REC, 3), rep(CONTROL, 3), rep(GBS, 3), \n",
    "         rep(CONTROL, 3),rep(CHIKV, 3), rep(ZIKA, 3), rep(GBS, 3), \n",
    "         rep(GBS_REC, 9), rep(CHIKV, 6), rep(CONTROL, 6), rep(CHIKV_REC, 3), \n",
    "         rep(ZIKA, 3), rep(GBS_REC, 6), rep(GBS, 3), rep(CHIKV, 3), \n",
    "         rep(CHIKV_REC, 12), rep(ZIKA, 3), rep(GBS_REC, 9))\n"
   ]
  },
  {
   "cell_type": "markdown",
   "metadata": {},
   "source": [
    "Agora, observar se está tudo ok."
   ]
  },
  {
   "cell_type": "code",
   "execution_count": 3,
   "metadata": {},
   "outputs": [
    {
     "data": {
      "text/html": [
       "<ol class=list-inline>\n",
       "\t<li>'GBS'</li>\n",
       "\t<li>'GBS'</li>\n",
       "\t<li>'GBS'</li>\n",
       "\t<li>'CONTROL'</li>\n",
       "\t<li>'CONTROL'</li>\n",
       "\t<li>'CONTROL'</li>\n",
       "\t<li>'CONTROL'</li>\n",
       "\t<li>'CONTROL'</li>\n",
       "\t<li>'CONTROL'</li>\n",
       "\t<li>'ZIKA'</li>\n",
       "\t<li>'ZIKA'</li>\n",
       "\t<li>'ZIKA'</li>\n",
       "\t<li>'GBS'</li>\n",
       "\t<li>'GBS'</li>\n",
       "\t<li>'GBS'</li>\n",
       "\t<li>'GBS'</li>\n",
       "\t<li>'GBS'</li>\n",
       "\t<li>'GBS'</li>\n",
       "\t<li>'GBS_REC'</li>\n",
       "\t<li>'GBS_REC'</li>\n",
       "\t<li>'GBS_REC'</li>\n",
       "\t<li>'CHIKV_REC'</li>\n",
       "\t<li>'CHIKV_REC'</li>\n",
       "\t<li>'CHIKV_REC'</li>\n",
       "\t<li>'CONTROL'</li>\n",
       "\t<li>'CONTROL'</li>\n",
       "\t<li>'CONTROL'</li>\n",
       "\t<li>'GBS'</li>\n",
       "\t<li>'GBS'</li>\n",
       "\t<li>'GBS'</li>\n",
       "\t<li>'CONTROL'</li>\n",
       "\t<li>'CONTROL'</li>\n",
       "\t<li>'CONTROL'</li>\n",
       "\t<li>'CHIKV'</li>\n",
       "\t<li>'CHIKV'</li>\n",
       "\t<li>'CHIKV'</li>\n",
       "\t<li>'ZIKA'</li>\n",
       "\t<li>'ZIKA'</li>\n",
       "\t<li>'ZIKA'</li>\n",
       "\t<li>'GBS'</li>\n",
       "\t<li>'GBS'</li>\n",
       "\t<li>'GBS'</li>\n",
       "\t<li>'GBS_REC'</li>\n",
       "\t<li>'GBS_REC'</li>\n",
       "\t<li>'GBS_REC'</li>\n",
       "\t<li>'GBS_REC'</li>\n",
       "\t<li>'GBS_REC'</li>\n",
       "\t<li>'GBS_REC'</li>\n",
       "\t<li>'GBS_REC'</li>\n",
       "\t<li>'GBS_REC'</li>\n",
       "\t<li>'GBS_REC'</li>\n",
       "\t<li>'CHIKV'</li>\n",
       "\t<li>'CHIKV'</li>\n",
       "\t<li>'CHIKV'</li>\n",
       "\t<li>'CHIKV'</li>\n",
       "\t<li>'CHIKV'</li>\n",
       "\t<li>'CHIKV'</li>\n",
       "\t<li>'CONTROL'</li>\n",
       "\t<li>'CONTROL'</li>\n",
       "\t<li>'CONTROL'</li>\n",
       "\t<li>'CONTROL'</li>\n",
       "\t<li>'CONTROL'</li>\n",
       "\t<li>'CONTROL'</li>\n",
       "\t<li>'CHIKV_REC'</li>\n",
       "\t<li>'CHIKV_REC'</li>\n",
       "\t<li>'CHIKV_REC'</li>\n",
       "\t<li>'ZIKA'</li>\n",
       "\t<li>'ZIKA'</li>\n",
       "\t<li>'ZIKA'</li>\n",
       "\t<li>'GBS_REC'</li>\n",
       "\t<li>'GBS_REC'</li>\n",
       "\t<li>'GBS_REC'</li>\n",
       "\t<li>'GBS_REC'</li>\n",
       "\t<li>'GBS_REC'</li>\n",
       "\t<li>'GBS_REC'</li>\n",
       "\t<li>'GBS'</li>\n",
       "\t<li>'GBS'</li>\n",
       "\t<li>'GBS'</li>\n",
       "\t<li>'CHIKV'</li>\n",
       "\t<li>'CHIKV'</li>\n",
       "\t<li>'CHIKV'</li>\n",
       "\t<li>'CHIKV_REC'</li>\n",
       "\t<li>'CHIKV_REC'</li>\n",
       "\t<li>'CHIKV_REC'</li>\n",
       "\t<li>'CHIKV_REC'</li>\n",
       "\t<li>'CHIKV_REC'</li>\n",
       "\t<li>'CHIKV_REC'</li>\n",
       "\t<li>'CHIKV_REC'</li>\n",
       "\t<li>'CHIKV_REC'</li>\n",
       "\t<li>'CHIKV_REC'</li>\n",
       "\t<li>'CHIKV_REC'</li>\n",
       "\t<li>'CHIKV_REC'</li>\n",
       "\t<li>'CHIKV_REC'</li>\n",
       "\t<li>'ZIKA'</li>\n",
       "\t<li>'ZIKA'</li>\n",
       "\t<li>'ZIKA'</li>\n",
       "\t<li>'GBS_REC'</li>\n",
       "\t<li>'GBS_REC'</li>\n",
       "\t<li>'GBS_REC'</li>\n",
       "\t<li>'GBS_REC'</li>\n",
       "\t<li>'GBS_REC'</li>\n",
       "\t<li>'GBS_REC'</li>\n",
       "\t<li>'GBS_REC'</li>\n",
       "\t<li>'GBS_REC'</li>\n",
       "\t<li>'GBS_REC'</li>\n",
       "</ol>\n"
      ],
      "text/latex": [
       "\\begin{enumerate*}\n",
       "\\item 'GBS'\n",
       "\\item 'GBS'\n",
       "\\item 'GBS'\n",
       "\\item 'CONTROL'\n",
       "\\item 'CONTROL'\n",
       "\\item 'CONTROL'\n",
       "\\item 'CONTROL'\n",
       "\\item 'CONTROL'\n",
       "\\item 'CONTROL'\n",
       "\\item 'ZIKA'\n",
       "\\item 'ZIKA'\n",
       "\\item 'ZIKA'\n",
       "\\item 'GBS'\n",
       "\\item 'GBS'\n",
       "\\item 'GBS'\n",
       "\\item 'GBS'\n",
       "\\item 'GBS'\n",
       "\\item 'GBS'\n",
       "\\item 'GBS\\_REC'\n",
       "\\item 'GBS\\_REC'\n",
       "\\item 'GBS\\_REC'\n",
       "\\item 'CHIKV\\_REC'\n",
       "\\item 'CHIKV\\_REC'\n",
       "\\item 'CHIKV\\_REC'\n",
       "\\item 'CONTROL'\n",
       "\\item 'CONTROL'\n",
       "\\item 'CONTROL'\n",
       "\\item 'GBS'\n",
       "\\item 'GBS'\n",
       "\\item 'GBS'\n",
       "\\item 'CONTROL'\n",
       "\\item 'CONTROL'\n",
       "\\item 'CONTROL'\n",
       "\\item 'CHIKV'\n",
       "\\item 'CHIKV'\n",
       "\\item 'CHIKV'\n",
       "\\item 'ZIKA'\n",
       "\\item 'ZIKA'\n",
       "\\item 'ZIKA'\n",
       "\\item 'GBS'\n",
       "\\item 'GBS'\n",
       "\\item 'GBS'\n",
       "\\item 'GBS\\_REC'\n",
       "\\item 'GBS\\_REC'\n",
       "\\item 'GBS\\_REC'\n",
       "\\item 'GBS\\_REC'\n",
       "\\item 'GBS\\_REC'\n",
       "\\item 'GBS\\_REC'\n",
       "\\item 'GBS\\_REC'\n",
       "\\item 'GBS\\_REC'\n",
       "\\item 'GBS\\_REC'\n",
       "\\item 'CHIKV'\n",
       "\\item 'CHIKV'\n",
       "\\item 'CHIKV'\n",
       "\\item 'CHIKV'\n",
       "\\item 'CHIKV'\n",
       "\\item 'CHIKV'\n",
       "\\item 'CONTROL'\n",
       "\\item 'CONTROL'\n",
       "\\item 'CONTROL'\n",
       "\\item 'CONTROL'\n",
       "\\item 'CONTROL'\n",
       "\\item 'CONTROL'\n",
       "\\item 'CHIKV\\_REC'\n",
       "\\item 'CHIKV\\_REC'\n",
       "\\item 'CHIKV\\_REC'\n",
       "\\item 'ZIKA'\n",
       "\\item 'ZIKA'\n",
       "\\item 'ZIKA'\n",
       "\\item 'GBS\\_REC'\n",
       "\\item 'GBS\\_REC'\n",
       "\\item 'GBS\\_REC'\n",
       "\\item 'GBS\\_REC'\n",
       "\\item 'GBS\\_REC'\n",
       "\\item 'GBS\\_REC'\n",
       "\\item 'GBS'\n",
       "\\item 'GBS'\n",
       "\\item 'GBS'\n",
       "\\item 'CHIKV'\n",
       "\\item 'CHIKV'\n",
       "\\item 'CHIKV'\n",
       "\\item 'CHIKV\\_REC'\n",
       "\\item 'CHIKV\\_REC'\n",
       "\\item 'CHIKV\\_REC'\n",
       "\\item 'CHIKV\\_REC'\n",
       "\\item 'CHIKV\\_REC'\n",
       "\\item 'CHIKV\\_REC'\n",
       "\\item 'CHIKV\\_REC'\n",
       "\\item 'CHIKV\\_REC'\n",
       "\\item 'CHIKV\\_REC'\n",
       "\\item 'CHIKV\\_REC'\n",
       "\\item 'CHIKV\\_REC'\n",
       "\\item 'CHIKV\\_REC'\n",
       "\\item 'ZIKA'\n",
       "\\item 'ZIKA'\n",
       "\\item 'ZIKA'\n",
       "\\item 'GBS\\_REC'\n",
       "\\item 'GBS\\_REC'\n",
       "\\item 'GBS\\_REC'\n",
       "\\item 'GBS\\_REC'\n",
       "\\item 'GBS\\_REC'\n",
       "\\item 'GBS\\_REC'\n",
       "\\item 'GBS\\_REC'\n",
       "\\item 'GBS\\_REC'\n",
       "\\item 'GBS\\_REC'\n",
       "\\end{enumerate*}\n"
      ],
      "text/markdown": [
       "1. 'GBS'\n",
       "2. 'GBS'\n",
       "3. 'GBS'\n",
       "4. 'CONTROL'\n",
       "5. 'CONTROL'\n",
       "6. 'CONTROL'\n",
       "7. 'CONTROL'\n",
       "8. 'CONTROL'\n",
       "9. 'CONTROL'\n",
       "10. 'ZIKA'\n",
       "11. 'ZIKA'\n",
       "12. 'ZIKA'\n",
       "13. 'GBS'\n",
       "14. 'GBS'\n",
       "15. 'GBS'\n",
       "16. 'GBS'\n",
       "17. 'GBS'\n",
       "18. 'GBS'\n",
       "19. 'GBS_REC'\n",
       "20. 'GBS_REC'\n",
       "21. 'GBS_REC'\n",
       "22. 'CHIKV_REC'\n",
       "23. 'CHIKV_REC'\n",
       "24. 'CHIKV_REC'\n",
       "25. 'CONTROL'\n",
       "26. 'CONTROL'\n",
       "27. 'CONTROL'\n",
       "28. 'GBS'\n",
       "29. 'GBS'\n",
       "30. 'GBS'\n",
       "31. 'CONTROL'\n",
       "32. 'CONTROL'\n",
       "33. 'CONTROL'\n",
       "34. 'CHIKV'\n",
       "35. 'CHIKV'\n",
       "36. 'CHIKV'\n",
       "37. 'ZIKA'\n",
       "38. 'ZIKA'\n",
       "39. 'ZIKA'\n",
       "40. 'GBS'\n",
       "41. 'GBS'\n",
       "42. 'GBS'\n",
       "43. 'GBS_REC'\n",
       "44. 'GBS_REC'\n",
       "45. 'GBS_REC'\n",
       "46. 'GBS_REC'\n",
       "47. 'GBS_REC'\n",
       "48. 'GBS_REC'\n",
       "49. 'GBS_REC'\n",
       "50. 'GBS_REC'\n",
       "51. 'GBS_REC'\n",
       "52. 'CHIKV'\n",
       "53. 'CHIKV'\n",
       "54. 'CHIKV'\n",
       "55. 'CHIKV'\n",
       "56. 'CHIKV'\n",
       "57. 'CHIKV'\n",
       "58. 'CONTROL'\n",
       "59. 'CONTROL'\n",
       "60. 'CONTROL'\n",
       "61. 'CONTROL'\n",
       "62. 'CONTROL'\n",
       "63. 'CONTROL'\n",
       "64. 'CHIKV_REC'\n",
       "65. 'CHIKV_REC'\n",
       "66. 'CHIKV_REC'\n",
       "67. 'ZIKA'\n",
       "68. 'ZIKA'\n",
       "69. 'ZIKA'\n",
       "70. 'GBS_REC'\n",
       "71. 'GBS_REC'\n",
       "72. 'GBS_REC'\n",
       "73. 'GBS_REC'\n",
       "74. 'GBS_REC'\n",
       "75. 'GBS_REC'\n",
       "76. 'GBS'\n",
       "77. 'GBS'\n",
       "78. 'GBS'\n",
       "79. 'CHIKV'\n",
       "80. 'CHIKV'\n",
       "81. 'CHIKV'\n",
       "82. 'CHIKV_REC'\n",
       "83. 'CHIKV_REC'\n",
       "84. 'CHIKV_REC'\n",
       "85. 'CHIKV_REC'\n",
       "86. 'CHIKV_REC'\n",
       "87. 'CHIKV_REC'\n",
       "88. 'CHIKV_REC'\n",
       "89. 'CHIKV_REC'\n",
       "90. 'CHIKV_REC'\n",
       "91. 'CHIKV_REC'\n",
       "92. 'CHIKV_REC'\n",
       "93. 'CHIKV_REC'\n",
       "94. 'ZIKA'\n",
       "95. 'ZIKA'\n",
       "96. 'ZIKA'\n",
       "97. 'GBS_REC'\n",
       "98. 'GBS_REC'\n",
       "99. 'GBS_REC'\n",
       "100. 'GBS_REC'\n",
       "101. 'GBS_REC'\n",
       "102. 'GBS_REC'\n",
       "103. 'GBS_REC'\n",
       "104. 'GBS_REC'\n",
       "105. 'GBS_REC'\n",
       "\n",
       "\n"
      ],
      "text/plain": [
       "  [1] \"GBS\"       \"GBS\"       \"GBS\"       \"CONTROL\"   \"CONTROL\"   \"CONTROL\"  \n",
       "  [7] \"CONTROL\"   \"CONTROL\"   \"CONTROL\"   \"ZIKA\"      \"ZIKA\"      \"ZIKA\"     \n",
       " [13] \"GBS\"       \"GBS\"       \"GBS\"       \"GBS\"       \"GBS\"       \"GBS\"      \n",
       " [19] \"GBS_REC\"   \"GBS_REC\"   \"GBS_REC\"   \"CHIKV_REC\" \"CHIKV_REC\" \"CHIKV_REC\"\n",
       " [25] \"CONTROL\"   \"CONTROL\"   \"CONTROL\"   \"GBS\"       \"GBS\"       \"GBS\"      \n",
       " [31] \"CONTROL\"   \"CONTROL\"   \"CONTROL\"   \"CHIKV\"     \"CHIKV\"     \"CHIKV\"    \n",
       " [37] \"ZIKA\"      \"ZIKA\"      \"ZIKA\"      \"GBS\"       \"GBS\"       \"GBS\"      \n",
       " [43] \"GBS_REC\"   \"GBS_REC\"   \"GBS_REC\"   \"GBS_REC\"   \"GBS_REC\"   \"GBS_REC\"  \n",
       " [49] \"GBS_REC\"   \"GBS_REC\"   \"GBS_REC\"   \"CHIKV\"     \"CHIKV\"     \"CHIKV\"    \n",
       " [55] \"CHIKV\"     \"CHIKV\"     \"CHIKV\"     \"CONTROL\"   \"CONTROL\"   \"CONTROL\"  \n",
       " [61] \"CONTROL\"   \"CONTROL\"   \"CONTROL\"   \"CHIKV_REC\" \"CHIKV_REC\" \"CHIKV_REC\"\n",
       " [67] \"ZIKA\"      \"ZIKA\"      \"ZIKA\"      \"GBS_REC\"   \"GBS_REC\"   \"GBS_REC\"  \n",
       " [73] \"GBS_REC\"   \"GBS_REC\"   \"GBS_REC\"   \"GBS\"       \"GBS\"       \"GBS\"      \n",
       " [79] \"CHIKV\"     \"CHIKV\"     \"CHIKV\"     \"CHIKV_REC\" \"CHIKV_REC\" \"CHIKV_REC\"\n",
       " [85] \"CHIKV_REC\" \"CHIKV_REC\" \"CHIKV_REC\" \"CHIKV_REC\" \"CHIKV_REC\" \"CHIKV_REC\"\n",
       " [91] \"CHIKV_REC\" \"CHIKV_REC\" \"CHIKV_REC\" \"ZIKA\"      \"ZIKA\"      \"ZIKA\"     \n",
       " [97] \"GBS_REC\"   \"GBS_REC\"   \"GBS_REC\"   \"GBS_REC\"   \"GBS_REC\"   \"GBS_REC\"  \n",
       "[103] \"GBS_REC\"   \"GBS_REC\"   \"GBS_REC\"  "
      ]
     },
     "metadata": {},
     "output_type": "display_data"
    },
    {
     "data": {
      "text/html": [
       "105"
      ],
      "text/latex": [
       "105"
      ],
      "text/markdown": [
       "105"
      ],
      "text/plain": [
       "[1] 105"
      ]
     },
     "metadata": {},
     "output_type": "display_data"
    }
   ],
   "source": [
    "pop              # ZIKA, CHIKV, CHIKV_REC, GBS, GBS_REC, CONTROL\n",
    "length(pop)      # 105"
   ]
  },
  {
   "cell_type": "code",
   "execution_count": 4,
   "metadata": {},
   "outputs": [
    {
     "data": {
      "text/html": [
       "<ol class=list-inline>\n",
       "\t<li>'IMT-UFRN'</li>\n",
       "\t<li>'IMT-UFRN'</li>\n",
       "\t<li>'IMT-UFRN'</li>\n",
       "\t<li>'IMT-UFRN'</li>\n",
       "\t<li>'IMT-UFRN'</li>\n",
       "\t<li>'IMT-UFRN'</li>\n",
       "\t<li>'IMT-UFRN'</li>\n",
       "\t<li>'IMT-UFRN'</li>\n",
       "\t<li>'IMT-UFRN'</li>\n",
       "\t<li>'IMT-UFRN'</li>\n",
       "\t<li>'IMT-UFRN'</li>\n",
       "\t<li>'IMT-UFRN'</li>\n",
       "\t<li>'IMT-UFRN'</li>\n",
       "\t<li>'IMT-UFRN'</li>\n",
       "\t<li>'IMT-UFRN'</li>\n",
       "\t<li>'IMT-UFRN'</li>\n",
       "\t<li>'IMT-UFRN'</li>\n",
       "\t<li>'IMT-UFRN'</li>\n",
       "\t<li>'IMT-UFRN'</li>\n",
       "\t<li>'IMT-UFRN'</li>\n",
       "\t<li>'IMT-UFRN'</li>\n",
       "\t<li>'IMT-UFRN'</li>\n",
       "\t<li>'IMT-UFRN'</li>\n",
       "\t<li>'IMT-UFRN'</li>\n",
       "\t<li>'IMT-UFRN'</li>\n",
       "\t<li>'IMT-UFRN'</li>\n",
       "\t<li>'IMT-UFRN'</li>\n",
       "\t<li>'IMT-UFRN'</li>\n",
       "\t<li>'IMT-UFRN'</li>\n",
       "\t<li>'IMT-UFRN'</li>\n",
       "\t<li>'IMT-UFRN'</li>\n",
       "\t<li>'IMT-UFRN'</li>\n",
       "\t<li>'IMT-UFRN'</li>\n",
       "\t<li>'IMT-UFRN'</li>\n",
       "\t<li>'IMT-UFRN'</li>\n",
       "\t<li>'IMT-UFRN'</li>\n",
       "\t<li>'IMT-UFRN'</li>\n",
       "\t<li>'IMT-UFRN'</li>\n",
       "\t<li>'IMT-UFRN'</li>\n",
       "\t<li>'IMT-UFRN'</li>\n",
       "\t<li>'IMT-UFRN'</li>\n",
       "\t<li>'IMT-UFRN'</li>\n",
       "\t<li>'IMT-UFRN'</li>\n",
       "\t<li>'IMT-UFRN'</li>\n",
       "\t<li>'IMT-UFRN'</li>\n",
       "\t<li>'IMT-UFRN'</li>\n",
       "\t<li>'IMT-UFRN'</li>\n",
       "\t<li>'IMT-UFRN'</li>\n",
       "\t<li>'IMT-UFRN'</li>\n",
       "\t<li>'IMT-UFRN'</li>\n",
       "\t<li>'IMT-UFRN'</li>\n",
       "\t<li>'IMT-UFRN'</li>\n",
       "\t<li>'IMT-UFRN'</li>\n",
       "\t<li>'IMT-UFRN'</li>\n",
       "\t<li>'IMT-UFRN'</li>\n",
       "\t<li>'IMT-UFRN'</li>\n",
       "\t<li>'IMT-UFRN'</li>\n",
       "\t<li>'IMT-UFRN'</li>\n",
       "\t<li>'IMT-UFRN'</li>\n",
       "\t<li>'IMT-UFRN'</li>\n",
       "\t<li>'IMT-UFRN'</li>\n",
       "\t<li>'IMT-UFRN'</li>\n",
       "\t<li>'IMT-UFRN'</li>\n",
       "\t<li>'IMT-UFRN'</li>\n",
       "\t<li>'IMT-UFRN'</li>\n",
       "\t<li>'IMT-UFRN'</li>\n",
       "\t<li>'IMT-UFRN'</li>\n",
       "\t<li>'IMT-UFRN'</li>\n",
       "\t<li>'IMT-UFRN'</li>\n",
       "\t<li>'IMT-UFRN'</li>\n",
       "\t<li>'IMT-UFRN'</li>\n",
       "\t<li>'IMT-UFRN'</li>\n",
       "\t<li>'IMT-UFRN'</li>\n",
       "\t<li>'IMT-UFRN'</li>\n",
       "\t<li>'IMT-UFRN'</li>\n",
       "\t<li>'IMT-UFRN'</li>\n",
       "\t<li>'IMT-UFRN'</li>\n",
       "\t<li>'IMT-UFRN'</li>\n",
       "\t<li>'IMT-UFRN'</li>\n",
       "\t<li>'IMT-UFRN'</li>\n",
       "\t<li>'IMT-UFRN'</li>\n",
       "\t<li>'IMT-UFRN'</li>\n",
       "\t<li>'IMT-UFRN'</li>\n",
       "\t<li>'IMT-UFRN'</li>\n",
       "\t<li>'IMT-UFRN'</li>\n",
       "\t<li>'IMT-UFRN'</li>\n",
       "\t<li>'IMT-UFRN'</li>\n",
       "\t<li>'IMT-UFRN'</li>\n",
       "\t<li>'IMT-UFRN'</li>\n",
       "\t<li>'IMT-UFRN'</li>\n",
       "\t<li>'IMT-UFRN'</li>\n",
       "\t<li>'IMT-UFRN'</li>\n",
       "\t<li>'IMT-UFRN'</li>\n",
       "\t<li>'IMT-UFRN'</li>\n",
       "\t<li>'IMT-UFRN'</li>\n",
       "\t<li>'IMT-UFRN'</li>\n",
       "\t<li>'IMT-UFRN'</li>\n",
       "\t<li>'IMT-UFRN'</li>\n",
       "\t<li>'IMT-UFRN'</li>\n",
       "\t<li>'IMT-UFRN'</li>\n",
       "\t<li>'IMT-UFRN'</li>\n",
       "\t<li>'IMT-UFRN'</li>\n",
       "\t<li>'IMT-UFRN'</li>\n",
       "\t<li>'IMT-UFRN'</li>\n",
       "\t<li>'IMT-UFRN'</li>\n",
       "</ol>\n"
      ],
      "text/latex": [
       "\\begin{enumerate*}\n",
       "\\item 'IMT-UFRN'\n",
       "\\item 'IMT-UFRN'\n",
       "\\item 'IMT-UFRN'\n",
       "\\item 'IMT-UFRN'\n",
       "\\item 'IMT-UFRN'\n",
       "\\item 'IMT-UFRN'\n",
       "\\item 'IMT-UFRN'\n",
       "\\item 'IMT-UFRN'\n",
       "\\item 'IMT-UFRN'\n",
       "\\item 'IMT-UFRN'\n",
       "\\item 'IMT-UFRN'\n",
       "\\item 'IMT-UFRN'\n",
       "\\item 'IMT-UFRN'\n",
       "\\item 'IMT-UFRN'\n",
       "\\item 'IMT-UFRN'\n",
       "\\item 'IMT-UFRN'\n",
       "\\item 'IMT-UFRN'\n",
       "\\item 'IMT-UFRN'\n",
       "\\item 'IMT-UFRN'\n",
       "\\item 'IMT-UFRN'\n",
       "\\item 'IMT-UFRN'\n",
       "\\item 'IMT-UFRN'\n",
       "\\item 'IMT-UFRN'\n",
       "\\item 'IMT-UFRN'\n",
       "\\item 'IMT-UFRN'\n",
       "\\item 'IMT-UFRN'\n",
       "\\item 'IMT-UFRN'\n",
       "\\item 'IMT-UFRN'\n",
       "\\item 'IMT-UFRN'\n",
       "\\item 'IMT-UFRN'\n",
       "\\item 'IMT-UFRN'\n",
       "\\item 'IMT-UFRN'\n",
       "\\item 'IMT-UFRN'\n",
       "\\item 'IMT-UFRN'\n",
       "\\item 'IMT-UFRN'\n",
       "\\item 'IMT-UFRN'\n",
       "\\item 'IMT-UFRN'\n",
       "\\item 'IMT-UFRN'\n",
       "\\item 'IMT-UFRN'\n",
       "\\item 'IMT-UFRN'\n",
       "\\item 'IMT-UFRN'\n",
       "\\item 'IMT-UFRN'\n",
       "\\item 'IMT-UFRN'\n",
       "\\item 'IMT-UFRN'\n",
       "\\item 'IMT-UFRN'\n",
       "\\item 'IMT-UFRN'\n",
       "\\item 'IMT-UFRN'\n",
       "\\item 'IMT-UFRN'\n",
       "\\item 'IMT-UFRN'\n",
       "\\item 'IMT-UFRN'\n",
       "\\item 'IMT-UFRN'\n",
       "\\item 'IMT-UFRN'\n",
       "\\item 'IMT-UFRN'\n",
       "\\item 'IMT-UFRN'\n",
       "\\item 'IMT-UFRN'\n",
       "\\item 'IMT-UFRN'\n",
       "\\item 'IMT-UFRN'\n",
       "\\item 'IMT-UFRN'\n",
       "\\item 'IMT-UFRN'\n",
       "\\item 'IMT-UFRN'\n",
       "\\item 'IMT-UFRN'\n",
       "\\item 'IMT-UFRN'\n",
       "\\item 'IMT-UFRN'\n",
       "\\item 'IMT-UFRN'\n",
       "\\item 'IMT-UFRN'\n",
       "\\item 'IMT-UFRN'\n",
       "\\item 'IMT-UFRN'\n",
       "\\item 'IMT-UFRN'\n",
       "\\item 'IMT-UFRN'\n",
       "\\item 'IMT-UFRN'\n",
       "\\item 'IMT-UFRN'\n",
       "\\item 'IMT-UFRN'\n",
       "\\item 'IMT-UFRN'\n",
       "\\item 'IMT-UFRN'\n",
       "\\item 'IMT-UFRN'\n",
       "\\item 'IMT-UFRN'\n",
       "\\item 'IMT-UFRN'\n",
       "\\item 'IMT-UFRN'\n",
       "\\item 'IMT-UFRN'\n",
       "\\item 'IMT-UFRN'\n",
       "\\item 'IMT-UFRN'\n",
       "\\item 'IMT-UFRN'\n",
       "\\item 'IMT-UFRN'\n",
       "\\item 'IMT-UFRN'\n",
       "\\item 'IMT-UFRN'\n",
       "\\item 'IMT-UFRN'\n",
       "\\item 'IMT-UFRN'\n",
       "\\item 'IMT-UFRN'\n",
       "\\item 'IMT-UFRN'\n",
       "\\item 'IMT-UFRN'\n",
       "\\item 'IMT-UFRN'\n",
       "\\item 'IMT-UFRN'\n",
       "\\item 'IMT-UFRN'\n",
       "\\item 'IMT-UFRN'\n",
       "\\item 'IMT-UFRN'\n",
       "\\item 'IMT-UFRN'\n",
       "\\item 'IMT-UFRN'\n",
       "\\item 'IMT-UFRN'\n",
       "\\item 'IMT-UFRN'\n",
       "\\item 'IMT-UFRN'\n",
       "\\item 'IMT-UFRN'\n",
       "\\item 'IMT-UFRN'\n",
       "\\item 'IMT-UFRN'\n",
       "\\item 'IMT-UFRN'\n",
       "\\item 'IMT-UFRN'\n",
       "\\end{enumerate*}\n"
      ],
      "text/markdown": [
       "1. 'IMT-UFRN'\n",
       "2. 'IMT-UFRN'\n",
       "3. 'IMT-UFRN'\n",
       "4. 'IMT-UFRN'\n",
       "5. 'IMT-UFRN'\n",
       "6. 'IMT-UFRN'\n",
       "7. 'IMT-UFRN'\n",
       "8. 'IMT-UFRN'\n",
       "9. 'IMT-UFRN'\n",
       "10. 'IMT-UFRN'\n",
       "11. 'IMT-UFRN'\n",
       "12. 'IMT-UFRN'\n",
       "13. 'IMT-UFRN'\n",
       "14. 'IMT-UFRN'\n",
       "15. 'IMT-UFRN'\n",
       "16. 'IMT-UFRN'\n",
       "17. 'IMT-UFRN'\n",
       "18. 'IMT-UFRN'\n",
       "19. 'IMT-UFRN'\n",
       "20. 'IMT-UFRN'\n",
       "21. 'IMT-UFRN'\n",
       "22. 'IMT-UFRN'\n",
       "23. 'IMT-UFRN'\n",
       "24. 'IMT-UFRN'\n",
       "25. 'IMT-UFRN'\n",
       "26. 'IMT-UFRN'\n",
       "27. 'IMT-UFRN'\n",
       "28. 'IMT-UFRN'\n",
       "29. 'IMT-UFRN'\n",
       "30. 'IMT-UFRN'\n",
       "31. 'IMT-UFRN'\n",
       "32. 'IMT-UFRN'\n",
       "33. 'IMT-UFRN'\n",
       "34. 'IMT-UFRN'\n",
       "35. 'IMT-UFRN'\n",
       "36. 'IMT-UFRN'\n",
       "37. 'IMT-UFRN'\n",
       "38. 'IMT-UFRN'\n",
       "39. 'IMT-UFRN'\n",
       "40. 'IMT-UFRN'\n",
       "41. 'IMT-UFRN'\n",
       "42. 'IMT-UFRN'\n",
       "43. 'IMT-UFRN'\n",
       "44. 'IMT-UFRN'\n",
       "45. 'IMT-UFRN'\n",
       "46. 'IMT-UFRN'\n",
       "47. 'IMT-UFRN'\n",
       "48. 'IMT-UFRN'\n",
       "49. 'IMT-UFRN'\n",
       "50. 'IMT-UFRN'\n",
       "51. 'IMT-UFRN'\n",
       "52. 'IMT-UFRN'\n",
       "53. 'IMT-UFRN'\n",
       "54. 'IMT-UFRN'\n",
       "55. 'IMT-UFRN'\n",
       "56. 'IMT-UFRN'\n",
       "57. 'IMT-UFRN'\n",
       "58. 'IMT-UFRN'\n",
       "59. 'IMT-UFRN'\n",
       "60. 'IMT-UFRN'\n",
       "61. 'IMT-UFRN'\n",
       "62. 'IMT-UFRN'\n",
       "63. 'IMT-UFRN'\n",
       "64. 'IMT-UFRN'\n",
       "65. 'IMT-UFRN'\n",
       "66. 'IMT-UFRN'\n",
       "67. 'IMT-UFRN'\n",
       "68. 'IMT-UFRN'\n",
       "69. 'IMT-UFRN'\n",
       "70. 'IMT-UFRN'\n",
       "71. 'IMT-UFRN'\n",
       "72. 'IMT-UFRN'\n",
       "73. 'IMT-UFRN'\n",
       "74. 'IMT-UFRN'\n",
       "75. 'IMT-UFRN'\n",
       "76. 'IMT-UFRN'\n",
       "77. 'IMT-UFRN'\n",
       "78. 'IMT-UFRN'\n",
       "79. 'IMT-UFRN'\n",
       "80. 'IMT-UFRN'\n",
       "81. 'IMT-UFRN'\n",
       "82. 'IMT-UFRN'\n",
       "83. 'IMT-UFRN'\n",
       "84. 'IMT-UFRN'\n",
       "85. 'IMT-UFRN'\n",
       "86. 'IMT-UFRN'\n",
       "87. 'IMT-UFRN'\n",
       "88. 'IMT-UFRN'\n",
       "89. 'IMT-UFRN'\n",
       "90. 'IMT-UFRN'\n",
       "91. 'IMT-UFRN'\n",
       "92. 'IMT-UFRN'\n",
       "93. 'IMT-UFRN'\n",
       "94. 'IMT-UFRN'\n",
       "95. 'IMT-UFRN'\n",
       "96. 'IMT-UFRN'\n",
       "97. 'IMT-UFRN'\n",
       "98. 'IMT-UFRN'\n",
       "99. 'IMT-UFRN'\n",
       "100. 'IMT-UFRN'\n",
       "101. 'IMT-UFRN'\n",
       "102. 'IMT-UFRN'\n",
       "103. 'IMT-UFRN'\n",
       "104. 'IMT-UFRN'\n",
       "105. 'IMT-UFRN'\n",
       "\n",
       "\n"
      ],
      "text/plain": [
       "  [1] \"IMT-UFRN\" \"IMT-UFRN\" \"IMT-UFRN\" \"IMT-UFRN\" \"IMT-UFRN\" \"IMT-UFRN\"\n",
       "  [7] \"IMT-UFRN\" \"IMT-UFRN\" \"IMT-UFRN\" \"IMT-UFRN\" \"IMT-UFRN\" \"IMT-UFRN\"\n",
       " [13] \"IMT-UFRN\" \"IMT-UFRN\" \"IMT-UFRN\" \"IMT-UFRN\" \"IMT-UFRN\" \"IMT-UFRN\"\n",
       " [19] \"IMT-UFRN\" \"IMT-UFRN\" \"IMT-UFRN\" \"IMT-UFRN\" \"IMT-UFRN\" \"IMT-UFRN\"\n",
       " [25] \"IMT-UFRN\" \"IMT-UFRN\" \"IMT-UFRN\" \"IMT-UFRN\" \"IMT-UFRN\" \"IMT-UFRN\"\n",
       " [31] \"IMT-UFRN\" \"IMT-UFRN\" \"IMT-UFRN\" \"IMT-UFRN\" \"IMT-UFRN\" \"IMT-UFRN\"\n",
       " [37] \"IMT-UFRN\" \"IMT-UFRN\" \"IMT-UFRN\" \"IMT-UFRN\" \"IMT-UFRN\" \"IMT-UFRN\"\n",
       " [43] \"IMT-UFRN\" \"IMT-UFRN\" \"IMT-UFRN\" \"IMT-UFRN\" \"IMT-UFRN\" \"IMT-UFRN\"\n",
       " [49] \"IMT-UFRN\" \"IMT-UFRN\" \"IMT-UFRN\" \"IMT-UFRN\" \"IMT-UFRN\" \"IMT-UFRN\"\n",
       " [55] \"IMT-UFRN\" \"IMT-UFRN\" \"IMT-UFRN\" \"IMT-UFRN\" \"IMT-UFRN\" \"IMT-UFRN\"\n",
       " [61] \"IMT-UFRN\" \"IMT-UFRN\" \"IMT-UFRN\" \"IMT-UFRN\" \"IMT-UFRN\" \"IMT-UFRN\"\n",
       " [67] \"IMT-UFRN\" \"IMT-UFRN\" \"IMT-UFRN\" \"IMT-UFRN\" \"IMT-UFRN\" \"IMT-UFRN\"\n",
       " [73] \"IMT-UFRN\" \"IMT-UFRN\" \"IMT-UFRN\" \"IMT-UFRN\" \"IMT-UFRN\" \"IMT-UFRN\"\n",
       " [79] \"IMT-UFRN\" \"IMT-UFRN\" \"IMT-UFRN\" \"IMT-UFRN\" \"IMT-UFRN\" \"IMT-UFRN\"\n",
       " [85] \"IMT-UFRN\" \"IMT-UFRN\" \"IMT-UFRN\" \"IMT-UFRN\" \"IMT-UFRN\" \"IMT-UFRN\"\n",
       " [91] \"IMT-UFRN\" \"IMT-UFRN\" \"IMT-UFRN\" \"IMT-UFRN\" \"IMT-UFRN\" \"IMT-UFRN\"\n",
       " [97] \"IMT-UFRN\" \"IMT-UFRN\" \"IMT-UFRN\" \"IMT-UFRN\" \"IMT-UFRN\" \"IMT-UFRN\"\n",
       "[103] \"IMT-UFRN\" \"IMT-UFRN\" \"IMT-UFRN\""
      ]
     },
     "metadata": {},
     "output_type": "display_data"
    },
    {
     "data": {
      "text/html": [
       "105"
      ],
      "text/latex": [
       "105"
      ],
      "text/markdown": [
       "105"
      ],
      "text/plain": [
       "[1] 105"
      ]
     },
     "metadata": {},
     "output_type": "display_data"
    },
    {
     "data": {
      "text/html": [
       "<ol class=list-inline>\n",
       "\t<li>'1_rep1'</li>\n",
       "\t<li>'1_rep2'</li>\n",
       "\t<li>'1_rep3'</li>\n",
       "\t<li>'10_rep1'</li>\n",
       "\t<li>'10_rep2'</li>\n",
       "\t<li>'10_rep3'</li>\n",
       "\t<li>'11_rep1'</li>\n",
       "\t<li>'11_rep2'</li>\n",
       "\t<li>'11_rep3'</li>\n",
       "\t<li>'12_rep1'</li>\n",
       "\t<li>'12_rep2'</li>\n",
       "\t<li>'12_rep3'</li>\n",
       "\t<li>'13_rep1'</li>\n",
       "\t<li>'13_rep2'</li>\n",
       "\t<li>'13_rep3'</li>\n",
       "\t<li>'14_rep1'</li>\n",
       "\t<li>'14_rep2'</li>\n",
       "\t<li>'14_rep3'</li>\n",
       "\t<li>'16_rep1'</li>\n",
       "\t<li>'16_rep2'</li>\n",
       "\t<li>'16_rep3'</li>\n",
       "\t<li>'18_rep1'</li>\n",
       "\t<li>'18_rep2'</li>\n",
       "\t<li>'18_rep3'</li>\n",
       "\t<li>'19_rep1'</li>\n",
       "\t<li>'19_rep2'</li>\n",
       "\t<li>'19_rep3'</li>\n",
       "\t<li>'2_rep1'</li>\n",
       "\t<li>'2_rep2'</li>\n",
       "\t<li>'2_rep3'</li>\n",
       "\t<li>'20_rep1'</li>\n",
       "\t<li>'20_rep2'</li>\n",
       "\t<li>'20_rep3'</li>\n",
       "\t<li>'22_rep1'</li>\n",
       "\t<li>'22_rep2'</li>\n",
       "\t<li>'22_rep3'</li>\n",
       "\t<li>'24_rep1'</li>\n",
       "\t<li>'24_rep2'</li>\n",
       "\t<li>'24_rep3'</li>\n",
       "\t<li>'25_rep1'</li>\n",
       "\t<li>'25_rep2'</li>\n",
       "\t<li>'25_rep3'</li>\n",
       "\t<li>'27_rep1'</li>\n",
       "\t<li>'27_rep2'</li>\n",
       "\t<li>'27_rep3'</li>\n",
       "\t<li>'28_rep1'</li>\n",
       "\t<li>'28_rep2'</li>\n",
       "\t<li>'28_rep3'</li>\n",
       "\t<li>'30_rep1'</li>\n",
       "\t<li>'30_rep2'</li>\n",
       "\t<li>'30_rep3'</li>\n",
       "\t<li>'31_rep1'</li>\n",
       "\t<li>'31_rep2'</li>\n",
       "\t<li>'31_rep3'</li>\n",
       "\t<li>'32_rep1'</li>\n",
       "\t<li>'32_rep2'</li>\n",
       "\t<li>'32_rep3'</li>\n",
       "\t<li>'33_rep1'</li>\n",
       "\t<li>'33_rep2'</li>\n",
       "\t<li>'33_rep3'</li>\n",
       "\t<li>'34_rep1'</li>\n",
       "\t<li>'34_rep2'</li>\n",
       "\t<li>'34_rep3'</li>\n",
       "\t<li>'35_rep1'</li>\n",
       "\t<li>'35_rep2'</li>\n",
       "\t<li>'35_rep3'</li>\n",
       "\t<li>'36_rep1'</li>\n",
       "\t<li>'36_rep2'</li>\n",
       "\t<li>'36_rep3'</li>\n",
       "\t<li>'38_rep1'</li>\n",
       "\t<li>'38_rep2'</li>\n",
       "\t<li>'38_rep3'</li>\n",
       "\t<li>'39_rep1'</li>\n",
       "\t<li>'39_rep2'</li>\n",
       "\t<li>'39_rep3'</li>\n",
       "\t<li>'4_rep1'</li>\n",
       "\t<li>'4_rep2'</li>\n",
       "\t<li>'4_rep3'</li>\n",
       "\t<li>'40_rep1'</li>\n",
       "\t<li>'40_rep2'</li>\n",
       "\t<li>'40_rep3'</li>\n",
       "\t<li>'41_rep1'</li>\n",
       "\t<li>'41_rep2'</li>\n",
       "\t<li>'41_rep3'</li>\n",
       "\t<li>'42_rep1'</li>\n",
       "\t<li>'42_rep2'</li>\n",
       "\t<li>'42_rep3'</li>\n",
       "\t<li>'46_rep1'</li>\n",
       "\t<li>'46_rep2'</li>\n",
       "\t<li>'46_rep3'</li>\n",
       "\t<li>'47_rep1'</li>\n",
       "\t<li>'47_rep2'</li>\n",
       "\t<li>'47_rep3'</li>\n",
       "\t<li>'48_rep1'</li>\n",
       "\t<li>'48_rep2'</li>\n",
       "\t<li>'48_rep3'</li>\n",
       "\t<li>'7_rep1'</li>\n",
       "\t<li>'7_rep2'</li>\n",
       "\t<li>'7_rep3'</li>\n",
       "\t<li>'8_rep1'</li>\n",
       "\t<li>'8_rep2'</li>\n",
       "\t<li>'8_rep3'</li>\n",
       "\t<li>'9_rep1'</li>\n",
       "\t<li>'9_rep2'</li>\n",
       "\t<li>'9_rep3'</li>\n",
       "</ol>\n"
      ],
      "text/latex": [
       "\\begin{enumerate*}\n",
       "\\item '1\\_rep1'\n",
       "\\item '1\\_rep2'\n",
       "\\item '1\\_rep3'\n",
       "\\item '10\\_rep1'\n",
       "\\item '10\\_rep2'\n",
       "\\item '10\\_rep3'\n",
       "\\item '11\\_rep1'\n",
       "\\item '11\\_rep2'\n",
       "\\item '11\\_rep3'\n",
       "\\item '12\\_rep1'\n",
       "\\item '12\\_rep2'\n",
       "\\item '12\\_rep3'\n",
       "\\item '13\\_rep1'\n",
       "\\item '13\\_rep2'\n",
       "\\item '13\\_rep3'\n",
       "\\item '14\\_rep1'\n",
       "\\item '14\\_rep2'\n",
       "\\item '14\\_rep3'\n",
       "\\item '16\\_rep1'\n",
       "\\item '16\\_rep2'\n",
       "\\item '16\\_rep3'\n",
       "\\item '18\\_rep1'\n",
       "\\item '18\\_rep2'\n",
       "\\item '18\\_rep3'\n",
       "\\item '19\\_rep1'\n",
       "\\item '19\\_rep2'\n",
       "\\item '19\\_rep3'\n",
       "\\item '2\\_rep1'\n",
       "\\item '2\\_rep2'\n",
       "\\item '2\\_rep3'\n",
       "\\item '20\\_rep1'\n",
       "\\item '20\\_rep2'\n",
       "\\item '20\\_rep3'\n",
       "\\item '22\\_rep1'\n",
       "\\item '22\\_rep2'\n",
       "\\item '22\\_rep3'\n",
       "\\item '24\\_rep1'\n",
       "\\item '24\\_rep2'\n",
       "\\item '24\\_rep3'\n",
       "\\item '25\\_rep1'\n",
       "\\item '25\\_rep2'\n",
       "\\item '25\\_rep3'\n",
       "\\item '27\\_rep1'\n",
       "\\item '27\\_rep2'\n",
       "\\item '27\\_rep3'\n",
       "\\item '28\\_rep1'\n",
       "\\item '28\\_rep2'\n",
       "\\item '28\\_rep3'\n",
       "\\item '30\\_rep1'\n",
       "\\item '30\\_rep2'\n",
       "\\item '30\\_rep3'\n",
       "\\item '31\\_rep1'\n",
       "\\item '31\\_rep2'\n",
       "\\item '31\\_rep3'\n",
       "\\item '32\\_rep1'\n",
       "\\item '32\\_rep2'\n",
       "\\item '32\\_rep3'\n",
       "\\item '33\\_rep1'\n",
       "\\item '33\\_rep2'\n",
       "\\item '33\\_rep3'\n",
       "\\item '34\\_rep1'\n",
       "\\item '34\\_rep2'\n",
       "\\item '34\\_rep3'\n",
       "\\item '35\\_rep1'\n",
       "\\item '35\\_rep2'\n",
       "\\item '35\\_rep3'\n",
       "\\item '36\\_rep1'\n",
       "\\item '36\\_rep2'\n",
       "\\item '36\\_rep3'\n",
       "\\item '38\\_rep1'\n",
       "\\item '38\\_rep2'\n",
       "\\item '38\\_rep3'\n",
       "\\item '39\\_rep1'\n",
       "\\item '39\\_rep2'\n",
       "\\item '39\\_rep3'\n",
       "\\item '4\\_rep1'\n",
       "\\item '4\\_rep2'\n",
       "\\item '4\\_rep3'\n",
       "\\item '40\\_rep1'\n",
       "\\item '40\\_rep2'\n",
       "\\item '40\\_rep3'\n",
       "\\item '41\\_rep1'\n",
       "\\item '41\\_rep2'\n",
       "\\item '41\\_rep3'\n",
       "\\item '42\\_rep1'\n",
       "\\item '42\\_rep2'\n",
       "\\item '42\\_rep3'\n",
       "\\item '46\\_rep1'\n",
       "\\item '46\\_rep2'\n",
       "\\item '46\\_rep3'\n",
       "\\item '47\\_rep1'\n",
       "\\item '47\\_rep2'\n",
       "\\item '47\\_rep3'\n",
       "\\item '48\\_rep1'\n",
       "\\item '48\\_rep2'\n",
       "\\item '48\\_rep3'\n",
       "\\item '7\\_rep1'\n",
       "\\item '7\\_rep2'\n",
       "\\item '7\\_rep3'\n",
       "\\item '8\\_rep1'\n",
       "\\item '8\\_rep2'\n",
       "\\item '8\\_rep3'\n",
       "\\item '9\\_rep1'\n",
       "\\item '9\\_rep2'\n",
       "\\item '9\\_rep3'\n",
       "\\end{enumerate*}\n"
      ],
      "text/markdown": [
       "1. '1_rep1'\n",
       "2. '1_rep2'\n",
       "3. '1_rep3'\n",
       "4. '10_rep1'\n",
       "5. '10_rep2'\n",
       "6. '10_rep3'\n",
       "7. '11_rep1'\n",
       "8. '11_rep2'\n",
       "9. '11_rep3'\n",
       "10. '12_rep1'\n",
       "11. '12_rep2'\n",
       "12. '12_rep3'\n",
       "13. '13_rep1'\n",
       "14. '13_rep2'\n",
       "15. '13_rep3'\n",
       "16. '14_rep1'\n",
       "17. '14_rep2'\n",
       "18. '14_rep3'\n",
       "19. '16_rep1'\n",
       "20. '16_rep2'\n",
       "21. '16_rep3'\n",
       "22. '18_rep1'\n",
       "23. '18_rep2'\n",
       "24. '18_rep3'\n",
       "25. '19_rep1'\n",
       "26. '19_rep2'\n",
       "27. '19_rep3'\n",
       "28. '2_rep1'\n",
       "29. '2_rep2'\n",
       "30. '2_rep3'\n",
       "31. '20_rep1'\n",
       "32. '20_rep2'\n",
       "33. '20_rep3'\n",
       "34. '22_rep1'\n",
       "35. '22_rep2'\n",
       "36. '22_rep3'\n",
       "37. '24_rep1'\n",
       "38. '24_rep2'\n",
       "39. '24_rep3'\n",
       "40. '25_rep1'\n",
       "41. '25_rep2'\n",
       "42. '25_rep3'\n",
       "43. '27_rep1'\n",
       "44. '27_rep2'\n",
       "45. '27_rep3'\n",
       "46. '28_rep1'\n",
       "47. '28_rep2'\n",
       "48. '28_rep3'\n",
       "49. '30_rep1'\n",
       "50. '30_rep2'\n",
       "51. '30_rep3'\n",
       "52. '31_rep1'\n",
       "53. '31_rep2'\n",
       "54. '31_rep3'\n",
       "55. '32_rep1'\n",
       "56. '32_rep2'\n",
       "57. '32_rep3'\n",
       "58. '33_rep1'\n",
       "59. '33_rep2'\n",
       "60. '33_rep3'\n",
       "61. '34_rep1'\n",
       "62. '34_rep2'\n",
       "63. '34_rep3'\n",
       "64. '35_rep1'\n",
       "65. '35_rep2'\n",
       "66. '35_rep3'\n",
       "67. '36_rep1'\n",
       "68. '36_rep2'\n",
       "69. '36_rep3'\n",
       "70. '38_rep1'\n",
       "71. '38_rep2'\n",
       "72. '38_rep3'\n",
       "73. '39_rep1'\n",
       "74. '39_rep2'\n",
       "75. '39_rep3'\n",
       "76. '4_rep1'\n",
       "77. '4_rep2'\n",
       "78. '4_rep3'\n",
       "79. '40_rep1'\n",
       "80. '40_rep2'\n",
       "81. '40_rep3'\n",
       "82. '41_rep1'\n",
       "83. '41_rep2'\n",
       "84. '41_rep3'\n",
       "85. '42_rep1'\n",
       "86. '42_rep2'\n",
       "87. '42_rep3'\n",
       "88. '46_rep1'\n",
       "89. '46_rep2'\n",
       "90. '46_rep3'\n",
       "91. '47_rep1'\n",
       "92. '47_rep2'\n",
       "93. '47_rep3'\n",
       "94. '48_rep1'\n",
       "95. '48_rep2'\n",
       "96. '48_rep3'\n",
       "97. '7_rep1'\n",
       "98. '7_rep2'\n",
       "99. '7_rep3'\n",
       "100. '8_rep1'\n",
       "101. '8_rep2'\n",
       "102. '8_rep3'\n",
       "103. '9_rep1'\n",
       "104. '9_rep2'\n",
       "105. '9_rep3'\n",
       "\n",
       "\n"
      ],
      "text/plain": [
       "  [1] \"1_rep1\"  \"1_rep2\"  \"1_rep3\"  \"10_rep1\" \"10_rep2\" \"10_rep3\" \"11_rep1\"\n",
       "  [8] \"11_rep2\" \"11_rep3\" \"12_rep1\" \"12_rep2\" \"12_rep3\" \"13_rep1\" \"13_rep2\"\n",
       " [15] \"13_rep3\" \"14_rep1\" \"14_rep2\" \"14_rep3\" \"16_rep1\" \"16_rep2\" \"16_rep3\"\n",
       " [22] \"18_rep1\" \"18_rep2\" \"18_rep3\" \"19_rep1\" \"19_rep2\" \"19_rep3\" \"2_rep1\" \n",
       " [29] \"2_rep2\"  \"2_rep3\"  \"20_rep1\" \"20_rep2\" \"20_rep3\" \"22_rep1\" \"22_rep2\"\n",
       " [36] \"22_rep3\" \"24_rep1\" \"24_rep2\" \"24_rep3\" \"25_rep1\" \"25_rep2\" \"25_rep3\"\n",
       " [43] \"27_rep1\" \"27_rep2\" \"27_rep3\" \"28_rep1\" \"28_rep2\" \"28_rep3\" \"30_rep1\"\n",
       " [50] \"30_rep2\" \"30_rep3\" \"31_rep1\" \"31_rep2\" \"31_rep3\" \"32_rep1\" \"32_rep2\"\n",
       " [57] \"32_rep3\" \"33_rep1\" \"33_rep2\" \"33_rep3\" \"34_rep1\" \"34_rep2\" \"34_rep3\"\n",
       " [64] \"35_rep1\" \"35_rep2\" \"35_rep3\" \"36_rep1\" \"36_rep2\" \"36_rep3\" \"38_rep1\"\n",
       " [71] \"38_rep2\" \"38_rep3\" \"39_rep1\" \"39_rep2\" \"39_rep3\" \"4_rep1\"  \"4_rep2\" \n",
       " [78] \"4_rep3\"  \"40_rep1\" \"40_rep2\" \"40_rep3\" \"41_rep1\" \"41_rep2\" \"41_rep3\"\n",
       " [85] \"42_rep1\" \"42_rep2\" \"42_rep3\" \"46_rep1\" \"46_rep2\" \"46_rep3\" \"47_rep1\"\n",
       " [92] \"47_rep2\" \"47_rep3\" \"48_rep1\" \"48_rep2\" \"48_rep3\" \"7_rep1\"  \"7_rep2\" \n",
       " [99] \"7_rep3\"  \"8_rep1\"  \"8_rep2\"  \"8_rep3\"  \"9_rep1\"  \"9_rep2\"  \"9_rep3\" "
      ]
     },
     "metadata": {},
     "output_type": "display_data"
    },
    {
     "data": {
      "text/html": [
       "'character'"
      ],
      "text/latex": [
       "'character'"
      ],
      "text/markdown": [
       "'character'"
      ],
      "text/plain": [
       "[1] \"character\""
      ]
     },
     "metadata": {},
     "output_type": "display_data"
    },
    {
     "data": {
      "text/html": [
       "105"
      ],
      "text/latex": [
       "105"
      ],
      "text/markdown": [
       "105"
      ],
      "text/plain": [
       "[1] 105"
      ]
     },
     "metadata": {},
     "output_type": "display_data"
    }
   ],
   "source": [
    "# Nome de centro de pesquisa para fazer coluna center\n",
    "center <- rep('IMT-UFRN', 105)\n",
    "center\n",
    "length(center)   # 105 == pop\n",
    "\n",
    "\n",
    "# Nomes de amostras analisadas para fazer coluna run\n",
    "run <- list.files(dir)\n",
    "run\n",
    "mode(run)\n",
    "length(run)  # 105 == pop\n",
    "\n",
    "\n",
    "condition <- c(rep('gbs', 3), rep('control', 6), rep('zika', 3), rep('gbs', 6), \n",
    "               rep('gbs_rec', 3), rep('chikv_rec', 3), rep('control', 3), rep('gbs', 3), \n",
    "               rep('control', 3),rep('chikv', 3), rep('zika', 3), rep('gbs', 3), \n",
    "               rep('gbs_rec', 9), rep(CHIKV, 6), rep('control', 6), rep('chikv_rec', 3), \n",
    "               rep('zika', 3), rep('gbs_rec', 6), rep('gbs', 3), rep(CHIKV, 3), \n",
    "               rep('chikv_rec', 12), rep('zika', 3), rep('gbs_rec', 9))\n",
    "\n"
   ]
  },
  {
   "cell_type": "markdown",
   "metadata": {},
   "source": [
    "## Parte II\n",
    "### Aqui inicia-se a construção do data frame com todas as informações de amostras.   \n",
    "Dependendo dos grupos a serem analisados por DESeq2, pode-se eliminar linhas do data frame contendo aquelas amostras que não serão usadas.  \n",
    "\n",
    "Ver mais a frente.   "
   ]
  },
  {
   "cell_type": "code",
   "execution_count": 5,
   "metadata": {},
   "outputs": [],
   "source": [
    "## Parte 2 - Unir cada vetor formando colunas de um data frame.\n",
    "# Replicatas\n",
    "replicates <- c('rep01', 'rep02', 'rep03 ')\n",
    "\n",
    "samples_info <- data.frame(pop = pop, \n",
    "                      center = center, \n",
    "                      run = run,\n",
    "                      condition = condition,\n",
    "                      replicate = rep(replicates, 35))   \n",
    "\n",
    "# Obs.: Replicate: Não colocar 105 pois são de 3 em 3.\n",
    "# Logo: 35 x 3 = 105. Repete-se a tríade 35 vezes, o que geram 105 replicatas."
   ]
  },
  {
   "cell_type": "markdown",
   "metadata": {},
   "source": [
    "### Observar o data frame formado (**samples_info**)."
   ]
  },
  {
   "cell_type": "code",
   "execution_count": 6,
   "metadata": {},
   "outputs": [
    {
     "data": {
      "text/html": [
       "<table>\n",
       "<caption>A data.frame: 10 × 5</caption>\n",
       "<thead>\n",
       "\t<tr><th scope=col>pop</th><th scope=col>center</th><th scope=col>run</th><th scope=col>condition</th><th scope=col>replicate</th></tr>\n",
       "\t<tr><th scope=col>&lt;fct&gt;</th><th scope=col>&lt;fct&gt;</th><th scope=col>&lt;fct&gt;</th><th scope=col>&lt;fct&gt;</th><th scope=col>&lt;fct&gt;</th></tr>\n",
       "</thead>\n",
       "<tbody>\n",
       "\t<tr><td>GBS    </td><td>IMT-UFRN</td><td>1_rep1 </td><td>gbs    </td><td>rep01 </td></tr>\n",
       "\t<tr><td>GBS    </td><td>IMT-UFRN</td><td>1_rep2 </td><td>gbs    </td><td>rep02 </td></tr>\n",
       "\t<tr><td>GBS    </td><td>IMT-UFRN</td><td>1_rep3 </td><td>gbs    </td><td>rep03 </td></tr>\n",
       "\t<tr><td>CONTROL</td><td>IMT-UFRN</td><td>10_rep1</td><td>control</td><td>rep01 </td></tr>\n",
       "\t<tr><td>CONTROL</td><td>IMT-UFRN</td><td>10_rep2</td><td>control</td><td>rep02 </td></tr>\n",
       "\t<tr><td>CONTROL</td><td>IMT-UFRN</td><td>10_rep3</td><td>control</td><td>rep03 </td></tr>\n",
       "\t<tr><td>CONTROL</td><td>IMT-UFRN</td><td>11_rep1</td><td>control</td><td>rep01 </td></tr>\n",
       "\t<tr><td>CONTROL</td><td>IMT-UFRN</td><td>11_rep2</td><td>control</td><td>rep02 </td></tr>\n",
       "\t<tr><td>CONTROL</td><td>IMT-UFRN</td><td>11_rep3</td><td>control</td><td>rep03 </td></tr>\n",
       "\t<tr><td>ZIKA   </td><td>IMT-UFRN</td><td>12_rep1</td><td>zika   </td><td>rep01 </td></tr>\n",
       "</tbody>\n",
       "</table>\n"
      ],
      "text/latex": [
       "A data.frame: 10 × 5\n",
       "\\begin{tabular}{r|lllll}\n",
       " pop & center & run & condition & replicate\\\\\n",
       " <fct> & <fct> & <fct> & <fct> & <fct>\\\\\n",
       "\\hline\n",
       "\t GBS     & IMT-UFRN & 1\\_rep1  & gbs     & rep01 \\\\\n",
       "\t GBS     & IMT-UFRN & 1\\_rep2  & gbs     & rep02 \\\\\n",
       "\t GBS     & IMT-UFRN & 1\\_rep3  & gbs     & rep03 \\\\\n",
       "\t CONTROL & IMT-UFRN & 10\\_rep1 & control & rep01 \\\\\n",
       "\t CONTROL & IMT-UFRN & 10\\_rep2 & control & rep02 \\\\\n",
       "\t CONTROL & IMT-UFRN & 10\\_rep3 & control & rep03 \\\\\n",
       "\t CONTROL & IMT-UFRN & 11\\_rep1 & control & rep01 \\\\\n",
       "\t CONTROL & IMT-UFRN & 11\\_rep2 & control & rep02 \\\\\n",
       "\t CONTROL & IMT-UFRN & 11\\_rep3 & control & rep03 \\\\\n",
       "\t ZIKA    & IMT-UFRN & 12\\_rep1 & zika    & rep01 \\\\\n",
       "\\end{tabular}\n"
      ],
      "text/markdown": [
       "\n",
       "A data.frame: 10 × 5\n",
       "\n",
       "| pop &lt;fct&gt; | center &lt;fct&gt; | run &lt;fct&gt; | condition &lt;fct&gt; | replicate &lt;fct&gt; |\n",
       "|---|---|---|---|---|\n",
       "| GBS     | IMT-UFRN | 1_rep1  | gbs     | rep01  |\n",
       "| GBS     | IMT-UFRN | 1_rep2  | gbs     | rep02  |\n",
       "| GBS     | IMT-UFRN | 1_rep3  | gbs     | rep03  |\n",
       "| CONTROL | IMT-UFRN | 10_rep1 | control | rep01  |\n",
       "| CONTROL | IMT-UFRN | 10_rep2 | control | rep02  |\n",
       "| CONTROL | IMT-UFRN | 10_rep3 | control | rep03  |\n",
       "| CONTROL | IMT-UFRN | 11_rep1 | control | rep01  |\n",
       "| CONTROL | IMT-UFRN | 11_rep2 | control | rep02  |\n",
       "| CONTROL | IMT-UFRN | 11_rep3 | control | rep03  |\n",
       "| ZIKA    | IMT-UFRN | 12_rep1 | zika    | rep01  |\n",
       "\n"
      ],
      "text/plain": [
       "   pop     center   run     condition replicate\n",
       "1  GBS     IMT-UFRN 1_rep1  gbs       rep01    \n",
       "2  GBS     IMT-UFRN 1_rep2  gbs       rep02    \n",
       "3  GBS     IMT-UFRN 1_rep3  gbs       rep03    \n",
       "4  CONTROL IMT-UFRN 10_rep1 control   rep01    \n",
       "5  CONTROL IMT-UFRN 10_rep2 control   rep02    \n",
       "6  CONTROL IMT-UFRN 10_rep3 control   rep03    \n",
       "7  CONTROL IMT-UFRN 11_rep1 control   rep01    \n",
       "8  CONTROL IMT-UFRN 11_rep2 control   rep02    \n",
       "9  CONTROL IMT-UFRN 11_rep3 control   rep03    \n",
       "10 ZIKA    IMT-UFRN 12_rep1 zika      rep01    "
      ]
     },
     "metadata": {},
     "output_type": "display_data"
    }
   ],
   "source": [
    "# Observações gerais:\n",
    "head(samples_info, 10)\n"
   ]
  },
  {
   "cell_type": "code",
   "execution_count": 7,
   "metadata": {},
   "outputs": [
    {
     "name": "stdout",
     "output_type": "stream",
     "text": [
      "'data.frame':\t105 obs. of  5 variables:\n",
      " $ pop      : Factor w/ 6 levels \"CHIKV\",\"CHIKV_REC\",..: 4 4 4 3 3 3 3 3 3 6 ...\n",
      " $ center   : Factor w/ 1 level \"IMT-UFRN\": 1 1 1 1 1 1 1 1 1 1 ...\n",
      " $ run      : Factor w/ 105 levels \"1_rep1\",\"1_rep2\",..: 1 2 3 4 5 6 7 8 9 10 ...\n",
      " $ condition: Factor w/ 7 levels \"chikv\",\"CHIKV\",..: 5 5 5 4 4 4 4 4 4 7 ...\n",
      " $ replicate: Factor w/ 3 levels \"rep01\",\"rep02\",..: 1 2 3 1 2 3 1 2 3 1 ...\n"
     ]
    }
   ],
   "source": [
    "str(samples_info)"
   ]
  },
  {
   "cell_type": "code",
   "execution_count": 8,
   "metadata": {},
   "outputs": [
    {
     "data": {
      "text/html": [
       "<ol class=list-inline>\n",
       "\t<li>'pop'</li>\n",
       "\t<li>'center'</li>\n",
       "\t<li>'run'</li>\n",
       "\t<li>'condition'</li>\n",
       "\t<li>'replicate'</li>\n",
       "</ol>\n"
      ],
      "text/latex": [
       "\\begin{enumerate*}\n",
       "\\item 'pop'\n",
       "\\item 'center'\n",
       "\\item 'run'\n",
       "\\item 'condition'\n",
       "\\item 'replicate'\n",
       "\\end{enumerate*}\n"
      ],
      "text/markdown": [
       "1. 'pop'\n",
       "2. 'center'\n",
       "3. 'run'\n",
       "4. 'condition'\n",
       "5. 'replicate'\n",
       "\n",
       "\n"
      ],
      "text/plain": [
       "[1] \"pop\"       \"center\"    \"run\"       \"condition\" \"replicate\""
      ]
     },
     "metadata": {},
     "output_type": "display_data"
    }
   ],
   "source": [
    "names(samples_info)"
   ]
  },
  {
   "cell_type": "code",
   "execution_count": 9,
   "metadata": {},
   "outputs": [
    {
     "name": "stdout",
     "output_type": "stream",
     "text": [
      " Factor w/ 6 levels \"CHIKV\",\"CHIKV_REC\",..: 4 4 4 3 3 3 3 3 3 6 ...\n"
     ]
    }
   ],
   "source": [
    "str(samples_info$pop)"
   ]
  },
  {
   "cell_type": "code",
   "execution_count": 10,
   "metadata": {},
   "outputs": [
    {
     "name": "stdout",
     "output_type": "stream",
     "text": [
      " Factor w/ 7 levels \"chikv\",\"CHIKV\",..: 5 5 5 4 4 4 4 4 4 7 ...\n"
     ]
    }
   ],
   "source": [
    "str(samples_info$condition)"
   ]
  },
  {
   "cell_type": "code",
   "execution_count": 11,
   "metadata": {},
   "outputs": [
    {
     "name": "stdout",
     "output_type": "stream",
     "text": [
      " Factor w/ 105 levels \"1_rep1\",\"1_rep2\",..: 1 2 3 4 5 6 7 8 9 10 ...\n"
     ]
    }
   ],
   "source": [
    "str(samples_info$run)"
   ]
  },
  {
   "cell_type": "code",
   "execution_count": 12,
   "metadata": {},
   "outputs": [
    {
     "name": "stdout",
     "output_type": "stream",
     "text": [
      " Factor w/ 3 levels \"rep01\",\"rep02\",..: 1 2 3 1 2 3 1 2 3 1 ...\n"
     ]
    }
   ],
   "source": [
    "str(samples_info$replicate)"
   ]
  },
  {
   "cell_type": "markdown",
   "metadata": {},
   "source": [
    "## Eliminando Linhas do Data Frame por Nomes\n",
    "Usando dplyr, função `filter` de **dplyr** e negando com **regex** (função `grepl`)"
   ]
  },
  {
   "cell_type": "code",
   "execution_count": 13,
   "metadata": {},
   "outputs": [
    {
     "data": {
      "text/html": [
       "<table>\n",
       "<caption>A data.frame: 30 × 5</caption>\n",
       "<thead>\n",
       "\t<tr><th scope=col>pop</th><th scope=col>center</th><th scope=col>run</th><th scope=col>condition</th><th scope=col>replicate</th></tr>\n",
       "\t<tr><th scope=col>&lt;fct&gt;</th><th scope=col>&lt;fct&gt;</th><th scope=col>&lt;fct&gt;</th><th scope=col>&lt;fct&gt;</th><th scope=col>&lt;fct&gt;</th></tr>\n",
       "</thead>\n",
       "<tbody>\n",
       "\t<tr><td>CONTROL</td><td>IMT-UFRN</td><td>10_rep1</td><td>control</td><td>rep01 </td></tr>\n",
       "\t<tr><td>CONTROL</td><td>IMT-UFRN</td><td>10_rep2</td><td>control</td><td>rep02 </td></tr>\n",
       "\t<tr><td>CONTROL</td><td>IMT-UFRN</td><td>10_rep3</td><td>control</td><td>rep03 </td></tr>\n",
       "\t<tr><td>CONTROL</td><td>IMT-UFRN</td><td>11_rep1</td><td>control</td><td>rep01 </td></tr>\n",
       "\t<tr><td>CONTROL</td><td>IMT-UFRN</td><td>11_rep2</td><td>control</td><td>rep02 </td></tr>\n",
       "\t<tr><td>CONTROL</td><td>IMT-UFRN</td><td>11_rep3</td><td>control</td><td>rep03 </td></tr>\n",
       "\t<tr><td>ZIKA   </td><td>IMT-UFRN</td><td>12_rep1</td><td>zika   </td><td>rep01 </td></tr>\n",
       "\t<tr><td>ZIKA   </td><td>IMT-UFRN</td><td>12_rep2</td><td>zika   </td><td>rep02 </td></tr>\n",
       "\t<tr><td>ZIKA   </td><td>IMT-UFRN</td><td>12_rep3</td><td>zika   </td><td>rep03 </td></tr>\n",
       "\t<tr><td>CONTROL</td><td>IMT-UFRN</td><td>19_rep1</td><td>control</td><td>rep01 </td></tr>\n",
       "\t<tr><td>CONTROL</td><td>IMT-UFRN</td><td>19_rep2</td><td>control</td><td>rep02 </td></tr>\n",
       "\t<tr><td>CONTROL</td><td>IMT-UFRN</td><td>19_rep3</td><td>control</td><td>rep03 </td></tr>\n",
       "\t<tr><td>CONTROL</td><td>IMT-UFRN</td><td>20_rep1</td><td>control</td><td>rep01 </td></tr>\n",
       "\t<tr><td>CONTROL</td><td>IMT-UFRN</td><td>20_rep2</td><td>control</td><td>rep02 </td></tr>\n",
       "\t<tr><td>CONTROL</td><td>IMT-UFRN</td><td>20_rep3</td><td>control</td><td>rep03 </td></tr>\n",
       "\t<tr><td>ZIKA   </td><td>IMT-UFRN</td><td>24_rep1</td><td>zika   </td><td>rep01 </td></tr>\n",
       "\t<tr><td>ZIKA   </td><td>IMT-UFRN</td><td>24_rep2</td><td>zika   </td><td>rep02 </td></tr>\n",
       "\t<tr><td>ZIKA   </td><td>IMT-UFRN</td><td>24_rep3</td><td>zika   </td><td>rep03 </td></tr>\n",
       "\t<tr><td>CONTROL</td><td>IMT-UFRN</td><td>33_rep1</td><td>control</td><td>rep01 </td></tr>\n",
       "\t<tr><td>CONTROL</td><td>IMT-UFRN</td><td>33_rep2</td><td>control</td><td>rep02 </td></tr>\n",
       "\t<tr><td>CONTROL</td><td>IMT-UFRN</td><td>33_rep3</td><td>control</td><td>rep03 </td></tr>\n",
       "\t<tr><td>CONTROL</td><td>IMT-UFRN</td><td>34_rep1</td><td>control</td><td>rep01 </td></tr>\n",
       "\t<tr><td>CONTROL</td><td>IMT-UFRN</td><td>34_rep2</td><td>control</td><td>rep02 </td></tr>\n",
       "\t<tr><td>CONTROL</td><td>IMT-UFRN</td><td>34_rep3</td><td>control</td><td>rep03 </td></tr>\n",
       "\t<tr><td>ZIKA   </td><td>IMT-UFRN</td><td>36_rep1</td><td>zika   </td><td>rep01 </td></tr>\n",
       "\t<tr><td>ZIKA   </td><td>IMT-UFRN</td><td>36_rep2</td><td>zika   </td><td>rep02 </td></tr>\n",
       "\t<tr><td>ZIKA   </td><td>IMT-UFRN</td><td>36_rep3</td><td>zika   </td><td>rep03 </td></tr>\n",
       "\t<tr><td>ZIKA   </td><td>IMT-UFRN</td><td>48_rep1</td><td>zika   </td><td>rep01 </td></tr>\n",
       "\t<tr><td>ZIKA   </td><td>IMT-UFRN</td><td>48_rep2</td><td>zika   </td><td>rep02 </td></tr>\n",
       "\t<tr><td>ZIKA   </td><td>IMT-UFRN</td><td>48_rep3</td><td>zika   </td><td>rep03 </td></tr>\n",
       "</tbody>\n",
       "</table>\n"
      ],
      "text/latex": [
       "A data.frame: 30 × 5\n",
       "\\begin{tabular}{r|lllll}\n",
       " pop & center & run & condition & replicate\\\\\n",
       " <fct> & <fct> & <fct> & <fct> & <fct>\\\\\n",
       "\\hline\n",
       "\t CONTROL & IMT-UFRN & 10\\_rep1 & control & rep01 \\\\\n",
       "\t CONTROL & IMT-UFRN & 10\\_rep2 & control & rep02 \\\\\n",
       "\t CONTROL & IMT-UFRN & 10\\_rep3 & control & rep03 \\\\\n",
       "\t CONTROL & IMT-UFRN & 11\\_rep1 & control & rep01 \\\\\n",
       "\t CONTROL & IMT-UFRN & 11\\_rep2 & control & rep02 \\\\\n",
       "\t CONTROL & IMT-UFRN & 11\\_rep3 & control & rep03 \\\\\n",
       "\t ZIKA    & IMT-UFRN & 12\\_rep1 & zika    & rep01 \\\\\n",
       "\t ZIKA    & IMT-UFRN & 12\\_rep2 & zika    & rep02 \\\\\n",
       "\t ZIKA    & IMT-UFRN & 12\\_rep3 & zika    & rep03 \\\\\n",
       "\t CONTROL & IMT-UFRN & 19\\_rep1 & control & rep01 \\\\\n",
       "\t CONTROL & IMT-UFRN & 19\\_rep2 & control & rep02 \\\\\n",
       "\t CONTROL & IMT-UFRN & 19\\_rep3 & control & rep03 \\\\\n",
       "\t CONTROL & IMT-UFRN & 20\\_rep1 & control & rep01 \\\\\n",
       "\t CONTROL & IMT-UFRN & 20\\_rep2 & control & rep02 \\\\\n",
       "\t CONTROL & IMT-UFRN & 20\\_rep3 & control & rep03 \\\\\n",
       "\t ZIKA    & IMT-UFRN & 24\\_rep1 & zika    & rep01 \\\\\n",
       "\t ZIKA    & IMT-UFRN & 24\\_rep2 & zika    & rep02 \\\\\n",
       "\t ZIKA    & IMT-UFRN & 24\\_rep3 & zika    & rep03 \\\\\n",
       "\t CONTROL & IMT-UFRN & 33\\_rep1 & control & rep01 \\\\\n",
       "\t CONTROL & IMT-UFRN & 33\\_rep2 & control & rep02 \\\\\n",
       "\t CONTROL & IMT-UFRN & 33\\_rep3 & control & rep03 \\\\\n",
       "\t CONTROL & IMT-UFRN & 34\\_rep1 & control & rep01 \\\\\n",
       "\t CONTROL & IMT-UFRN & 34\\_rep2 & control & rep02 \\\\\n",
       "\t CONTROL & IMT-UFRN & 34\\_rep3 & control & rep03 \\\\\n",
       "\t ZIKA    & IMT-UFRN & 36\\_rep1 & zika    & rep01 \\\\\n",
       "\t ZIKA    & IMT-UFRN & 36\\_rep2 & zika    & rep02 \\\\\n",
       "\t ZIKA    & IMT-UFRN & 36\\_rep3 & zika    & rep03 \\\\\n",
       "\t ZIKA    & IMT-UFRN & 48\\_rep1 & zika    & rep01 \\\\\n",
       "\t ZIKA    & IMT-UFRN & 48\\_rep2 & zika    & rep02 \\\\\n",
       "\t ZIKA    & IMT-UFRN & 48\\_rep3 & zika    & rep03 \\\\\n",
       "\\end{tabular}\n"
      ],
      "text/markdown": [
       "\n",
       "A data.frame: 30 × 5\n",
       "\n",
       "| pop &lt;fct&gt; | center &lt;fct&gt; | run &lt;fct&gt; | condition &lt;fct&gt; | replicate &lt;fct&gt; |\n",
       "|---|---|---|---|---|\n",
       "| CONTROL | IMT-UFRN | 10_rep1 | control | rep01  |\n",
       "| CONTROL | IMT-UFRN | 10_rep2 | control | rep02  |\n",
       "| CONTROL | IMT-UFRN | 10_rep3 | control | rep03  |\n",
       "| CONTROL | IMT-UFRN | 11_rep1 | control | rep01  |\n",
       "| CONTROL | IMT-UFRN | 11_rep2 | control | rep02  |\n",
       "| CONTROL | IMT-UFRN | 11_rep3 | control | rep03  |\n",
       "| ZIKA    | IMT-UFRN | 12_rep1 | zika    | rep01  |\n",
       "| ZIKA    | IMT-UFRN | 12_rep2 | zika    | rep02  |\n",
       "| ZIKA    | IMT-UFRN | 12_rep3 | zika    | rep03  |\n",
       "| CONTROL | IMT-UFRN | 19_rep1 | control | rep01  |\n",
       "| CONTROL | IMT-UFRN | 19_rep2 | control | rep02  |\n",
       "| CONTROL | IMT-UFRN | 19_rep3 | control | rep03  |\n",
       "| CONTROL | IMT-UFRN | 20_rep1 | control | rep01  |\n",
       "| CONTROL | IMT-UFRN | 20_rep2 | control | rep02  |\n",
       "| CONTROL | IMT-UFRN | 20_rep3 | control | rep03  |\n",
       "| ZIKA    | IMT-UFRN | 24_rep1 | zika    | rep01  |\n",
       "| ZIKA    | IMT-UFRN | 24_rep2 | zika    | rep02  |\n",
       "| ZIKA    | IMT-UFRN | 24_rep3 | zika    | rep03  |\n",
       "| CONTROL | IMT-UFRN | 33_rep1 | control | rep01  |\n",
       "| CONTROL | IMT-UFRN | 33_rep2 | control | rep02  |\n",
       "| CONTROL | IMT-UFRN | 33_rep3 | control | rep03  |\n",
       "| CONTROL | IMT-UFRN | 34_rep1 | control | rep01  |\n",
       "| CONTROL | IMT-UFRN | 34_rep2 | control | rep02  |\n",
       "| CONTROL | IMT-UFRN | 34_rep3 | control | rep03  |\n",
       "| ZIKA    | IMT-UFRN | 36_rep1 | zika    | rep01  |\n",
       "| ZIKA    | IMT-UFRN | 36_rep2 | zika    | rep02  |\n",
       "| ZIKA    | IMT-UFRN | 36_rep3 | zika    | rep03  |\n",
       "| ZIKA    | IMT-UFRN | 48_rep1 | zika    | rep01  |\n",
       "| ZIKA    | IMT-UFRN | 48_rep2 | zika    | rep02  |\n",
       "| ZIKA    | IMT-UFRN | 48_rep3 | zika    | rep03  |\n",
       "\n"
      ],
      "text/plain": [
       "   pop     center   run     condition replicate\n",
       "1  CONTROL IMT-UFRN 10_rep1 control   rep01    \n",
       "2  CONTROL IMT-UFRN 10_rep2 control   rep02    \n",
       "3  CONTROL IMT-UFRN 10_rep3 control   rep03    \n",
       "4  CONTROL IMT-UFRN 11_rep1 control   rep01    \n",
       "5  CONTROL IMT-UFRN 11_rep2 control   rep02    \n",
       "6  CONTROL IMT-UFRN 11_rep3 control   rep03    \n",
       "7  ZIKA    IMT-UFRN 12_rep1 zika      rep01    \n",
       "8  ZIKA    IMT-UFRN 12_rep2 zika      rep02    \n",
       "9  ZIKA    IMT-UFRN 12_rep3 zika      rep03    \n",
       "10 CONTROL IMT-UFRN 19_rep1 control   rep01    \n",
       "11 CONTROL IMT-UFRN 19_rep2 control   rep02    \n",
       "12 CONTROL IMT-UFRN 19_rep3 control   rep03    \n",
       "13 CONTROL IMT-UFRN 20_rep1 control   rep01    \n",
       "14 CONTROL IMT-UFRN 20_rep2 control   rep02    \n",
       "15 CONTROL IMT-UFRN 20_rep3 control   rep03    \n",
       "16 ZIKA    IMT-UFRN 24_rep1 zika      rep01    \n",
       "17 ZIKA    IMT-UFRN 24_rep2 zika      rep02    \n",
       "18 ZIKA    IMT-UFRN 24_rep3 zika      rep03    \n",
       "19 CONTROL IMT-UFRN 33_rep1 control   rep01    \n",
       "20 CONTROL IMT-UFRN 33_rep2 control   rep02    \n",
       "21 CONTROL IMT-UFRN 33_rep3 control   rep03    \n",
       "22 CONTROL IMT-UFRN 34_rep1 control   rep01    \n",
       "23 CONTROL IMT-UFRN 34_rep2 control   rep02    \n",
       "24 CONTROL IMT-UFRN 34_rep3 control   rep03    \n",
       "25 ZIKA    IMT-UFRN 36_rep1 zika      rep01    \n",
       "26 ZIKA    IMT-UFRN 36_rep2 zika      rep02    \n",
       "27 ZIKA    IMT-UFRN 36_rep3 zika      rep03    \n",
       "28 ZIKA    IMT-UFRN 48_rep1 zika      rep01    \n",
       "29 ZIKA    IMT-UFRN 48_rep2 zika      rep02    \n",
       "30 ZIKA    IMT-UFRN 48_rep3 zika      rep03    "
      ]
     },
     "metadata": {},
     "output_type": "display_data"
    }
   ],
   "source": [
    "# Neste caso, deixar apenas as conditions ZIKV e CONTROL\n",
    "samples_info <- samples_info %>% \n",
    "  filter(!grepl('GBS', pop))\n",
    "\n",
    "samples_info <- samples_info %>% \n",
    "  filter(!grepl('GBS_REC', pop))\n",
    "\n",
    "samples_info <- samples_info %>% \n",
    "  filter(!grepl('CHIKV', pop))\n",
    "\n",
    "samples_info <- samples_info %>% \n",
    "  filter(!grepl('CHIKV_REC', pop))\n",
    "\n",
    "samples_info"
   ]
  },
  {
   "cell_type": "code",
   "execution_count": 14,
   "metadata": {},
   "outputs": [],
   "source": [
    "# # Salvar a tabela no formato .txt (tsv)\n",
    "write.table(samples_info, 'amostras_zikvCtl.txt', sep = '\\t')"
   ]
  },
  {
   "cell_type": "code",
   "execution_count": 15,
   "metadata": {},
   "outputs": [
    {
     "data": {
      "text/html": [
       "<table>\n",
       "<caption>A data.frame: 6 × 5</caption>\n",
       "<thead>\n",
       "\t<tr><th scope=col>pop</th><th scope=col>center</th><th scope=col>run</th><th scope=col>condition</th><th scope=col>replicate</th></tr>\n",
       "\t<tr><th scope=col>&lt;fct&gt;</th><th scope=col>&lt;fct&gt;</th><th scope=col>&lt;fct&gt;</th><th scope=col>&lt;fct&gt;</th><th scope=col>&lt;fct&gt;</th></tr>\n",
       "</thead>\n",
       "<tbody>\n",
       "\t<tr><td>CONTROL</td><td>IMT-UFRN</td><td>10_rep1</td><td>control</td><td>rep01 </td></tr>\n",
       "\t<tr><td>CONTROL</td><td>IMT-UFRN</td><td>10_rep2</td><td>control</td><td>rep02 </td></tr>\n",
       "\t<tr><td>CONTROL</td><td>IMT-UFRN</td><td>10_rep3</td><td>control</td><td>rep03 </td></tr>\n",
       "\t<tr><td>CONTROL</td><td>IMT-UFRN</td><td>11_rep1</td><td>control</td><td>rep01 </td></tr>\n",
       "\t<tr><td>CONTROL</td><td>IMT-UFRN</td><td>11_rep2</td><td>control</td><td>rep02 </td></tr>\n",
       "\t<tr><td>CONTROL</td><td>IMT-UFRN</td><td>11_rep3</td><td>control</td><td>rep03 </td></tr>\n",
       "</tbody>\n",
       "</table>\n"
      ],
      "text/latex": [
       "A data.frame: 6 × 5\n",
       "\\begin{tabular}{r|lllll}\n",
       " pop & center & run & condition & replicate\\\\\n",
       " <fct> & <fct> & <fct> & <fct> & <fct>\\\\\n",
       "\\hline\n",
       "\t CONTROL & IMT-UFRN & 10\\_rep1 & control & rep01 \\\\\n",
       "\t CONTROL & IMT-UFRN & 10\\_rep2 & control & rep02 \\\\\n",
       "\t CONTROL & IMT-UFRN & 10\\_rep3 & control & rep03 \\\\\n",
       "\t CONTROL & IMT-UFRN & 11\\_rep1 & control & rep01 \\\\\n",
       "\t CONTROL & IMT-UFRN & 11\\_rep2 & control & rep02 \\\\\n",
       "\t CONTROL & IMT-UFRN & 11\\_rep3 & control & rep03 \\\\\n",
       "\\end{tabular}\n"
      ],
      "text/markdown": [
       "\n",
       "A data.frame: 6 × 5\n",
       "\n",
       "| pop &lt;fct&gt; | center &lt;fct&gt; | run &lt;fct&gt; | condition &lt;fct&gt; | replicate &lt;fct&gt; |\n",
       "|---|---|---|---|---|\n",
       "| CONTROL | IMT-UFRN | 10_rep1 | control | rep01  |\n",
       "| CONTROL | IMT-UFRN | 10_rep2 | control | rep02  |\n",
       "| CONTROL | IMT-UFRN | 10_rep3 | control | rep03  |\n",
       "| CONTROL | IMT-UFRN | 11_rep1 | control | rep01  |\n",
       "| CONTROL | IMT-UFRN | 11_rep2 | control | rep02  |\n",
       "| CONTROL | IMT-UFRN | 11_rep3 | control | rep03  |\n",
       "\n"
      ],
      "text/plain": [
       "  pop     center   run     condition replicate\n",
       "1 CONTROL IMT-UFRN 10_rep1 control   rep01    \n",
       "2 CONTROL IMT-UFRN 10_rep2 control   rep02    \n",
       "3 CONTROL IMT-UFRN 10_rep3 control   rep03    \n",
       "4 CONTROL IMT-UFRN 11_rep1 control   rep01    \n",
       "5 CONTROL IMT-UFRN 11_rep2 control   rep02    \n",
       "6 CONTROL IMT-UFRN 11_rep3 control   rep03    "
      ]
     },
     "metadata": {},
     "output_type": "display_data"
    },
    {
     "data": {
      "text/html": [
       "<ol class=list-inline>\n",
       "\t<li>control</li>\n",
       "\t<li>control</li>\n",
       "\t<li>control</li>\n",
       "\t<li>control</li>\n",
       "\t<li>control</li>\n",
       "\t<li>control</li>\n",
       "\t<li>zika</li>\n",
       "\t<li>zika</li>\n",
       "\t<li>zika</li>\n",
       "\t<li>control</li>\n",
       "\t<li>control</li>\n",
       "\t<li>control</li>\n",
       "\t<li>control</li>\n",
       "\t<li>control</li>\n",
       "\t<li>control</li>\n",
       "\t<li>zika</li>\n",
       "\t<li>zika</li>\n",
       "\t<li>zika</li>\n",
       "\t<li>control</li>\n",
       "\t<li>control</li>\n",
       "\t<li>control</li>\n",
       "\t<li>control</li>\n",
       "\t<li>control</li>\n",
       "\t<li>control</li>\n",
       "\t<li>zika</li>\n",
       "\t<li>zika</li>\n",
       "\t<li>zika</li>\n",
       "\t<li>zika</li>\n",
       "\t<li>zika</li>\n",
       "\t<li>zika</li>\n",
       "</ol>\n",
       "\n",
       "<details>\n",
       "\t<summary style=display:list-item;cursor:pointer>\n",
       "\t\t<strong>Levels</strong>:\n",
       "\t</summary>\n",
       "\t<ol class=list-inline>\n",
       "\t\t<li>'control'</li>\n",
       "\t\t<li>'zika'</li>\n",
       "\t</ol>\n",
       "</details>"
      ],
      "text/latex": [
       "\\begin{enumerate*}\n",
       "\\item control\n",
       "\\item control\n",
       "\\item control\n",
       "\\item control\n",
       "\\item control\n",
       "\\item control\n",
       "\\item zika\n",
       "\\item zika\n",
       "\\item zika\n",
       "\\item control\n",
       "\\item control\n",
       "\\item control\n",
       "\\item control\n",
       "\\item control\n",
       "\\item control\n",
       "\\item zika\n",
       "\\item zika\n",
       "\\item zika\n",
       "\\item control\n",
       "\\item control\n",
       "\\item control\n",
       "\\item control\n",
       "\\item control\n",
       "\\item control\n",
       "\\item zika\n",
       "\\item zika\n",
       "\\item zika\n",
       "\\item zika\n",
       "\\item zika\n",
       "\\item zika\n",
       "\\end{enumerate*}\n",
       "\n",
       "\\emph{Levels}: \\begin{enumerate*}\n",
       "\\item 'control'\n",
       "\\item 'zika'\n",
       "\\end{enumerate*}\n"
      ],
      "text/markdown": [
       "1. control\n",
       "2. control\n",
       "3. control\n",
       "4. control\n",
       "5. control\n",
       "6. control\n",
       "7. zika\n",
       "8. zika\n",
       "9. zika\n",
       "10. control\n",
       "11. control\n",
       "12. control\n",
       "13. control\n",
       "14. control\n",
       "15. control\n",
       "16. zika\n",
       "17. zika\n",
       "18. zika\n",
       "19. control\n",
       "20. control\n",
       "21. control\n",
       "22. control\n",
       "23. control\n",
       "24. control\n",
       "25. zika\n",
       "26. zika\n",
       "27. zika\n",
       "28. zika\n",
       "29. zika\n",
       "30. zika\n",
       "\n",
       "\n",
       "\n",
       "**Levels**: 1. 'control'\n",
       "2. 'zika'\n",
       "\n",
       "\n"
      ],
      "text/plain": [
       " [1] control control control control control control zika    zika    zika   \n",
       "[10] control control control control control control zika    zika    zika   \n",
       "[19] control control control control control control zika    zika    zika   \n",
       "[28] zika    zika    zika   \n",
       "Levels: control zika"
      ]
     },
     "metadata": {},
     "output_type": "display_data"
    },
    {
     "data": {
      "text/html": [
       "'list'"
      ],
      "text/latex": [
       "'list'"
      ],
      "text/markdown": [
       "'list'"
      ],
      "text/plain": [
       "[1] \"list\""
      ]
     },
     "metadata": {},
     "output_type": "display_data"
    }
   ],
   "source": [
    "# Criar um vetor nomeado apontando os arquivos de quantificação.\n",
    "# Estes arquivos têm seus nomes anotados em uma tabela (samples.txt).\n",
    "samples <- read.table('amostras_zikvCtl.txt', header = TRUE, row.names = 1)\n",
    "head(samples)\n",
    "samples$condition \n",
    "mode(samples)"
   ]
  },
  {
   "cell_type": "code",
   "execution_count": 16,
   "metadata": {},
   "outputs": [
    {
     "data": {
      "text/html": [
       "<table>\n",
       "<caption>A data.frame: 30 × 5</caption>\n",
       "<thead>\n",
       "\t<tr><th></th><th scope=col>pop</th><th scope=col>center</th><th scope=col>run</th><th scope=col>condition</th><th scope=col>replicate</th></tr>\n",
       "\t<tr><th></th><th scope=col>&lt;fct&gt;</th><th scope=col>&lt;fct&gt;</th><th scope=col>&lt;fct&gt;</th><th scope=col>&lt;fct&gt;</th><th scope=col>&lt;fct&gt;</th></tr>\n",
       "</thead>\n",
       "<tbody>\n",
       "\t<tr><th scope=row>10_rep1</th><td>CONTROL</td><td>IMT-UFRN</td><td>10_rep1</td><td>control</td><td>rep01 </td></tr>\n",
       "\t<tr><th scope=row>10_rep2</th><td>CONTROL</td><td>IMT-UFRN</td><td>10_rep2</td><td>control</td><td>rep02 </td></tr>\n",
       "\t<tr><th scope=row>10_rep3</th><td>CONTROL</td><td>IMT-UFRN</td><td>10_rep3</td><td>control</td><td>rep03 </td></tr>\n",
       "\t<tr><th scope=row>11_rep1</th><td>CONTROL</td><td>IMT-UFRN</td><td>11_rep1</td><td>control</td><td>rep01 </td></tr>\n",
       "\t<tr><th scope=row>11_rep2</th><td>CONTROL</td><td>IMT-UFRN</td><td>11_rep2</td><td>control</td><td>rep02 </td></tr>\n",
       "\t<tr><th scope=row>11_rep3</th><td>CONTROL</td><td>IMT-UFRN</td><td>11_rep3</td><td>control</td><td>rep03 </td></tr>\n",
       "\t<tr><th scope=row>12_rep1</th><td>ZIKA   </td><td>IMT-UFRN</td><td>12_rep1</td><td>zika   </td><td>rep01 </td></tr>\n",
       "\t<tr><th scope=row>12_rep2</th><td>ZIKA   </td><td>IMT-UFRN</td><td>12_rep2</td><td>zika   </td><td>rep02 </td></tr>\n",
       "\t<tr><th scope=row>12_rep3</th><td>ZIKA   </td><td>IMT-UFRN</td><td>12_rep3</td><td>zika   </td><td>rep03 </td></tr>\n",
       "\t<tr><th scope=row>19_rep1</th><td>CONTROL</td><td>IMT-UFRN</td><td>19_rep1</td><td>control</td><td>rep01 </td></tr>\n",
       "\t<tr><th scope=row>19_rep2</th><td>CONTROL</td><td>IMT-UFRN</td><td>19_rep2</td><td>control</td><td>rep02 </td></tr>\n",
       "\t<tr><th scope=row>19_rep3</th><td>CONTROL</td><td>IMT-UFRN</td><td>19_rep3</td><td>control</td><td>rep03 </td></tr>\n",
       "\t<tr><th scope=row>20_rep1</th><td>CONTROL</td><td>IMT-UFRN</td><td>20_rep1</td><td>control</td><td>rep01 </td></tr>\n",
       "\t<tr><th scope=row>20_rep2</th><td>CONTROL</td><td>IMT-UFRN</td><td>20_rep2</td><td>control</td><td>rep02 </td></tr>\n",
       "\t<tr><th scope=row>20_rep3</th><td>CONTROL</td><td>IMT-UFRN</td><td>20_rep3</td><td>control</td><td>rep03 </td></tr>\n",
       "\t<tr><th scope=row>24_rep1</th><td>ZIKA   </td><td>IMT-UFRN</td><td>24_rep1</td><td>zika   </td><td>rep01 </td></tr>\n",
       "\t<tr><th scope=row>24_rep2</th><td>ZIKA   </td><td>IMT-UFRN</td><td>24_rep2</td><td>zika   </td><td>rep02 </td></tr>\n",
       "\t<tr><th scope=row>24_rep3</th><td>ZIKA   </td><td>IMT-UFRN</td><td>24_rep3</td><td>zika   </td><td>rep03 </td></tr>\n",
       "\t<tr><th scope=row>33_rep1</th><td>CONTROL</td><td>IMT-UFRN</td><td>33_rep1</td><td>control</td><td>rep01 </td></tr>\n",
       "\t<tr><th scope=row>33_rep2</th><td>CONTROL</td><td>IMT-UFRN</td><td>33_rep2</td><td>control</td><td>rep02 </td></tr>\n",
       "\t<tr><th scope=row>33_rep3</th><td>CONTROL</td><td>IMT-UFRN</td><td>33_rep3</td><td>control</td><td>rep03 </td></tr>\n",
       "\t<tr><th scope=row>34_rep1</th><td>CONTROL</td><td>IMT-UFRN</td><td>34_rep1</td><td>control</td><td>rep01 </td></tr>\n",
       "\t<tr><th scope=row>34_rep2</th><td>CONTROL</td><td>IMT-UFRN</td><td>34_rep2</td><td>control</td><td>rep02 </td></tr>\n",
       "\t<tr><th scope=row>34_rep3</th><td>CONTROL</td><td>IMT-UFRN</td><td>34_rep3</td><td>control</td><td>rep03 </td></tr>\n",
       "\t<tr><th scope=row>36_rep1</th><td>ZIKA   </td><td>IMT-UFRN</td><td>36_rep1</td><td>zika   </td><td>rep01 </td></tr>\n",
       "\t<tr><th scope=row>36_rep2</th><td>ZIKA   </td><td>IMT-UFRN</td><td>36_rep2</td><td>zika   </td><td>rep02 </td></tr>\n",
       "\t<tr><th scope=row>36_rep3</th><td>ZIKA   </td><td>IMT-UFRN</td><td>36_rep3</td><td>zika   </td><td>rep03 </td></tr>\n",
       "\t<tr><th scope=row>48_rep1</th><td>ZIKA   </td><td>IMT-UFRN</td><td>48_rep1</td><td>zika   </td><td>rep01 </td></tr>\n",
       "\t<tr><th scope=row>48_rep2</th><td>ZIKA   </td><td>IMT-UFRN</td><td>48_rep2</td><td>zika   </td><td>rep02 </td></tr>\n",
       "\t<tr><th scope=row>48_rep3</th><td>ZIKA   </td><td>IMT-UFRN</td><td>48_rep3</td><td>zika   </td><td>rep03 </td></tr>\n",
       "</tbody>\n",
       "</table>\n"
      ],
      "text/latex": [
       "A data.frame: 30 × 5\n",
       "\\begin{tabular}{r|lllll}\n",
       "  & pop & center & run & condition & replicate\\\\\n",
       "  & <fct> & <fct> & <fct> & <fct> & <fct>\\\\\n",
       "\\hline\n",
       "\t10\\_rep1 & CONTROL & IMT-UFRN & 10\\_rep1 & control & rep01 \\\\\n",
       "\t10\\_rep2 & CONTROL & IMT-UFRN & 10\\_rep2 & control & rep02 \\\\\n",
       "\t10\\_rep3 & CONTROL & IMT-UFRN & 10\\_rep3 & control & rep03 \\\\\n",
       "\t11\\_rep1 & CONTROL & IMT-UFRN & 11\\_rep1 & control & rep01 \\\\\n",
       "\t11\\_rep2 & CONTROL & IMT-UFRN & 11\\_rep2 & control & rep02 \\\\\n",
       "\t11\\_rep3 & CONTROL & IMT-UFRN & 11\\_rep3 & control & rep03 \\\\\n",
       "\t12\\_rep1 & ZIKA    & IMT-UFRN & 12\\_rep1 & zika    & rep01 \\\\\n",
       "\t12\\_rep2 & ZIKA    & IMT-UFRN & 12\\_rep2 & zika    & rep02 \\\\\n",
       "\t12\\_rep3 & ZIKA    & IMT-UFRN & 12\\_rep3 & zika    & rep03 \\\\\n",
       "\t19\\_rep1 & CONTROL & IMT-UFRN & 19\\_rep1 & control & rep01 \\\\\n",
       "\t19\\_rep2 & CONTROL & IMT-UFRN & 19\\_rep2 & control & rep02 \\\\\n",
       "\t19\\_rep3 & CONTROL & IMT-UFRN & 19\\_rep3 & control & rep03 \\\\\n",
       "\t20\\_rep1 & CONTROL & IMT-UFRN & 20\\_rep1 & control & rep01 \\\\\n",
       "\t20\\_rep2 & CONTROL & IMT-UFRN & 20\\_rep2 & control & rep02 \\\\\n",
       "\t20\\_rep3 & CONTROL & IMT-UFRN & 20\\_rep3 & control & rep03 \\\\\n",
       "\t24\\_rep1 & ZIKA    & IMT-UFRN & 24\\_rep1 & zika    & rep01 \\\\\n",
       "\t24\\_rep2 & ZIKA    & IMT-UFRN & 24\\_rep2 & zika    & rep02 \\\\\n",
       "\t24\\_rep3 & ZIKA    & IMT-UFRN & 24\\_rep3 & zika    & rep03 \\\\\n",
       "\t33\\_rep1 & CONTROL & IMT-UFRN & 33\\_rep1 & control & rep01 \\\\\n",
       "\t33\\_rep2 & CONTROL & IMT-UFRN & 33\\_rep2 & control & rep02 \\\\\n",
       "\t33\\_rep3 & CONTROL & IMT-UFRN & 33\\_rep3 & control & rep03 \\\\\n",
       "\t34\\_rep1 & CONTROL & IMT-UFRN & 34\\_rep1 & control & rep01 \\\\\n",
       "\t34\\_rep2 & CONTROL & IMT-UFRN & 34\\_rep2 & control & rep02 \\\\\n",
       "\t34\\_rep3 & CONTROL & IMT-UFRN & 34\\_rep3 & control & rep03 \\\\\n",
       "\t36\\_rep1 & ZIKA    & IMT-UFRN & 36\\_rep1 & zika    & rep01 \\\\\n",
       "\t36\\_rep2 & ZIKA    & IMT-UFRN & 36\\_rep2 & zika    & rep02 \\\\\n",
       "\t36\\_rep3 & ZIKA    & IMT-UFRN & 36\\_rep3 & zika    & rep03 \\\\\n",
       "\t48\\_rep1 & ZIKA    & IMT-UFRN & 48\\_rep1 & zika    & rep01 \\\\\n",
       "\t48\\_rep2 & ZIKA    & IMT-UFRN & 48\\_rep2 & zika    & rep02 \\\\\n",
       "\t48\\_rep3 & ZIKA    & IMT-UFRN & 48\\_rep3 & zika    & rep03 \\\\\n",
       "\\end{tabular}\n"
      ],
      "text/markdown": [
       "\n",
       "A data.frame: 30 × 5\n",
       "\n",
       "| <!--/--> | pop &lt;fct&gt; | center &lt;fct&gt; | run &lt;fct&gt; | condition &lt;fct&gt; | replicate &lt;fct&gt; |\n",
       "|---|---|---|---|---|---|\n",
       "| 10_rep1 | CONTROL | IMT-UFRN | 10_rep1 | control | rep01  |\n",
       "| 10_rep2 | CONTROL | IMT-UFRN | 10_rep2 | control | rep02  |\n",
       "| 10_rep3 | CONTROL | IMT-UFRN | 10_rep3 | control | rep03  |\n",
       "| 11_rep1 | CONTROL | IMT-UFRN | 11_rep1 | control | rep01  |\n",
       "| 11_rep2 | CONTROL | IMT-UFRN | 11_rep2 | control | rep02  |\n",
       "| 11_rep3 | CONTROL | IMT-UFRN | 11_rep3 | control | rep03  |\n",
       "| 12_rep1 | ZIKA    | IMT-UFRN | 12_rep1 | zika    | rep01  |\n",
       "| 12_rep2 | ZIKA    | IMT-UFRN | 12_rep2 | zika    | rep02  |\n",
       "| 12_rep3 | ZIKA    | IMT-UFRN | 12_rep3 | zika    | rep03  |\n",
       "| 19_rep1 | CONTROL | IMT-UFRN | 19_rep1 | control | rep01  |\n",
       "| 19_rep2 | CONTROL | IMT-UFRN | 19_rep2 | control | rep02  |\n",
       "| 19_rep3 | CONTROL | IMT-UFRN | 19_rep3 | control | rep03  |\n",
       "| 20_rep1 | CONTROL | IMT-UFRN | 20_rep1 | control | rep01  |\n",
       "| 20_rep2 | CONTROL | IMT-UFRN | 20_rep2 | control | rep02  |\n",
       "| 20_rep3 | CONTROL | IMT-UFRN | 20_rep3 | control | rep03  |\n",
       "| 24_rep1 | ZIKA    | IMT-UFRN | 24_rep1 | zika    | rep01  |\n",
       "| 24_rep2 | ZIKA    | IMT-UFRN | 24_rep2 | zika    | rep02  |\n",
       "| 24_rep3 | ZIKA    | IMT-UFRN | 24_rep3 | zika    | rep03  |\n",
       "| 33_rep1 | CONTROL | IMT-UFRN | 33_rep1 | control | rep01  |\n",
       "| 33_rep2 | CONTROL | IMT-UFRN | 33_rep2 | control | rep02  |\n",
       "| 33_rep3 | CONTROL | IMT-UFRN | 33_rep3 | control | rep03  |\n",
       "| 34_rep1 | CONTROL | IMT-UFRN | 34_rep1 | control | rep01  |\n",
       "| 34_rep2 | CONTROL | IMT-UFRN | 34_rep2 | control | rep02  |\n",
       "| 34_rep3 | CONTROL | IMT-UFRN | 34_rep3 | control | rep03  |\n",
       "| 36_rep1 | ZIKA    | IMT-UFRN | 36_rep1 | zika    | rep01  |\n",
       "| 36_rep2 | ZIKA    | IMT-UFRN | 36_rep2 | zika    | rep02  |\n",
       "| 36_rep3 | ZIKA    | IMT-UFRN | 36_rep3 | zika    | rep03  |\n",
       "| 48_rep1 | ZIKA    | IMT-UFRN | 48_rep1 | zika    | rep01  |\n",
       "| 48_rep2 | ZIKA    | IMT-UFRN | 48_rep2 | zika    | rep02  |\n",
       "| 48_rep3 | ZIKA    | IMT-UFRN | 48_rep3 | zika    | rep03  |\n",
       "\n"
      ],
      "text/plain": [
       "        pop     center   run     condition replicate\n",
       "10_rep1 CONTROL IMT-UFRN 10_rep1 control   rep01    \n",
       "10_rep2 CONTROL IMT-UFRN 10_rep2 control   rep02    \n",
       "10_rep3 CONTROL IMT-UFRN 10_rep3 control   rep03    \n",
       "11_rep1 CONTROL IMT-UFRN 11_rep1 control   rep01    \n",
       "11_rep2 CONTROL IMT-UFRN 11_rep2 control   rep02    \n",
       "11_rep3 CONTROL IMT-UFRN 11_rep3 control   rep03    \n",
       "12_rep1 ZIKA    IMT-UFRN 12_rep1 zika      rep01    \n",
       "12_rep2 ZIKA    IMT-UFRN 12_rep2 zika      rep02    \n",
       "12_rep3 ZIKA    IMT-UFRN 12_rep3 zika      rep03    \n",
       "19_rep1 CONTROL IMT-UFRN 19_rep1 control   rep01    \n",
       "19_rep2 CONTROL IMT-UFRN 19_rep2 control   rep02    \n",
       "19_rep3 CONTROL IMT-UFRN 19_rep3 control   rep03    \n",
       "20_rep1 CONTROL IMT-UFRN 20_rep1 control   rep01    \n",
       "20_rep2 CONTROL IMT-UFRN 20_rep2 control   rep02    \n",
       "20_rep3 CONTROL IMT-UFRN 20_rep3 control   rep03    \n",
       "24_rep1 ZIKA    IMT-UFRN 24_rep1 zika      rep01    \n",
       "24_rep2 ZIKA    IMT-UFRN 24_rep2 zika      rep02    \n",
       "24_rep3 ZIKA    IMT-UFRN 24_rep3 zika      rep03    \n",
       "33_rep1 CONTROL IMT-UFRN 33_rep1 control   rep01    \n",
       "33_rep2 CONTROL IMT-UFRN 33_rep2 control   rep02    \n",
       "33_rep3 CONTROL IMT-UFRN 33_rep3 control   rep03    \n",
       "34_rep1 CONTROL IMT-UFRN 34_rep1 control   rep01    \n",
       "34_rep2 CONTROL IMT-UFRN 34_rep2 control   rep02    \n",
       "34_rep3 CONTROL IMT-UFRN 34_rep3 control   rep03    \n",
       "36_rep1 ZIKA    IMT-UFRN 36_rep1 zika      rep01    \n",
       "36_rep2 ZIKA    IMT-UFRN 36_rep2 zika      rep02    \n",
       "36_rep3 ZIKA    IMT-UFRN 36_rep3 zika      rep03    \n",
       "48_rep1 ZIKA    IMT-UFRN 48_rep1 zika      rep01    \n",
       "48_rep2 ZIKA    IMT-UFRN 48_rep2 zika      rep02    \n",
       "48_rep3 ZIKA    IMT-UFRN 48_rep3 zika      rep03    "
      ]
     },
     "metadata": {},
     "output_type": "display_data"
    }
   ],
   "source": [
    "# Nomeando as linhas com nome de cada arquivo de amostra:\n",
    "rownames(samples) <- samples$run\n",
    "\n",
    "samples"
   ]
  },
  {
   "cell_type": "code",
   "execution_count": 17,
   "metadata": {},
   "outputs": [
    {
     "data": {
      "text/html": [
       "<ol class=list-inline>\n",
       "\t<li>'./results/10_rep1/abundance.h5'</li>\n",
       "\t<li>'./results/10_rep2/abundance.h5'</li>\n",
       "\t<li>'./results/10_rep3/abundance.h5'</li>\n",
       "\t<li>'./results/11_rep1/abundance.h5'</li>\n",
       "\t<li>'./results/11_rep2/abundance.h5'</li>\n",
       "\t<li>'./results/11_rep3/abundance.h5'</li>\n",
       "\t<li>'./results/12_rep1/abundance.h5'</li>\n",
       "\t<li>'./results/12_rep2/abundance.h5'</li>\n",
       "\t<li>'./results/12_rep3/abundance.h5'</li>\n",
       "\t<li>'./results/19_rep1/abundance.h5'</li>\n",
       "\t<li>'./results/19_rep2/abundance.h5'</li>\n",
       "\t<li>'./results/19_rep3/abundance.h5'</li>\n",
       "\t<li>'./results/20_rep1/abundance.h5'</li>\n",
       "\t<li>'./results/20_rep2/abundance.h5'</li>\n",
       "\t<li>'./results/20_rep3/abundance.h5'</li>\n",
       "\t<li>'./results/24_rep1/abundance.h5'</li>\n",
       "\t<li>'./results/24_rep2/abundance.h5'</li>\n",
       "\t<li>'./results/24_rep3/abundance.h5'</li>\n",
       "\t<li>'./results/33_rep1/abundance.h5'</li>\n",
       "\t<li>'./results/33_rep2/abundance.h5'</li>\n",
       "\t<li>'./results/33_rep3/abundance.h5'</li>\n",
       "\t<li>'./results/34_rep1/abundance.h5'</li>\n",
       "\t<li>'./results/34_rep2/abundance.h5'</li>\n",
       "\t<li>'./results/34_rep3/abundance.h5'</li>\n",
       "\t<li>'./results/36_rep1/abundance.h5'</li>\n",
       "\t<li>'./results/36_rep2/abundance.h5'</li>\n",
       "\t<li>'./results/36_rep3/abundance.h5'</li>\n",
       "\t<li>'./results/48_rep1/abundance.h5'</li>\n",
       "\t<li>'./results/48_rep2/abundance.h5'</li>\n",
       "\t<li>'./results/48_rep3/abundance.h5'</li>\n",
       "</ol>\n"
      ],
      "text/latex": [
       "\\begin{enumerate*}\n",
       "\\item './results/10\\_rep1/abundance.h5'\n",
       "\\item './results/10\\_rep2/abundance.h5'\n",
       "\\item './results/10\\_rep3/abundance.h5'\n",
       "\\item './results/11\\_rep1/abundance.h5'\n",
       "\\item './results/11\\_rep2/abundance.h5'\n",
       "\\item './results/11\\_rep3/abundance.h5'\n",
       "\\item './results/12\\_rep1/abundance.h5'\n",
       "\\item './results/12\\_rep2/abundance.h5'\n",
       "\\item './results/12\\_rep3/abundance.h5'\n",
       "\\item './results/19\\_rep1/abundance.h5'\n",
       "\\item './results/19\\_rep2/abundance.h5'\n",
       "\\item './results/19\\_rep3/abundance.h5'\n",
       "\\item './results/20\\_rep1/abundance.h5'\n",
       "\\item './results/20\\_rep2/abundance.h5'\n",
       "\\item './results/20\\_rep3/abundance.h5'\n",
       "\\item './results/24\\_rep1/abundance.h5'\n",
       "\\item './results/24\\_rep2/abundance.h5'\n",
       "\\item './results/24\\_rep3/abundance.h5'\n",
       "\\item './results/33\\_rep1/abundance.h5'\n",
       "\\item './results/33\\_rep2/abundance.h5'\n",
       "\\item './results/33\\_rep3/abundance.h5'\n",
       "\\item './results/34\\_rep1/abundance.h5'\n",
       "\\item './results/34\\_rep2/abundance.h5'\n",
       "\\item './results/34\\_rep3/abundance.h5'\n",
       "\\item './results/36\\_rep1/abundance.h5'\n",
       "\\item './results/36\\_rep2/abundance.h5'\n",
       "\\item './results/36\\_rep3/abundance.h5'\n",
       "\\item './results/48\\_rep1/abundance.h5'\n",
       "\\item './results/48\\_rep2/abundance.h5'\n",
       "\\item './results/48\\_rep3/abundance.h5'\n",
       "\\end{enumerate*}\n"
      ],
      "text/markdown": [
       "1. './results/10_rep1/abundance.h5'\n",
       "2. './results/10_rep2/abundance.h5'\n",
       "3. './results/10_rep3/abundance.h5'\n",
       "4. './results/11_rep1/abundance.h5'\n",
       "5. './results/11_rep2/abundance.h5'\n",
       "6. './results/11_rep3/abundance.h5'\n",
       "7. './results/12_rep1/abundance.h5'\n",
       "8. './results/12_rep2/abundance.h5'\n",
       "9. './results/12_rep3/abundance.h5'\n",
       "10. './results/19_rep1/abundance.h5'\n",
       "11. './results/19_rep2/abundance.h5'\n",
       "12. './results/19_rep3/abundance.h5'\n",
       "13. './results/20_rep1/abundance.h5'\n",
       "14. './results/20_rep2/abundance.h5'\n",
       "15. './results/20_rep3/abundance.h5'\n",
       "16. './results/24_rep1/abundance.h5'\n",
       "17. './results/24_rep2/abundance.h5'\n",
       "18. './results/24_rep3/abundance.h5'\n",
       "19. './results/33_rep1/abundance.h5'\n",
       "20. './results/33_rep2/abundance.h5'\n",
       "21. './results/33_rep3/abundance.h5'\n",
       "22. './results/34_rep1/abundance.h5'\n",
       "23. './results/34_rep2/abundance.h5'\n",
       "24. './results/34_rep3/abundance.h5'\n",
       "25. './results/36_rep1/abundance.h5'\n",
       "26. './results/36_rep2/abundance.h5'\n",
       "27. './results/36_rep3/abundance.h5'\n",
       "28. './results/48_rep1/abundance.h5'\n",
       "29. './results/48_rep2/abundance.h5'\n",
       "30. './results/48_rep3/abundance.h5'\n",
       "\n",
       "\n"
      ],
      "text/plain": [
       " [1] \"./results/10_rep1/abundance.h5\" \"./results/10_rep2/abundance.h5\"\n",
       " [3] \"./results/10_rep3/abundance.h5\" \"./results/11_rep1/abundance.h5\"\n",
       " [5] \"./results/11_rep2/abundance.h5\" \"./results/11_rep3/abundance.h5\"\n",
       " [7] \"./results/12_rep1/abundance.h5\" \"./results/12_rep2/abundance.h5\"\n",
       " [9] \"./results/12_rep3/abundance.h5\" \"./results/19_rep1/abundance.h5\"\n",
       "[11] \"./results/19_rep2/abundance.h5\" \"./results/19_rep3/abundance.h5\"\n",
       "[13] \"./results/20_rep1/abundance.h5\" \"./results/20_rep2/abundance.h5\"\n",
       "[15] \"./results/20_rep3/abundance.h5\" \"./results/24_rep1/abundance.h5\"\n",
       "[17] \"./results/24_rep2/abundance.h5\" \"./results/24_rep3/abundance.h5\"\n",
       "[19] \"./results/33_rep1/abundance.h5\" \"./results/33_rep2/abundance.h5\"\n",
       "[21] \"./results/33_rep3/abundance.h5\" \"./results/34_rep1/abundance.h5\"\n",
       "[23] \"./results/34_rep2/abundance.h5\" \"./results/34_rep3/abundance.h5\"\n",
       "[25] \"./results/36_rep1/abundance.h5\" \"./results/36_rep2/abundance.h5\"\n",
       "[27] \"./results/36_rep3/abundance.h5\" \"./results/48_rep1/abundance.h5\"\n",
       "[29] \"./results/48_rep2/abundance.h5\" \"./results/48_rep3/abundance.h5\""
      ]
     },
     "metadata": {},
     "output_type": "display_data"
    }
   ],
   "source": [
    "# Obtendo cada arquivo de replicata das amostras usadas em kallisto:\n",
    "files <- file.path(dir, samples$run, 'abundance.h5')\n",
    "files"
   ]
  },
  {
   "cell_type": "markdown",
   "metadata": {},
   "source": [
    "### Renomeando o nome dos arquivos para facilitar visualização:"
   ]
  },
  {
   "cell_type": "code",
   "execution_count": 18,
   "metadata": {},
   "outputs": [
    {
     "data": {
      "text/html": [
       "<dl class=dl-horizontal>\n",
       "\t<dt>10_rep1</dt>\n",
       "\t\t<dd>'./results/10_rep1/abundance.h5'</dd>\n",
       "\t<dt>10_rep2</dt>\n",
       "\t\t<dd>'./results/10_rep2/abundance.h5'</dd>\n",
       "\t<dt>10_rep3</dt>\n",
       "\t\t<dd>'./results/10_rep3/abundance.h5'</dd>\n",
       "\t<dt>11_rep1</dt>\n",
       "\t\t<dd>'./results/11_rep1/abundance.h5'</dd>\n",
       "\t<dt>11_rep2</dt>\n",
       "\t\t<dd>'./results/11_rep2/abundance.h5'</dd>\n",
       "\t<dt>11_rep3</dt>\n",
       "\t\t<dd>'./results/11_rep3/abundance.h5'</dd>\n",
       "\t<dt>12_rep1</dt>\n",
       "\t\t<dd>'./results/12_rep1/abundance.h5'</dd>\n",
       "\t<dt>12_rep2</dt>\n",
       "\t\t<dd>'./results/12_rep2/abundance.h5'</dd>\n",
       "\t<dt>12_rep3</dt>\n",
       "\t\t<dd>'./results/12_rep3/abundance.h5'</dd>\n",
       "\t<dt>19_rep1</dt>\n",
       "\t\t<dd>'./results/19_rep1/abundance.h5'</dd>\n",
       "\t<dt>19_rep2</dt>\n",
       "\t\t<dd>'./results/19_rep2/abundance.h5'</dd>\n",
       "\t<dt>19_rep3</dt>\n",
       "\t\t<dd>'./results/19_rep3/abundance.h5'</dd>\n",
       "\t<dt>20_rep1</dt>\n",
       "\t\t<dd>'./results/20_rep1/abundance.h5'</dd>\n",
       "\t<dt>20_rep2</dt>\n",
       "\t\t<dd>'./results/20_rep2/abundance.h5'</dd>\n",
       "\t<dt>20_rep3</dt>\n",
       "\t\t<dd>'./results/20_rep3/abundance.h5'</dd>\n",
       "\t<dt>24_rep1</dt>\n",
       "\t\t<dd>'./results/24_rep1/abundance.h5'</dd>\n",
       "\t<dt>24_rep2</dt>\n",
       "\t\t<dd>'./results/24_rep2/abundance.h5'</dd>\n",
       "\t<dt>24_rep3</dt>\n",
       "\t\t<dd>'./results/24_rep3/abundance.h5'</dd>\n",
       "\t<dt>33_rep1</dt>\n",
       "\t\t<dd>'./results/33_rep1/abundance.h5'</dd>\n",
       "\t<dt>33_rep2</dt>\n",
       "\t\t<dd>'./results/33_rep2/abundance.h5'</dd>\n",
       "\t<dt>33_rep3</dt>\n",
       "\t\t<dd>'./results/33_rep3/abundance.h5'</dd>\n",
       "\t<dt>34_rep1</dt>\n",
       "\t\t<dd>'./results/34_rep1/abundance.h5'</dd>\n",
       "\t<dt>34_rep2</dt>\n",
       "\t\t<dd>'./results/34_rep2/abundance.h5'</dd>\n",
       "\t<dt>34_rep3</dt>\n",
       "\t\t<dd>'./results/34_rep3/abundance.h5'</dd>\n",
       "\t<dt>36_rep1</dt>\n",
       "\t\t<dd>'./results/36_rep1/abundance.h5'</dd>\n",
       "\t<dt>36_rep2</dt>\n",
       "\t\t<dd>'./results/36_rep2/abundance.h5'</dd>\n",
       "\t<dt>36_rep3</dt>\n",
       "\t\t<dd>'./results/36_rep3/abundance.h5'</dd>\n",
       "\t<dt>48_rep1</dt>\n",
       "\t\t<dd>'./results/48_rep1/abundance.h5'</dd>\n",
       "\t<dt>48_rep2</dt>\n",
       "\t\t<dd>'./results/48_rep2/abundance.h5'</dd>\n",
       "\t<dt>48_rep3</dt>\n",
       "\t\t<dd>'./results/48_rep3/abundance.h5'</dd>\n",
       "</dl>\n"
      ],
      "text/latex": [
       "\\begin{description*}\n",
       "\\item[10\\textbackslash{}\\_rep1] './results/10\\_rep1/abundance.h5'\n",
       "\\item[10\\textbackslash{}\\_rep2] './results/10\\_rep2/abundance.h5'\n",
       "\\item[10\\textbackslash{}\\_rep3] './results/10\\_rep3/abundance.h5'\n",
       "\\item[11\\textbackslash{}\\_rep1] './results/11\\_rep1/abundance.h5'\n",
       "\\item[11\\textbackslash{}\\_rep2] './results/11\\_rep2/abundance.h5'\n",
       "\\item[11\\textbackslash{}\\_rep3] './results/11\\_rep3/abundance.h5'\n",
       "\\item[12\\textbackslash{}\\_rep1] './results/12\\_rep1/abundance.h5'\n",
       "\\item[12\\textbackslash{}\\_rep2] './results/12\\_rep2/abundance.h5'\n",
       "\\item[12\\textbackslash{}\\_rep3] './results/12\\_rep3/abundance.h5'\n",
       "\\item[19\\textbackslash{}\\_rep1] './results/19\\_rep1/abundance.h5'\n",
       "\\item[19\\textbackslash{}\\_rep2] './results/19\\_rep2/abundance.h5'\n",
       "\\item[19\\textbackslash{}\\_rep3] './results/19\\_rep3/abundance.h5'\n",
       "\\item[20\\textbackslash{}\\_rep1] './results/20\\_rep1/abundance.h5'\n",
       "\\item[20\\textbackslash{}\\_rep2] './results/20\\_rep2/abundance.h5'\n",
       "\\item[20\\textbackslash{}\\_rep3] './results/20\\_rep3/abundance.h5'\n",
       "\\item[24\\textbackslash{}\\_rep1] './results/24\\_rep1/abundance.h5'\n",
       "\\item[24\\textbackslash{}\\_rep2] './results/24\\_rep2/abundance.h5'\n",
       "\\item[24\\textbackslash{}\\_rep3] './results/24\\_rep3/abundance.h5'\n",
       "\\item[33\\textbackslash{}\\_rep1] './results/33\\_rep1/abundance.h5'\n",
       "\\item[33\\textbackslash{}\\_rep2] './results/33\\_rep2/abundance.h5'\n",
       "\\item[33\\textbackslash{}\\_rep3] './results/33\\_rep3/abundance.h5'\n",
       "\\item[34\\textbackslash{}\\_rep1] './results/34\\_rep1/abundance.h5'\n",
       "\\item[34\\textbackslash{}\\_rep2] './results/34\\_rep2/abundance.h5'\n",
       "\\item[34\\textbackslash{}\\_rep3] './results/34\\_rep3/abundance.h5'\n",
       "\\item[36\\textbackslash{}\\_rep1] './results/36\\_rep1/abundance.h5'\n",
       "\\item[36\\textbackslash{}\\_rep2] './results/36\\_rep2/abundance.h5'\n",
       "\\item[36\\textbackslash{}\\_rep3] './results/36\\_rep3/abundance.h5'\n",
       "\\item[48\\textbackslash{}\\_rep1] './results/48\\_rep1/abundance.h5'\n",
       "\\item[48\\textbackslash{}\\_rep2] './results/48\\_rep2/abundance.h5'\n",
       "\\item[48\\textbackslash{}\\_rep3] './results/48\\_rep3/abundance.h5'\n",
       "\\end{description*}\n"
      ],
      "text/markdown": [
       "10_rep1\n",
       ":   './results/10_rep1/abundance.h5'10_rep2\n",
       ":   './results/10_rep2/abundance.h5'10_rep3\n",
       ":   './results/10_rep3/abundance.h5'11_rep1\n",
       ":   './results/11_rep1/abundance.h5'11_rep2\n",
       ":   './results/11_rep2/abundance.h5'11_rep3\n",
       ":   './results/11_rep3/abundance.h5'12_rep1\n",
       ":   './results/12_rep1/abundance.h5'12_rep2\n",
       ":   './results/12_rep2/abundance.h5'12_rep3\n",
       ":   './results/12_rep3/abundance.h5'19_rep1\n",
       ":   './results/19_rep1/abundance.h5'19_rep2\n",
       ":   './results/19_rep2/abundance.h5'19_rep3\n",
       ":   './results/19_rep3/abundance.h5'20_rep1\n",
       ":   './results/20_rep1/abundance.h5'20_rep2\n",
       ":   './results/20_rep2/abundance.h5'20_rep3\n",
       ":   './results/20_rep3/abundance.h5'24_rep1\n",
       ":   './results/24_rep1/abundance.h5'24_rep2\n",
       ":   './results/24_rep2/abundance.h5'24_rep3\n",
       ":   './results/24_rep3/abundance.h5'33_rep1\n",
       ":   './results/33_rep1/abundance.h5'33_rep2\n",
       ":   './results/33_rep2/abundance.h5'33_rep3\n",
       ":   './results/33_rep3/abundance.h5'34_rep1\n",
       ":   './results/34_rep1/abundance.h5'34_rep2\n",
       ":   './results/34_rep2/abundance.h5'34_rep3\n",
       ":   './results/34_rep3/abundance.h5'36_rep1\n",
       ":   './results/36_rep1/abundance.h5'36_rep2\n",
       ":   './results/36_rep2/abundance.h5'36_rep3\n",
       ":   './results/36_rep3/abundance.h5'48_rep1\n",
       ":   './results/48_rep1/abundance.h5'48_rep2\n",
       ":   './results/48_rep2/abundance.h5'48_rep3\n",
       ":   './results/48_rep3/abundance.h5'\n",
       "\n"
      ],
      "text/plain": [
       "                         10_rep1                          10_rep2 \n",
       "\"./results/10_rep1/abundance.h5\" \"./results/10_rep2/abundance.h5\" \n",
       "                         10_rep3                          11_rep1 \n",
       "\"./results/10_rep3/abundance.h5\" \"./results/11_rep1/abundance.h5\" \n",
       "                         11_rep2                          11_rep3 \n",
       "\"./results/11_rep2/abundance.h5\" \"./results/11_rep3/abundance.h5\" \n",
       "                         12_rep1                          12_rep2 \n",
       "\"./results/12_rep1/abundance.h5\" \"./results/12_rep2/abundance.h5\" \n",
       "                         12_rep3                          19_rep1 \n",
       "\"./results/12_rep3/abundance.h5\" \"./results/19_rep1/abundance.h5\" \n",
       "                         19_rep2                          19_rep3 \n",
       "\"./results/19_rep2/abundance.h5\" \"./results/19_rep3/abundance.h5\" \n",
       "                         20_rep1                          20_rep2 \n",
       "\"./results/20_rep1/abundance.h5\" \"./results/20_rep2/abundance.h5\" \n",
       "                         20_rep3                          24_rep1 \n",
       "\"./results/20_rep3/abundance.h5\" \"./results/24_rep1/abundance.h5\" \n",
       "                         24_rep2                          24_rep3 \n",
       "\"./results/24_rep2/abundance.h5\" \"./results/24_rep3/abundance.h5\" \n",
       "                         33_rep1                          33_rep2 \n",
       "\"./results/33_rep1/abundance.h5\" \"./results/33_rep2/abundance.h5\" \n",
       "                         33_rep3                          34_rep1 \n",
       "\"./results/33_rep3/abundance.h5\" \"./results/34_rep1/abundance.h5\" \n",
       "                         34_rep2                          34_rep3 \n",
       "\"./results/34_rep2/abundance.h5\" \"./results/34_rep3/abundance.h5\" \n",
       "                         36_rep1                          36_rep2 \n",
       "\"./results/36_rep1/abundance.h5\" \"./results/36_rep2/abundance.h5\" \n",
       "                         36_rep3                          48_rep1 \n",
       "\"./results/36_rep3/abundance.h5\" \"./results/48_rep1/abundance.h5\" \n",
       "                         48_rep2                          48_rep3 \n",
       "\"./results/48_rep2/abundance.h5\" \"./results/48_rep3/abundance.h5\" "
      ]
     },
     "metadata": {},
     "output_type": "display_data"
    }
   ],
   "source": [
    "names(files) <- samples$run\n",
    "files"
   ]
  },
  {
   "cell_type": "markdown",
   "metadata": {},
   "source": [
    "## Usando biomaRt para nomear transcritos e genes"
   ]
  },
  {
   "cell_type": "code",
   "execution_count": 19,
   "metadata": {},
   "outputs": [
    {
     "name": "stderr",
     "output_type": "stream",
     "text": [
      "Cache found\n"
     ]
    },
    {
     "data": {
      "text/html": [
       "<table>\n",
       "<caption>A data.frame: 20 × 2</caption>\n",
       "<thead>\n",
       "\t<tr><th scope=col>target_id</th><th scope=col>ens_gene</th></tr>\n",
       "\t<tr><th scope=col>&lt;chr&gt;</th><th scope=col>&lt;chr&gt;</th></tr>\n",
       "</thead>\n",
       "<tbody>\n",
       "\t<tr><td>ENST00000387314</td><td>ENSG00000210049</td></tr>\n",
       "\t<tr><td>ENST00000389680</td><td>ENSG00000211459</td></tr>\n",
       "\t<tr><td>ENST00000387342</td><td>ENSG00000210077</td></tr>\n",
       "\t<tr><td>ENST00000387347</td><td>ENSG00000210082</td></tr>\n",
       "\t<tr><td>ENST00000386347</td><td>ENSG00000209082</td></tr>\n",
       "\t<tr><td>ENST00000361390</td><td>ENSG00000198888</td></tr>\n",
       "\t<tr><td>ENST00000387365</td><td>ENSG00000210100</td></tr>\n",
       "\t<tr><td>ENST00000387372</td><td>ENSG00000210107</td></tr>\n",
       "\t<tr><td>ENST00000387377</td><td>ENSG00000210112</td></tr>\n",
       "\t<tr><td>ENST00000361453</td><td>ENSG00000198763</td></tr>\n",
       "\t<tr><td>ENST00000387382</td><td>ENSG00000210117</td></tr>\n",
       "\t<tr><td>ENST00000387392</td><td>ENSG00000210127</td></tr>\n",
       "\t<tr><td>ENST00000387400</td><td>ENSG00000210135</td></tr>\n",
       "\t<tr><td>ENST00000387405</td><td>ENSG00000210140</td></tr>\n",
       "\t<tr><td>ENST00000387409</td><td>ENSG00000210144</td></tr>\n",
       "\t<tr><td>ENST00000361624</td><td>ENSG00000198804</td></tr>\n",
       "\t<tr><td>ENST00000387416</td><td>ENSG00000210151</td></tr>\n",
       "\t<tr><td>ENST00000387419</td><td>ENSG00000210154</td></tr>\n",
       "\t<tr><td>ENST00000361739</td><td>ENSG00000198712</td></tr>\n",
       "\t<tr><td>ENST00000387421</td><td>ENSG00000210156</td></tr>\n",
       "</tbody>\n",
       "</table>\n"
      ],
      "text/latex": [
       "A data.frame: 20 × 2\n",
       "\\begin{tabular}{r|ll}\n",
       " target\\_id & ens\\_gene\\\\\n",
       " <chr> & <chr>\\\\\n",
       "\\hline\n",
       "\t ENST00000387314 & ENSG00000210049\\\\\n",
       "\t ENST00000389680 & ENSG00000211459\\\\\n",
       "\t ENST00000387342 & ENSG00000210077\\\\\n",
       "\t ENST00000387347 & ENSG00000210082\\\\\n",
       "\t ENST00000386347 & ENSG00000209082\\\\\n",
       "\t ENST00000361390 & ENSG00000198888\\\\\n",
       "\t ENST00000387365 & ENSG00000210100\\\\\n",
       "\t ENST00000387372 & ENSG00000210107\\\\\n",
       "\t ENST00000387377 & ENSG00000210112\\\\\n",
       "\t ENST00000361453 & ENSG00000198763\\\\\n",
       "\t ENST00000387382 & ENSG00000210117\\\\\n",
       "\t ENST00000387392 & ENSG00000210127\\\\\n",
       "\t ENST00000387400 & ENSG00000210135\\\\\n",
       "\t ENST00000387405 & ENSG00000210140\\\\\n",
       "\t ENST00000387409 & ENSG00000210144\\\\\n",
       "\t ENST00000361624 & ENSG00000198804\\\\\n",
       "\t ENST00000387416 & ENSG00000210151\\\\\n",
       "\t ENST00000387419 & ENSG00000210154\\\\\n",
       "\t ENST00000361739 & ENSG00000198712\\\\\n",
       "\t ENST00000387421 & ENSG00000210156\\\\\n",
       "\\end{tabular}\n"
      ],
      "text/markdown": [
       "\n",
       "A data.frame: 20 × 2\n",
       "\n",
       "| target_id &lt;chr&gt; | ens_gene &lt;chr&gt; |\n",
       "|---|---|\n",
       "| ENST00000387314 | ENSG00000210049 |\n",
       "| ENST00000389680 | ENSG00000211459 |\n",
       "| ENST00000387342 | ENSG00000210077 |\n",
       "| ENST00000387347 | ENSG00000210082 |\n",
       "| ENST00000386347 | ENSG00000209082 |\n",
       "| ENST00000361390 | ENSG00000198888 |\n",
       "| ENST00000387365 | ENSG00000210100 |\n",
       "| ENST00000387372 | ENSG00000210107 |\n",
       "| ENST00000387377 | ENSG00000210112 |\n",
       "| ENST00000361453 | ENSG00000198763 |\n",
       "| ENST00000387382 | ENSG00000210117 |\n",
       "| ENST00000387392 | ENSG00000210127 |\n",
       "| ENST00000387400 | ENSG00000210135 |\n",
       "| ENST00000387405 | ENSG00000210140 |\n",
       "| ENST00000387409 | ENSG00000210144 |\n",
       "| ENST00000361624 | ENSG00000198804 |\n",
       "| ENST00000387416 | ENSG00000210151 |\n",
       "| ENST00000387419 | ENSG00000210154 |\n",
       "| ENST00000361739 | ENSG00000198712 |\n",
       "| ENST00000387421 | ENSG00000210156 |\n",
       "\n"
      ],
      "text/plain": [
       "   target_id       ens_gene       \n",
       "1  ENST00000387314 ENSG00000210049\n",
       "2  ENST00000389680 ENSG00000211459\n",
       "3  ENST00000387342 ENSG00000210077\n",
       "4  ENST00000387347 ENSG00000210082\n",
       "5  ENST00000386347 ENSG00000209082\n",
       "6  ENST00000361390 ENSG00000198888\n",
       "7  ENST00000387365 ENSG00000210100\n",
       "8  ENST00000387372 ENSG00000210107\n",
       "9  ENST00000387377 ENSG00000210112\n",
       "10 ENST00000361453 ENSG00000198763\n",
       "11 ENST00000387382 ENSG00000210117\n",
       "12 ENST00000387392 ENSG00000210127\n",
       "13 ENST00000387400 ENSG00000210135\n",
       "14 ENST00000387405 ENSG00000210140\n",
       "15 ENST00000387409 ENSG00000210144\n",
       "16 ENST00000361624 ENSG00000198804\n",
       "17 ENST00000387416 ENSG00000210151\n",
       "18 ENST00000387419 ENSG00000210154\n",
       "19 ENST00000361739 ENSG00000198712\n",
       "20 ENST00000387421 ENSG00000210156"
      ]
     },
     "metadata": {},
     "output_type": "display_data"
    }
   ],
   "source": [
    "# Usando biomaRt\n",
    "mart <- biomaRt::useMart(biomart = \"ensembl\", \n",
    "                         dataset = \"hsapiens_gene_ensembl\", \n",
    "                         host=\"www.ensembl.org\")\n",
    "\n",
    "\n",
    "t2g <- biomaRt::getBM(attributes = c(\"ensembl_transcript_id\", \n",
    "                                     \"ensembl_gene_id\"), \n",
    "                      mart = mart)\n",
    "\n",
    "\n",
    "t2g <- dplyr::rename(t2g, target_id = ensembl_transcript_id,\n",
    "                     ens_gene = ensembl_gene_id)\n",
    "\n",
    "\n",
    "head(t2g, 20)\n",
    "## Obs.: A coluna de transcripts IDs não possui versão.\n",
    "## Ao utilizar o tximport prestar atenção na opção ignoreTxVersion."
   ]
  },
  {
   "cell_type": "markdown",
   "metadata": {},
   "source": [
    "## Parte III - Tximport utilizando arquivos Kallisto"
   ]
  },
  {
   "cell_type": "code",
   "execution_count": 20,
   "metadata": {},
   "outputs": [
    {
     "name": "stderr",
     "output_type": "stream",
     "text": [
      "1 2 3 4 5 6 7 8 9 10 11 12 13 14 15 16 17 18 19 20 21 22 23 24 25 26 27 28 29 30 \n",
      "transcripts missing from tx2gene: 1182\n",
      "summarizing abundance\n",
      "summarizing counts\n",
      "summarizing length\n",
      "summarizing inferential replicates\n"
     ]
    }
   ],
   "source": [
    "# Estimativa de contagens a partir de kallisto,\n",
    "# Usar ignoreTxVersion e ignoreAfterBar para que o data frame de IDs de transcritos\n",
    "# e genes do Ensembl tenham ignorados as versões e barras |, respectivamente.\n",
    "txi.kallisto <- tximport(files, \n",
    "                         type = 'kallisto',\n",
    "                         tx2gene = t2g,\n",
    "                         ignoreTxVersion = TRUE,\n",
    "                         ignoreAfterBar = TRUE)"
   ]
  },
  {
   "cell_type": "code",
   "execution_count": 21,
   "metadata": {},
   "outputs": [
    {
     "data": {
      "text/html": [
       "<ol class=list-inline>\n",
       "\t<li>'abundance'</li>\n",
       "\t<li>'counts'</li>\n",
       "\t<li>'infReps'</li>\n",
       "\t<li>'length'</li>\n",
       "\t<li>'countsFromAbundance'</li>\n",
       "</ol>\n"
      ],
      "text/latex": [
       "\\begin{enumerate*}\n",
       "\\item 'abundance'\n",
       "\\item 'counts'\n",
       "\\item 'infReps'\n",
       "\\item 'length'\n",
       "\\item 'countsFromAbundance'\n",
       "\\end{enumerate*}\n"
      ],
      "text/markdown": [
       "1. 'abundance'\n",
       "2. 'counts'\n",
       "3. 'infReps'\n",
       "4. 'length'\n",
       "5. 'countsFromAbundance'\n",
       "\n",
       "\n"
      ],
      "text/plain": [
       "[1] \"abundance\"           \"counts\"              \"infReps\"            \n",
       "[4] \"length\"              \"countsFromAbundance\""
      ]
     },
     "metadata": {},
     "output_type": "display_data"
    }
   ],
   "source": [
    "names(txi.kallisto)"
   ]
  },
  {
   "cell_type": "code",
   "execution_count": 22,
   "metadata": {},
   "outputs": [
    {
     "data": {
      "text/html": [
       "<table>\n",
       "<caption>A matrix: 6 × 30 of type dbl</caption>\n",
       "<thead>\n",
       "\t<tr><th></th><th scope=col>10_rep1</th><th scope=col>10_rep2</th><th scope=col>10_rep3</th><th scope=col>11_rep1</th><th scope=col>11_rep2</th><th scope=col>11_rep3</th><th scope=col>12_rep1</th><th scope=col>12_rep2</th><th scope=col>12_rep3</th><th scope=col>19_rep1</th><th scope=col>⋯</th><th scope=col>33_rep3</th><th scope=col>34_rep1</th><th scope=col>34_rep2</th><th scope=col>34_rep3</th><th scope=col>36_rep1</th><th scope=col>36_rep2</th><th scope=col>36_rep3</th><th scope=col>48_rep1</th><th scope=col>48_rep2</th><th scope=col>48_rep3</th></tr>\n",
       "</thead>\n",
       "<tbody>\n",
       "\t<tr><th scope=row>ENSG00000000003</th><td> 0.6651769</td><td> 0.4002442</td><td> 0.000000</td><td>  0.3047081</td><td>  0.6457758</td><td>  0.000000</td><td>  0.2530875</td><td>  0.000000</td><td>  0.08363204</td><td>  0.4143788</td><td>⋯</td><td>  0.4229851</td><td>  0.2749607</td><td> 0.000000</td><td>9.450586e-05</td><td>  0.5764135</td><td>  0.5188167</td><td>  0.3472068</td><td>  0.000000</td><td>  0.3277769</td><td>  0.276775</td></tr>\n",
       "\t<tr><th scope=row>ENSG00000000005</th><td> 0.0000000</td><td> 0.0000000</td><td> 0.000000</td><td>  0.0000000</td><td>  0.0000000</td><td>  0.000000</td><td>  0.0000000</td><td>  0.000000</td><td>  0.00000000</td><td>  0.0000000</td><td>⋯</td><td>  0.0000000</td><td>  0.0000000</td><td> 0.000000</td><td>0.000000e+00</td><td>  0.0000000</td><td>  0.0000000</td><td>  0.0000000</td><td>  0.000000</td><td>  0.0000000</td><td>  0.000000</td></tr>\n",
       "\t<tr><th scope=row>ENSG00000000419</th><td> 9.8588238</td><td>12.1288879</td><td>10.448575</td><td> 11.5798987</td><td> 11.5541938</td><td> 13.361654</td><td> 12.9472755</td><td> 11.894434</td><td> 11.49664015</td><td> 14.6009159</td><td>⋯</td><td> 10.2439016</td><td> 11.4545744</td><td>11.460918</td><td>1.341941e+01</td><td> 18.7013990</td><td> 21.5705816</td><td> 21.5005432</td><td> 18.678303</td><td> 15.6666780</td><td> 15.482687</td></tr>\n",
       "\t<tr><th scope=row>ENSG00000000457</th><td> 3.8903592</td><td> 2.9325136</td><td> 3.665589</td><td>  3.8368947</td><td>  4.0239041</td><td>  5.535735</td><td>  3.5809621</td><td>  4.796242</td><td>  2.94106809</td><td>  7.0348926</td><td>⋯</td><td>  5.2180454</td><td>  4.9256569</td><td> 4.280948</td><td>4.448773e+00</td><td>  5.5080467</td><td>  9.2593797</td><td>  5.4859215</td><td>  7.412572</td><td>  6.2037117</td><td>  5.731873</td></tr>\n",
       "\t<tr><th scope=row>ENSG00000000460</th><td> 2.3843329</td><td> 4.0444167</td><td> 2.069267</td><td>  2.5162824</td><td>  2.2116598</td><td>  2.038352</td><td>  1.6715376</td><td>  1.825211</td><td>  2.72374803</td><td>  2.4340446</td><td>⋯</td><td>  3.9979374</td><td>  2.5518408</td><td> 1.790044</td><td>4.275673e+00</td><td>  1.9729809</td><td>  0.9612744</td><td>  2.6869175</td><td>  1.814967</td><td>  3.6928069</td><td>  3.883366</td></tr>\n",
       "\t<tr><th scope=row>ENSG00000000938</th><td>73.5906252</td><td>91.2613829</td><td>87.074937</td><td>105.6855771</td><td>115.9937598</td><td>104.723444</td><td>131.4772415</td><td>120.248601</td><td>125.06315221</td><td>141.4721446</td><td>⋯</td><td>110.5614554</td><td>107.5929020</td><td>96.086339</td><td>9.543128e+01</td><td>259.3361600</td><td>241.3592940</td><td>246.2594370</td><td>191.974455</td><td>180.4374481</td><td>198.567388</td></tr>\n",
       "</tbody>\n",
       "</table>\n"
      ],
      "text/latex": [
       "A matrix: 6 × 30 of type dbl\n",
       "\\begin{tabular}{r|llllllllllllllllllllllllllllll}\n",
       "  & 10\\_rep1 & 10\\_rep2 & 10\\_rep3 & 11\\_rep1 & 11\\_rep2 & 11\\_rep3 & 12\\_rep1 & 12\\_rep2 & 12\\_rep3 & 19\\_rep1 & 19\\_rep2 & 19\\_rep3 & 20\\_rep1 & 20\\_rep2 & 20\\_rep3 & 24\\_rep1 & 24\\_rep2 & 24\\_rep3 & 33\\_rep1 & 33\\_rep2 & 33\\_rep3 & 34\\_rep1 & 34\\_rep2 & 34\\_rep3 & 36\\_rep1 & 36\\_rep2 & 36\\_rep3 & 48\\_rep1 & 48\\_rep2 & 48\\_rep3\\\\\n",
       "\\hline\n",
       "\tENSG00000000003 &  0.6651769 &  0.4002442 &  0.000000 &   0.3047081 &   0.6457758 &   0.000000 &   0.2530875 &   0.000000 &   0.08363204 &   0.4143788 &   0.000000 &   0.416698 &  0.000000 &   0.08751395 &   0.08129234 &   0.4131109 &   0.5842412 &   0.3648267 &   0.3953479 &   0.8749573 &   0.4229851 &   0.2749607 &  0.000000 & 9.450586e-05 &   0.5764135 &   0.5188167 &   0.3472068 &   0.000000 &   0.3277769 &   0.276775\\\\\n",
       "\tENSG00000000005 &  0.0000000 &  0.0000000 &  0.000000 &   0.0000000 &   0.0000000 &   0.000000 &   0.0000000 &   0.000000 &   0.00000000 &   0.0000000 &   0.000000 &   0.000000 &  0.000000 &   0.00000000 &   0.00000000 &   0.0000000 &   0.0000000 &   0.0000000 &   0.0000000 &   0.0000000 &   0.0000000 &   0.0000000 &  0.000000 & 0.000000e+00 &   0.0000000 &   0.0000000 &   0.0000000 &   0.000000 &   0.0000000 &   0.000000\\\\\n",
       "\tENSG00000000419 &  9.8588238 & 12.1288879 & 10.448575 &  11.5798987 &  11.5541938 &  13.361654 &  12.9472755 &  11.894434 &  11.49664015 &  14.6009159 &  17.708932 &  15.273811 & 13.754230 &  11.30668939 &  10.68630884 &  25.5810417 &  18.0814000 &  20.0171842 &  14.4243483 &  13.6535322 &  10.2439016 &  11.4545744 & 11.460918 & 1.341941e+01 &  18.7013990 &  21.5705816 &  21.5005432 &  18.678303 &  15.6666780 &  15.482687\\\\\n",
       "\tENSG00000000457 &  3.8903592 &  2.9325136 &  3.665589 &   3.8368947 &   4.0239041 &   5.535735 &   3.5809621 &   4.796242 &   2.94106809 &   7.0348926 &   3.586672 &   6.151423 &  8.004549 &   5.80322148 &   4.85034467 &   7.2949807 &   8.2318803 &   8.4358155 &   4.4342149 &   5.3940116 &   5.2180454 &   4.9256569 &  4.280948 & 4.448773e+00 &   5.5080467 &   9.2593797 &   5.4859215 &   7.412572 &   6.2037117 &   5.731873\\\\\n",
       "\tENSG00000000460 &  2.3843329 &  4.0444167 &  2.069267 &   2.5162824 &   2.2116598 &   2.038352 &   1.6715376 &   1.825211 &   2.72374803 &   2.4340446 &   3.272998 &   2.523410 &  3.855460 &   3.34053716 &   1.02520318 &   2.3256614 &   4.3496093 &   4.2676308 &   2.4931728 &   3.5307273 &   3.9979374 &   2.5518408 &  1.790044 & 4.275673e+00 &   1.9729809 &   0.9612744 &   2.6869175 &   1.814967 &   3.6928069 &   3.883366\\\\\n",
       "\tENSG00000000938 & 73.5906252 & 91.2613829 & 87.074937 & 105.6855771 & 115.9937598 & 104.723444 & 131.4772415 & 120.248601 & 125.06315221 & 141.4721446 & 146.201253 & 143.445661 & 99.159589 & 102.58422310 & 115.82932346 & 200.0297854 & 191.8088575 & 203.7768655 & 104.6234458 & 106.0232465 & 110.5614554 & 107.5929020 & 96.086339 & 9.543128e+01 & 259.3361600 & 241.3592940 & 246.2594370 & 191.974455 & 180.4374481 & 198.567388\\\\\n",
       "\\end{tabular}\n"
      ],
      "text/markdown": [
       "\n",
       "A matrix: 6 × 30 of type dbl\n",
       "\n",
       "| <!--/--> | 10_rep1 | 10_rep2 | 10_rep3 | 11_rep1 | 11_rep2 | 11_rep3 | 12_rep1 | 12_rep2 | 12_rep3 | 19_rep1 | ⋯ | 33_rep3 | 34_rep1 | 34_rep2 | 34_rep3 | 36_rep1 | 36_rep2 | 36_rep3 | 48_rep1 | 48_rep2 | 48_rep3 |\n",
       "|---|---|---|---|---|---|---|---|---|---|---|---|---|---|---|---|---|---|---|---|---|---|\n",
       "| ENSG00000000003 |  0.6651769 |  0.4002442 |  0.000000 |   0.3047081 |   0.6457758 |   0.000000 |   0.2530875 |   0.000000 |   0.08363204 |   0.4143788 | ⋯ |   0.4229851 |   0.2749607 |  0.000000 | 9.450586e-05 |   0.5764135 |   0.5188167 |   0.3472068 |   0.000000 |   0.3277769 |   0.276775 |\n",
       "| ENSG00000000005 |  0.0000000 |  0.0000000 |  0.000000 |   0.0000000 |   0.0000000 |   0.000000 |   0.0000000 |   0.000000 |   0.00000000 |   0.0000000 | ⋯ |   0.0000000 |   0.0000000 |  0.000000 | 0.000000e+00 |   0.0000000 |   0.0000000 |   0.0000000 |   0.000000 |   0.0000000 |   0.000000 |\n",
       "| ENSG00000000419 |  9.8588238 | 12.1288879 | 10.448575 |  11.5798987 |  11.5541938 |  13.361654 |  12.9472755 |  11.894434 |  11.49664015 |  14.6009159 | ⋯ |  10.2439016 |  11.4545744 | 11.460918 | 1.341941e+01 |  18.7013990 |  21.5705816 |  21.5005432 |  18.678303 |  15.6666780 |  15.482687 |\n",
       "| ENSG00000000457 |  3.8903592 |  2.9325136 |  3.665589 |   3.8368947 |   4.0239041 |   5.535735 |   3.5809621 |   4.796242 |   2.94106809 |   7.0348926 | ⋯ |   5.2180454 |   4.9256569 |  4.280948 | 4.448773e+00 |   5.5080467 |   9.2593797 |   5.4859215 |   7.412572 |   6.2037117 |   5.731873 |\n",
       "| ENSG00000000460 |  2.3843329 |  4.0444167 |  2.069267 |   2.5162824 |   2.2116598 |   2.038352 |   1.6715376 |   1.825211 |   2.72374803 |   2.4340446 | ⋯ |   3.9979374 |   2.5518408 |  1.790044 | 4.275673e+00 |   1.9729809 |   0.9612744 |   2.6869175 |   1.814967 |   3.6928069 |   3.883366 |\n",
       "| ENSG00000000938 | 73.5906252 | 91.2613829 | 87.074937 | 105.6855771 | 115.9937598 | 104.723444 | 131.4772415 | 120.248601 | 125.06315221 | 141.4721446 | ⋯ | 110.5614554 | 107.5929020 | 96.086339 | 9.543128e+01 | 259.3361600 | 241.3592940 | 246.2594370 | 191.974455 | 180.4374481 | 198.567388 |\n",
       "\n"
      ],
      "text/plain": [
       "                10_rep1    10_rep2    10_rep3   11_rep1     11_rep2    \n",
       "ENSG00000000003  0.6651769  0.4002442  0.000000   0.3047081   0.6457758\n",
       "ENSG00000000005  0.0000000  0.0000000  0.000000   0.0000000   0.0000000\n",
       "ENSG00000000419  9.8588238 12.1288879 10.448575  11.5798987  11.5541938\n",
       "ENSG00000000457  3.8903592  2.9325136  3.665589   3.8368947   4.0239041\n",
       "ENSG00000000460  2.3843329  4.0444167  2.069267   2.5162824   2.2116598\n",
       "ENSG00000000938 73.5906252 91.2613829 87.074937 105.6855771 115.9937598\n",
       "                11_rep3    12_rep1     12_rep2    12_rep3      19_rep1     ⋯\n",
       "ENSG00000000003   0.000000   0.2530875   0.000000   0.08363204   0.4143788 ⋯\n",
       "ENSG00000000005   0.000000   0.0000000   0.000000   0.00000000   0.0000000 ⋯\n",
       "ENSG00000000419  13.361654  12.9472755  11.894434  11.49664015  14.6009159 ⋯\n",
       "ENSG00000000457   5.535735   3.5809621   4.796242   2.94106809   7.0348926 ⋯\n",
       "ENSG00000000460   2.038352   1.6715376   1.825211   2.72374803   2.4340446 ⋯\n",
       "ENSG00000000938 104.723444 131.4772415 120.248601 125.06315221 141.4721446 ⋯\n",
       "                33_rep3     34_rep1     34_rep2   34_rep3      36_rep1    \n",
       "ENSG00000000003   0.4229851   0.2749607  0.000000 9.450586e-05   0.5764135\n",
       "ENSG00000000005   0.0000000   0.0000000  0.000000 0.000000e+00   0.0000000\n",
       "ENSG00000000419  10.2439016  11.4545744 11.460918 1.341941e+01  18.7013990\n",
       "ENSG00000000457   5.2180454   4.9256569  4.280948 4.448773e+00   5.5080467\n",
       "ENSG00000000460   3.9979374   2.5518408  1.790044 4.275673e+00   1.9729809\n",
       "ENSG00000000938 110.5614554 107.5929020 96.086339 9.543128e+01 259.3361600\n",
       "                36_rep2     36_rep3     48_rep1    48_rep2     48_rep3   \n",
       "ENSG00000000003   0.5188167   0.3472068   0.000000   0.3277769   0.276775\n",
       "ENSG00000000005   0.0000000   0.0000000   0.000000   0.0000000   0.000000\n",
       "ENSG00000000419  21.5705816  21.5005432  18.678303  15.6666780  15.482687\n",
       "ENSG00000000457   9.2593797   5.4859215   7.412572   6.2037117   5.731873\n",
       "ENSG00000000460   0.9612744   2.6869175   1.814967   3.6928069   3.883366\n",
       "ENSG00000000938 241.3592940 246.2594370 191.974455 180.4374481 198.567388"
      ]
     },
     "metadata": {},
     "output_type": "display_data"
    }
   ],
   "source": [
    "head(txi.kallisto$abundance)"
   ]
  },
  {
   "cell_type": "markdown",
   "metadata": {},
   "source": [
    "## Parte IV - DESeq2 "
   ]
  },
  {
   "cell_type": "code",
   "execution_count": 23,
   "metadata": {},
   "outputs": [
    {
     "name": "stderr",
     "output_type": "stream",
     "text": [
      "using counts and average transcript lengths from tximport\n"
     ]
    }
   ],
   "source": [
    "#### DESeq2\n",
    "## Design com formula simples: sem avisos R; menor chance de erro.\n",
    "dds.txi <- DESeqDataSetFromTximport(txi = txi.kallisto,\n",
    "                                    colData = samples,\n",
    "                                    design= ~ condition)\n",
    "\n",
    "# Agora, o objeto dds.Txi pode ser usado como aquele dds nos\n",
    "# passos subsequentes de DESeq2.\n",
    "\n",
    "\n",
    "## Design com formula ~replicate + condition\n",
    "# dds.txi <- DESeqDataSetFromTximport(txi = txi.kallisto,\n",
    "#                                     colData = samples,\n",
    "#                                     design= ~ replicate + condition)\n",
    "\n",
    "\n",
    "## Observação de informarção após esse comando acima:\n",
    "# https://support.bioconductor.org/p/62245/\n",
    "\n",
    "# Michael Love responde:\n",
    "# \"Because you have other variables in the design other than Condition (Sex and ERCCMix), \n",
    "# you do not have 3 replicates of a unique combination of the design variables. \n",
    "# The count outlier behavior is explained in the vignette section \"Approach to count outliers\":\n",
    "\n",
    "# \"The results function automatically flags genes which contain a Cook’s distance above a cutoff \n",
    "# for samples which have 3 or more replicates.\"\n",
    "\n",
    "# \"With less than 3 replicates per unique combination, there is no filtering of potential count outliers.\"\n",
    "\n",
    "# Agora, o objeto dds.Txi pode ser usado como aquele dds nos\n",
    "# passos subsequentes de DESeq2."
   ]
  },
  {
   "cell_type": "code",
   "execution_count": 24,
   "metadata": {},
   "outputs": [
    {
     "data": {
      "text/html": [
       "<ol class=list-inline>\n",
       "\t<li>rep01</li>\n",
       "\t<li>rep02</li>\n",
       "\t<li>rep03 </li>\n",
       "\t<li>rep01</li>\n",
       "\t<li>rep02</li>\n",
       "\t<li>rep03 </li>\n",
       "</ol>\n",
       "\n",
       "<details>\n",
       "\t<summary style=display:list-item;cursor:pointer>\n",
       "\t\t<strong>Levels</strong>:\n",
       "\t</summary>\n",
       "\t<ol class=list-inline>\n",
       "\t\t<li>'rep01'</li>\n",
       "\t\t<li>'rep02'</li>\n",
       "\t\t<li>'rep03 '</li>\n",
       "\t</ol>\n",
       "</details>"
      ],
      "text/latex": [
       "\\begin{enumerate*}\n",
       "\\item rep01\n",
       "\\item rep02\n",
       "\\item rep03 \n",
       "\\item rep01\n",
       "\\item rep02\n",
       "\\item rep03 \n",
       "\\end{enumerate*}\n",
       "\n",
       "\\emph{Levels}: \\begin{enumerate*}\n",
       "\\item 'rep01'\n",
       "\\item 'rep02'\n",
       "\\item 'rep03 '\n",
       "\\end{enumerate*}\n"
      ],
      "text/markdown": [
       "1. rep01\n",
       "2. rep02\n",
       "3. rep03 \n",
       "4. rep01\n",
       "5. rep02\n",
       "6. rep03 \n",
       "\n",
       "\n",
       "\n",
       "**Levels**: 1. 'rep01'\n",
       "2. 'rep02'\n",
       "3. 'rep03 '\n",
       "\n",
       "\n"
      ],
      "text/plain": [
       "[1] rep01  rep02  rep03  rep01  rep02  rep03 \n",
       "Levels: rep01 rep02 rep03 "
      ]
     },
     "metadata": {},
     "output_type": "display_data"
    }
   ],
   "source": [
    "head(dds.txi$replicate)"
   ]
  },
  {
   "cell_type": "markdown",
   "metadata": {},
   "source": [
    "## Pre-filtering  \n",
    "\n",
    "Não é necessário pré-filtragem de baixas contagens de genes antes de executar o DESeq2.  \n",
    "Mas, segundo os autores, há dois motivos que tornam esse passo útil:   \n",
    "a. Remoção de linhas no data frame `dds.txi` nas quais há poucas _reads_, pode-se reduzir o tamanho  \n",
    "da memória do objeto de dados `dds` formado; \n",
    "\n",
    "b. Assim, eleva-se sa a velocidade de transformação e funções em DESeq2. \n",
    "\n",
    "Para maiores informações consultar [DESeq2 Bioconductor](http://bioconductor.org/packages/devel/bioc/vignettes/DESeq2/inst/doc/DESeq2.html).  "
   ]
  },
  {
   "cell_type": "code",
   "execution_count": 25,
   "metadata": {},
   "outputs": [],
   "source": [
    "# Filtrar por counts insignificantes.\n",
    "keep <- rowSums(counts(dds.txi)) >= 10"
   ]
  },
  {
   "cell_type": "code",
   "execution_count": 26,
   "metadata": {},
   "outputs": [],
   "source": [
    "dds <- dds.txi[keep,]"
   ]
  },
  {
   "cell_type": "code",
   "execution_count": 27,
   "metadata": {},
   "outputs": [
    {
     "data": {
      "text/html": [
       "<ol class=list-inline>\n",
       "\t<li>rep01</li>\n",
       "\t<li>rep02</li>\n",
       "\t<li>rep03 </li>\n",
       "\t<li>rep01</li>\n",
       "\t<li>rep02</li>\n",
       "\t<li>rep03 </li>\n",
       "</ol>\n",
       "\n",
       "<details>\n",
       "\t<summary style=display:list-item;cursor:pointer>\n",
       "\t\t<strong>Levels</strong>:\n",
       "\t</summary>\n",
       "\t<ol class=list-inline>\n",
       "\t\t<li>'rep01'</li>\n",
       "\t\t<li>'rep02'</li>\n",
       "\t\t<li>'rep03 '</li>\n",
       "\t</ol>\n",
       "</details>"
      ],
      "text/latex": [
       "\\begin{enumerate*}\n",
       "\\item rep01\n",
       "\\item rep02\n",
       "\\item rep03 \n",
       "\\item rep01\n",
       "\\item rep02\n",
       "\\item rep03 \n",
       "\\end{enumerate*}\n",
       "\n",
       "\\emph{Levels}: \\begin{enumerate*}\n",
       "\\item 'rep01'\n",
       "\\item 'rep02'\n",
       "\\item 'rep03 '\n",
       "\\end{enumerate*}\n"
      ],
      "text/markdown": [
       "1. rep01\n",
       "2. rep02\n",
       "3. rep03 \n",
       "4. rep01\n",
       "5. rep02\n",
       "6. rep03 \n",
       "\n",
       "\n",
       "\n",
       "**Levels**: 1. 'rep01'\n",
       "2. 'rep02'\n",
       "3. 'rep03 '\n",
       "\n",
       "\n"
      ],
      "text/plain": [
       "[1] rep01  rep02  rep03  rep01  rep02  rep03 \n",
       "Levels: rep01 rep02 rep03 "
      ]
     },
     "metadata": {},
     "output_type": "display_data"
    }
   ],
   "source": [
    "head(dds$replicate)"
   ]
  },
  {
   "cell_type": "markdown",
   "metadata": {},
   "source": [
    "## Níveis dos fatores usados para análise\n",
    "### Factor: variável categórica (ex.: condições zika, control)  \n",
    "\n",
    "Por padrão, R escolherá um **fator de referência** ou seja **_reference level_** para fatores baseando-se em ordem alfabética.   \n",
    "Neste caso, nosso fator de referência seria `control` de qualquer forma.  \n",
    "\n",
    "Um teste será feito, adicionando-se um nível ao objeto `dds` para DESeq2, o antigo `dds.txi`.  \n",
    "\n",
    "Segundo o manual DESeq2 há duas formas de fazer isso:   \n",
    "a. Dizer explicitamente aos resultados em R que comparação fazer usando o argumento `contrast`;      \n",
    "b. Ajustar explicitamente os _factors levels_.  \n",
    "\n",
    "Para observar a mudança no nível de referência utilizado, pós fazer o renivelamento é preciso   \n",
    "executar `DESeq` ou `nbinomWaldTest/nbinomLRT`.  Abaixo:   \n",
    "\n",
    "\n",
    "```R language\n",
    "dds$condition <- factor(dds$condition, levels = c(\"untreated\",\"treated\"))\n",
    "\n",
    "# ou,  using relevel, just specifying the reference level:\n",
    "dds$condition <- relevel(dds$condition, ref = \"untreated\")\n",
    "``` \n",
    "\n"
   ]
  },
  {
   "cell_type": "code",
   "execution_count": 28,
   "metadata": {},
   "outputs": [
    {
     "data": {
      "text/html": [
       "<ol class=list-inline>\n",
       "\t<li>control</li>\n",
       "\t<li>control</li>\n",
       "\t<li>control</li>\n",
       "\t<li>control</li>\n",
       "\t<li>control</li>\n",
       "\t<li>control</li>\n",
       "\t<li>zika</li>\n",
       "\t<li>zika</li>\n",
       "\t<li>zika</li>\n",
       "</ol>\n",
       "\n",
       "<details>\n",
       "\t<summary style=display:list-item;cursor:pointer>\n",
       "\t\t<strong>Levels</strong>:\n",
       "\t</summary>\n",
       "\t<ol class=list-inline>\n",
       "\t\t<li>'control'</li>\n",
       "\t\t<li>'zika'</li>\n",
       "\t</ol>\n",
       "</details>"
      ],
      "text/latex": [
       "\\begin{enumerate*}\n",
       "\\item control\n",
       "\\item control\n",
       "\\item control\n",
       "\\item control\n",
       "\\item control\n",
       "\\item control\n",
       "\\item zika\n",
       "\\item zika\n",
       "\\item zika\n",
       "\\end{enumerate*}\n",
       "\n",
       "\\emph{Levels}: \\begin{enumerate*}\n",
       "\\item 'control'\n",
       "\\item 'zika'\n",
       "\\end{enumerate*}\n"
      ],
      "text/markdown": [
       "1. control\n",
       "2. control\n",
       "3. control\n",
       "4. control\n",
       "5. control\n",
       "6. control\n",
       "7. zika\n",
       "8. zika\n",
       "9. zika\n",
       "\n",
       "\n",
       "\n",
       "**Levels**: 1. 'control'\n",
       "2. 'zika'\n",
       "\n",
       "\n"
      ],
      "text/plain": [
       "[1] control control control control control control zika    zika    zika   \n",
       "Levels: control zika"
      ]
     },
     "metadata": {},
     "output_type": "display_data"
    }
   ],
   "source": [
    "head(dds$condition, 9)"
   ]
  },
  {
   "cell_type": "code",
   "execution_count": 29,
   "metadata": {},
   "outputs": [],
   "source": [
    "# Relevel como exemplo:\n",
    "dds$condition <- relevel(dds$condition,\n",
    "                        ref = \"control\")"
   ]
  },
  {
   "cell_type": "markdown",
   "metadata": {},
   "source": [
    "## Análise de Expressão Diferencial   \n",
    "\n",
    "Em DESeq2 as etapsas da análise de expressão diferencial são agrupadas em uma única função, `DESeq`.  \n",
    "\n",
    "As **tabelas de resultados** são geradas através da função  `results` a qual extrai uma tabela de resultados com log2 fold changes, _p values_ e _adjusted p values_.  \n",
    "Sem argumentos adicionais em `results` o _p value_ do **_Wald test_** e _log2 fold change_ será para a última variável do _design formula_ utilizado em DESeq2.  \n",
    "Se este for um _factor_, a comparação será o último nível desta variável sobre o _reference level_.   \n",
    "\n",
    "Entretanto, a ordem das variáveis do _design_ não importa tanto desde que o usuário especifique uma comparação para construir uma tabela de resultados,  \n",
    "usando os argumentos `name` ou `contrast` de _results_.   "
   ]
  },
  {
   "cell_type": "code",
   "execution_count": 30,
   "metadata": {},
   "outputs": [
    {
     "name": "stderr",
     "output_type": "stream",
     "text": [
      "estimating size factors\n",
      "using 'avgTxLength' from assays(dds), correcting for library size\n",
      "estimating dispersions\n",
      "gene-wise dispersion estimates\n",
      "mean-dispersion relationship\n",
      "final dispersion estimates\n",
      "fitting model and testing\n",
      "-- replacing outliers and refitting for 58 genes\n",
      "-- DESeq argument 'minReplicatesForReplace' = 7 \n",
      "-- original counts are preserved in counts(dds)\n",
      "estimating dispersions\n",
      "fitting model and testing\n"
     ]
    }
   ],
   "source": [
    "dds <- DESeq(dds)"
   ]
  },
  {
   "cell_type": "code",
   "execution_count": 31,
   "metadata": {},
   "outputs": [],
   "source": [
    "res <- results(dds)"
   ]
  },
  {
   "cell_type": "code",
   "execution_count": 32,
   "metadata": {},
   "outputs": [
    {
     "data": {
      "text/plain": [
       "log2 fold change (MLE): condition zika vs control \n",
       "Wald test p-value: condition zika vs control \n",
       "DataFrame with 21512 rows and 6 columns\n",
       "                        baseMean      log2FoldChange              lfcSE\n",
       "                       <numeric>           <numeric>          <numeric>\n",
       "ENSG00000000003 2.99558340229563   -0.34871441994976  0.553626775497822\n",
       "ENSG00000000419 53.2814389557738  0.0482887170197021 0.0896593213256229\n",
       "ENSG00000000457 69.3447039581553 -0.0941540989336621  0.113335978297243\n",
       "ENSG00000000460 25.7199962905926  -0.499910435859336  0.206384586997614\n",
       "ENSG00000000938 1042.56427568169   0.389387719082639 0.0742192860615313\n",
       "...                          ...                 ...                ...\n",
       "ENSG00000287725 3.67200938208246  -0.471298631391275  0.458369380337311\n",
       "ENSG00000288235 4.39865827625911  -0.227826509342784  0.323947379953503\n",
       "ENSG00000288253 3.81976453750895   0.466572336805278  0.575181007709515\n",
       "ENSG00000288258 2.09157476267846   0.570504774173694  0.647683089742771\n",
       "ENSG00000288373 24.4258780702034  -0.908509939190274   0.24618891826097\n",
       "                              stat               pvalue                padj\n",
       "                         <numeric>            <numeric>           <numeric>\n",
       "ENSG00000000003 -0.629872750710432    0.528777842446208   0.820652435451413\n",
       "ENSG00000000419  0.538579997101786    0.590176692779569   0.853104524959064\n",
       "ENSG00000000457 -0.830752073156568    0.406113702519318   0.744339942559651\n",
       "ENSG00000000460  -2.42222756617535   0.0154256872730165   0.126327416274108\n",
       "ENSG00000000938   5.24644926872266 1.55058519399911e-07 1.1688041525375e-05\n",
       "...                            ...                  ...                 ...\n",
       "ENSG00000287725    -1.028207056598    0.303852439749744   0.653990036988369\n",
       "ENSG00000288235 -0.703282457093754    0.481879741112336   0.793185558792754\n",
       "ENSG00000288253   0.81117479637108    0.417265297176886   0.750350426009301\n",
       "ENSG00000288258  0.880839384582777    0.378404759422208   0.721899165636631\n",
       "ENSG00000288373  -3.69029583300422 0.000223993405937161 0.00541614181134249"
      ]
     },
     "metadata": {},
     "output_type": "display_data"
    }
   ],
   "source": [
    "res"
   ]
  },
  {
   "cell_type": "markdown",
   "metadata": {},
   "source": [
    "Note que podemos especificar o coeficiente ou contraste que queremos construir como uma tabela de resultados, usando: "
   ]
  },
  {
   "cell_type": "code",
   "execution_count": 33,
   "metadata": {},
   "outputs": [],
   "source": [
    "res <- results(dds, contrast = c('condition', 'zika', 'control'))"
   ]
  },
  {
   "cell_type": "code",
   "execution_count": 34,
   "metadata": {},
   "outputs": [
    {
     "data": {
      "text/plain": [
       "log2 fold change (MLE): condition zika vs control \n",
       "Wald test p-value: condition zika vs control \n",
       "DataFrame with 21512 rows and 6 columns\n",
       "                        baseMean      log2FoldChange              lfcSE\n",
       "                       <numeric>           <numeric>          <numeric>\n",
       "ENSG00000000003 2.99558340229563   -0.34871441994976  0.553626775497822\n",
       "ENSG00000000419 53.2814389557738  0.0482887170197021 0.0896593213256229\n",
       "ENSG00000000457 69.3447039581553 -0.0941540989336621  0.113335978297243\n",
       "ENSG00000000460 25.7199962905926  -0.499910435859336  0.206384586997614\n",
       "ENSG00000000938 1042.56427568169   0.389387719082639 0.0742192860615313\n",
       "...                          ...                 ...                ...\n",
       "ENSG00000287725 3.67200938208246  -0.471298631391275  0.458369380337311\n",
       "ENSG00000288235 4.39865827625911  -0.227826509342784  0.323947379953503\n",
       "ENSG00000288253 3.81976453750895   0.466572336805278  0.575181007709515\n",
       "ENSG00000288258 2.09157476267846   0.570504774173694  0.647683089742771\n",
       "ENSG00000288373 24.4258780702034  -0.908509939190274   0.24618891826097\n",
       "                              stat               pvalue                padj\n",
       "                         <numeric>            <numeric>           <numeric>\n",
       "ENSG00000000003 -0.629872750710432    0.528777842446208   0.820652435451413\n",
       "ENSG00000000419  0.538579997101786    0.590176692779569   0.853104524959064\n",
       "ENSG00000000457 -0.830752073156568    0.406113702519318   0.744339942559651\n",
       "ENSG00000000460  -2.42222756617535   0.0154256872730165   0.126327416274108\n",
       "ENSG00000000938   5.24644926872266 1.55058519399911e-07 1.1688041525375e-05\n",
       "...                            ...                  ...                 ...\n",
       "ENSG00000287725    -1.028207056598    0.303852439749744   0.653990036988369\n",
       "ENSG00000288235 -0.703282457093754    0.481879741112336   0.793185558792754\n",
       "ENSG00000288253   0.81117479637108    0.417265297176886   0.750350426009301\n",
       "ENSG00000288258  0.880839384582777    0.378404759422208   0.721899165636631\n",
       "ENSG00000288373  -3.69029583300422 0.000223993405937161 0.00541614181134249"
      ]
     },
     "metadata": {},
     "output_type": "display_data"
    }
   ],
   "source": [
    "res"
   ]
  },
  {
   "cell_type": "markdown",
   "metadata": {},
   "source": [
    "## Log fold change shrinkage for visualization and ranking\n",
    "\n",
    "Contração log fod change para visualização e ranqueamento.   \n",
    "\n",
    "**_Shrinkage of effect size (LFC estimates)_**.   \n",
    "Contração/encolhimento do efeito de tamanho (**_LFC estimates_**) é útil para visualização e ranqueamento de genes. \n",
    "\n",
    "Para contrair (**_to shrink_**) o LFC passamos o objeto `dds` para a função `lfcShrink`.   "
   ]
  },
  {
   "cell_type": "code",
   "execution_count": 35,
   "metadata": {},
   "outputs": [
    {
     "data": {
      "text/html": [
       "<ol class=list-inline>\n",
       "\t<li>'Intercept'</li>\n",
       "\t<li>'condition_zika_vs_control'</li>\n",
       "</ol>\n"
      ],
      "text/latex": [
       "\\begin{enumerate*}\n",
       "\\item 'Intercept'\n",
       "\\item 'condition\\_zika\\_vs\\_control'\n",
       "\\end{enumerate*}\n"
      ],
      "text/markdown": [
       "1. 'Intercept'\n",
       "2. 'condition_zika_vs_control'\n",
       "\n",
       "\n"
      ],
      "text/plain": [
       "[1] \"Intercept\"                 \"condition_zika_vs_control\""
      ]
     },
     "metadata": {},
     "output_type": "display_data"
    }
   ],
   "source": [
    "resultsNames(dds)"
   ]
  },
  {
   "cell_type": "code",
   "execution_count": 36,
   "metadata": {},
   "outputs": [
    {
     "name": "stderr",
     "output_type": "stream",
     "text": [
      "using 'apeglm' for LFC shrinkage. If used in published research, please cite:\n",
      "    Zhu, A., Ibrahim, J.G., Love, M.I. (2018) Heavy-tailed prior distributions for\n",
      "    sequence count data: removing the noise and preserving large differences.\n",
      "    Bioinformatics. https://doi.org/10.1093/bioinformatics/bty895\n"
     ]
    }
   ],
   "source": [
    "resLFC <- lfcShrink(dds, coef = 'condition_zika_vs_control', type = 'apeglm')"
   ]
  },
  {
   "cell_type": "code",
   "execution_count": 37,
   "metadata": {},
   "outputs": [
    {
     "data": {
      "text/plain": [
       "log2 fold change (MAP): condition zika vs control \n",
       "Wald test p-value: condition zika vs control \n",
       "DataFrame with 21512 rows and 5 columns\n",
       "                        baseMean      log2FoldChange              lfcSE\n",
       "                       <numeric>           <numeric>          <numeric>\n",
       "ENSG00000000003 2.99558340229563 -0.0220497884149622  0.142235265367695\n",
       "ENSG00000000419 53.2814389557738  0.0351768215289019 0.0771091845344226\n",
       "ENSG00000000457 69.3447039581553 -0.0599945468971376 0.0934272085070527\n",
       "ENSG00000000460 25.7199962905926  -0.302380508833491  0.240908881142826\n",
       "ENSG00000000938 1042.56427568169   0.366530851321527 0.0753677415955466\n",
       "...                          ...                 ...                ...\n",
       "ENSG00000287725 3.67200938208246  -0.044215955497326  0.146870327154119\n",
       "ENSG00000288235 4.39865827625911 -0.0390549987631505   0.13797788877644\n",
       "ENSG00000288253 3.81976453750895  0.0247594786043326  0.143574444341633\n",
       "ENSG00000288258 2.09157476267846  0.0280738913798387   0.14472170711102\n",
       "ENSG00000288373 24.4258780702034  -0.758160728850319  0.272378844769424\n",
       "                              pvalue                padj\n",
       "                           <numeric>           <numeric>\n",
       "ENSG00000000003    0.528777842446208   0.820652435451413\n",
       "ENSG00000000419    0.590176692779569   0.853104524959064\n",
       "ENSG00000000457    0.406113702519318   0.744339942559651\n",
       "ENSG00000000460   0.0154256872730165   0.126327416274108\n",
       "ENSG00000000938 1.55058519399911e-07 1.1688041525375e-05\n",
       "...                              ...                 ...\n",
       "ENSG00000287725    0.303852439749744   0.653990036988369\n",
       "ENSG00000288235    0.481879741112336   0.793185558792754\n",
       "ENSG00000288253    0.417265297176886   0.750350426009301\n",
       "ENSG00000288258    0.378404759422208   0.721899165636631\n",
       "ENSG00000288373 0.000223993405937161 0.00541614181134249"
      ]
     },
     "metadata": {},
     "output_type": "display_data"
    }
   ],
   "source": [
    "resLFC"
   ]
  },
  {
   "cell_type": "markdown",
   "metadata": {},
   "source": [
    "## Reordenando Resultados com p-values e adjusted p-vaules   \n",
    "\n",
    "Ordenar os resultados da tabela por menor p value:  "
   ]
  },
  {
   "cell_type": "code",
   "execution_count": 38,
   "metadata": {},
   "outputs": [],
   "source": [
    "resOrdered <- res[order(res$pvalue), ]"
   ]
  },
  {
   "cell_type": "code",
   "execution_count": 39,
   "metadata": {},
   "outputs": [
    {
     "name": "stdout",
     "output_type": "stream",
     "text": [
      "\n",
      "out of 21507 with nonzero total read count\n",
      "adjusted p-value < 0.1\n",
      "LFC > 0 (up)       : 781, 3.6%\n",
      "LFC < 0 (down)     : 1136, 5.3%\n",
      "outliers [1]       : 0, 0%\n",
      "low counts [2]     : 4175, 19%\n",
      "(mean count < 1)\n",
      "[1] see 'cooksCutoff' argument of ?results\n",
      "[2] see 'independentFiltering' argument of ?results\n",
      "\n"
     ]
    }
   ],
   "source": [
    "summary(res)"
   ]
  },
  {
   "cell_type": "code",
   "execution_count": 40,
   "metadata": {},
   "outputs": [
    {
     "data": {
      "text/html": [
       "1917"
      ],
      "text/latex": [
       "1917"
      ],
      "text/markdown": [
       "1917"
      ],
      "text/plain": [
       "[1] 1917"
      ]
     },
     "metadata": {},
     "output_type": "display_data"
    }
   ],
   "source": [
    "# Quantos adjusted p-values são menores que 0.1?\n",
    "sum(res$padj < 0.1, na.rm = TRUE)"
   ]
  },
  {
   "cell_type": "code",
   "execution_count": 41,
   "metadata": {},
   "outputs": [
    {
     "name": "stdout",
     "output_type": "stream",
     "text": [
      "\n",
      "out of 21507 with nonzero total read count\n",
      "adjusted p-value < 0.05\n",
      "LFC > 0 (up)       : 556, 2.6%\n",
      "LFC < 0 (down)     : 851, 4%\n",
      "outliers [1]       : 0, 0%\n",
      "low counts [2]     : 6260, 29%\n",
      "(mean count < 3)\n",
      "[1] see 'cooksCutoff' argument of ?results\n",
      "[2] see 'independentFiltering' argument of ?results\n",
      "\n"
     ]
    }
   ],
   "source": [
    "# FDR cutoff, alpha.\n",
    "res05 <- results(dds, alpha=0.05)\n",
    "summary(res05)"
   ]
  },
  {
   "cell_type": "code",
   "execution_count": 42,
   "metadata": {},
   "outputs": [
    {
     "data": {
      "text/html": [
       "1407"
      ],
      "text/latex": [
       "1407"
      ],
      "text/markdown": [
       "1407"
      ],
      "text/plain": [
       "[1] 1407"
      ]
     },
     "metadata": {},
     "output_type": "display_data"
    }
   ],
   "source": [
    "sum(res05$padj < 0.05, na.rm=TRUE)"
   ]
  },
  {
   "cell_type": "markdown",
   "metadata": {},
   "source": [
    "## Ponderação Independente de Hipóteses  \n",
    "### Independent Hypothesis Weighting  \n",
    "\n",
    "Filtragem de _p value_: ponderar (_weight_) hipóteses para otimizar o poder.  \n",
    "Está disponível no bioconductor, sob nome [IHW](http://bioconductor.org/packages/release/bioc/html/IHW.html).  "
   ]
  },
  {
   "cell_type": "code",
   "execution_count": 45,
   "metadata": {},
   "outputs": [],
   "source": [
    "resIHW <- results(dds, filterFun = ihw)"
   ]
  },
  {
   "cell_type": "code",
   "execution_count": 47,
   "metadata": {},
   "outputs": [
    {
     "name": "stdout",
     "output_type": "stream",
     "text": [
      "\n",
      "out of 21507 with nonzero total read count\n",
      "adjusted p-value < 0.1\n",
      "LFC > 0 (up)       : 840, 3.9%\n",
      "LFC < 0 (down)     : 1119, 5.2%\n",
      "outliers [1]       : 0, 0%\n",
      "[1] see 'cooksCutoff' argument of ?results\n",
      "see metadata(res)$ihwResult on hypothesis weighting\n",
      "\n"
     ]
    }
   ],
   "source": [
    "summary(resIHW)"
   ]
  },
  {
   "cell_type": "code",
   "execution_count": 48,
   "metadata": {},
   "outputs": [
    {
     "data": {
      "text/html": [
       "1959"
      ],
      "text/latex": [
       "1959"
      ],
      "text/markdown": [
       "1959"
      ],
      "text/plain": [
       "[1] 1959"
      ]
     },
     "metadata": {},
     "output_type": "display_data"
    }
   ],
   "source": [
    "sum(resIHW$padj < 0.1, na.rm=TRUE)"
   ]
  },
  {
   "cell_type": "code",
   "execution_count": 49,
   "metadata": {},
   "outputs": [
    {
     "data": {
      "text/plain": [
       "ihwResult object with 21512 hypothesis tests \n",
       "Nominal FDR control level: 0.1 \n",
       "Split into 14 bins, based on an ordinal covariate"
      ]
     },
     "metadata": {},
     "output_type": "display_data"
    }
   ],
   "source": [
    "metadata(resIHW)$ihwResult"
   ]
  },
  {
   "cell_type": "markdown",
   "metadata": {},
   "source": [
    "## Parte V - Exploração de Resultados  \n",
    "\n",
    "### MA-plot  \n",
    "\n",
    "A função `plotMA` mostra os _log2 fold change_ atribuível a uma dada variável sobre a média de contagens   \n",
    "normalizadas para todas as amostras no `DESeqDataSet`.   \n",
    "\n",
    "Pontos serão coloridos em vermelho se o valor p ajustado (_adjusted p value_) for menor que 0.1.   \n",
    "Pontos que caem fora da janela são plotados como triangulos abertos com ponstas para cima ou para baixo.   "
   ]
  },
  {
   "cell_type": "code",
   "execution_count": 62,
   "metadata": {},
   "outputs": [
    {
     "data": {
      "image/png": "[encoded data removed]",
      "text/plain": [
       "Plot with title “”"
      ]
     },
     "metadata": {},
     "output_type": "display_data"
    }
   ],
   "source": [
    "plotMA(res , ylim = c(-2, 2))"
   ]
  },
  {
   "cell_type": "markdown",
   "metadata": {},
   "source": [
    "Segundo os autores é mais útil visualizar o MA-plot para aqueles  \n",
    "_log2 fold changes_ que foram contraídos (**LFC**), removendo assim _noise_  \n",
    "associado com mudanças _log2 fold changes_ advindas de baixas contagens de genes   \n",
    "sem requerimento de _thresholds_ de filtragem arbitrários.  "
   ]
  },
  {
   "cell_type": "code",
   "execution_count": 59,
   "metadata": {},
   "outputs": [
    {
     "data": {
      "image/png": "[encoded data removed]",
      "text/plain": [
       "Plot with title “”"
      ]
     },
     "metadata": {},
     "output_type": "display_data"
    }
   ],
   "source": [
    "plotMA(resLFC, ylim=c(-2,2))"
   ]
  },
  {
   "cell_type": "markdown",
   "metadata": {},
   "source": [
    "Após utilizar `plotMA` pode-se utilizar a função `identify` para detectar interativamente   \n",
    "o número  de linhas de genes individuais ao clicar no plot.   \n",
    "\n",
    "Pode-se então resgatar os IDs dos genes salvando os índices resultantes.   "
   ]
  },
  {
   "cell_type": "code",
   "execution_count": 67,
   "metadata": {},
   "outputs": [
    {
     "ename": "ERROR",
     "evalue": "Error in identify.default(res$baseMean, res$log2FoldChange): plot.new has not been called yet\n",
     "output_type": "error",
     "traceback": [
      "Error in identify.default(res$baseMean, res$log2FoldChange): plot.new has not been called yet\nTraceback:\n",
      "1. identify(res$baseMean, res$log2FoldChange)",
      "2. identify.default(res$baseMean, res$log2FoldChange)"
     ]
    }
   ],
   "source": [
    "idx <- identify(res$baseMean, res$log2FoldChange)"
   ]
  },
  {
   "cell_type": "markdown",
   "metadata": {},
   "source": [
    "## Estimadores de Encolhimento Alternativos (Alternative Shrinkage Estimators)  "
   ]
  },
  {
   "cell_type": "code",
   "execution_count": 68,
   "metadata": {},
   "outputs": [
    {
     "name": "stderr",
     "output_type": "stream",
     "text": [
      "using 'normal' for LFC shrinkage, the Normal prior from Love et al (2014).\n",
      "\n",
      "Note that type='apeglm' and type='ashr' have shown to have less bias than type='normal'.\n",
      "See ?lfcShrink for more details on shrinkage type, and the DESeq2 vignette.\n",
      "Reference: https://doi.org/10.1093/bioinformatics/bty895\n"
     ]
    }
   ],
   "source": [
    "# because we are interested in treated vs untreated, we set 'coef=2'\n",
    "resNorm <- lfcShrink(dds, coef=2, type=\"normal\")"
   ]
  },
  {
   "cell_type": "markdown",
   "metadata": {},
   "source": [
    "### Lembrar de objeto LFC e Shrinkage \n",
    "```R language\n",
    "resLFC <- lfcShrink(dds, coef = 'condition_zika_vs_control', type = 'apeglm')\n",
    "```\n",
    "\n",
    "As outras serão:   \n",
    "\n",
    "```r language\n",
    "# because we are interested in treated vs untreated, we set 'coef=2'\n",
    "resNorm <- lfcShrink(dds, coef=2, type=\"normal\")\n",
    "resAsh <- lfcShrink(dds, coef=2, type=\"ashr\")\n",
    "\n",
    "```\n",
    "\n",
    "Love, Huber and Anders (2014) propuseram _log fold changes_ moderados o qual usa uma distribuição normal prévia,   \n",
    "centrada sobre zero e com uma escala que se ajusta aos dados.  \n",
    "Os _log fold changes_ contraídos (shrinkage) são úteis para o ranqueamento e visualização, sem a necessidade de  \n",
    "filtros arbitrários em baixas contagens de genes.  \n",
    "\n",
    "A função `lfcShrink` possui capacidade de receber parâmetros, disponíveis via argumento `type`.  \n",
    "\n",
    "**Parâmetros utilizados na função `lfcShrink` via argumento `type`:   \n",
    "\n",
    " - `normal` - o estimador de _shrinkage_ original de DESeq2. Distribuição normal.  \n",
    " - `apeglm`- o estimador advindo do pacote **apeglm** (Zhu, Ibrahim, and Love 2018).  \n",
    " - `ashr`- o estimador _shrinkage_ adaptativo advindo do pacote **ashr** (Stephens 2016).   "
   ]
  },
  {
   "cell_type": "code",
   "execution_count": 69,
   "metadata": {},
   "outputs": [
    {
     "data": {
      "text/html": [
       "<ol class=list-inline>\n",
       "\t<li>'Intercept'</li>\n",
       "\t<li>'condition_zika_vs_control'</li>\n",
       "</ol>\n"
      ],
      "text/latex": [
       "\\begin{enumerate*}\n",
       "\\item 'Intercept'\n",
       "\\item 'condition\\_zika\\_vs\\_control'\n",
       "\\end{enumerate*}\n"
      ],
      "text/markdown": [
       "1. 'Intercept'\n",
       "2. 'condition_zika_vs_control'\n",
       "\n",
       "\n"
      ],
      "text/plain": [
       "[1] \"Intercept\"                 \"condition_zika_vs_control\""
      ]
     },
     "metadata": {},
     "output_type": "display_data"
    }
   ],
   "source": [
    "# Especificar o coeficiente pela ordem em que aparece em results(dds)\n",
    "# O coeficiente usado em lfcShrink anterior (resNorm) foi \"condition zika vs control\"\n",
    "# Porém, é possível especificar o coeficiente pela ordem em que aparece quando se usa resultsnames(dds):\n",
    "resultsNames(dds)"
   ]
  },
  {
   "cell_type": "code",
   "execution_count": 70,
   "metadata": {},
   "outputs": [
    {
     "name": "stderr",
     "output_type": "stream",
     "text": [
      "using 'normal' for LFC shrinkage, the Normal prior from Love et al (2014).\n",
      "\n",
      "Note that type='apeglm' and type='ashr' have shown to have less bias than type='normal'.\n",
      "See ?lfcShrink for more details on shrinkage type, and the DESeq2 vignette.\n",
      "Reference: https://doi.org/10.1093/bioinformatics/bty895\n",
      "using 'ashr' for LFC shrinkage. If used in published research, please cite:\n",
      "    Stephens, M. (2016) False discovery rates: a new deal. Biostatistics, 18:2.\n",
      "    https://doi.org/10.1093/biostatistics/kxw041\n"
     ]
    }
   ],
   "source": [
    "# Usaremos o coeficiente como 2, pois é o que indica condition_zika_Vs_control.\n",
    "# Nosso intersse se dá no contraste entre ambos:\n",
    "# because we are interested in treated vs untreated, we set 'coef=2'\n",
    "resNorm <- lfcShrink(dds, coef=2, type=\"normal\")\n",
    "resAsh <- lfcShrink(dds, coef=2, type=\"ashr\")"
   ]
  },
  {
   "cell_type": "code",
   "execution_count": 71,
   "metadata": {},
   "outputs": [
    {
     "data": {
      "image/png": "[encoded data removed]",
      "text/plain": [
       "Plot with title “ashr”"
      ]
     },
     "metadata": {},
     "output_type": "display_data"
    }
   ],
   "source": [
    "# Agora, observar os plots juntos\n",
    "par(mfrow=c(1,3), mar=c(4,4,2,1))\n",
    "xlim <- c(1,1e5); ylim <- c(-3,3)\n",
    "plotMA(resLFC, xlim=xlim, ylim=ylim, main=\"apeglm\")\n",
    "plotMA(resNorm, xlim=xlim, ylim=ylim, main=\"normal\")\n",
    "plotMA(resAsh, xlim=xlim, ylim=ylim, main=\"ashr\")"
   ]
  },
  {
   "cell_type": "markdown",
   "metadata": {},
   "source": [
    "## Plot counts  \n",
    "\n",
    "É útil examinar a contagem de _reads_ para um único gene entre os grupos (control e zika).   \n",
    "Existe a função `plotCounts` que pode fazer isso, a qual normaliza as contagens por profundidade  \n",
    "de sequenciamento (_sequencing depth_) e adiciona uma pseudocontagem de 1/2 para permitir a plotagem   \n",
    "em escala de _log_.   \n",
    "\n",
    "As contagens são agrupadas pelas variáveis no _intgroup_, onde mais que uma variável pode ser   \n",
    "especificada. Aqui, especificamos o gene que teve o **menor valor p** da tabela de resultados   \n",
    "criada acima. \n",
    "\n",
    "Pode-se selecionar o gene de interesse a ser plotado por _rowname_ ou por índice numérico.  "
   ]
  },
  {
   "cell_type": "code",
   "execution_count": 72,
   "metadata": {},
   "outputs": [
    {
     "data": {
      "image/png": "[encoded data removed]",
      "text/plain": [
       "Plot with title “ENSG00000174485”"
      ]
     },
     "metadata": {},
     "output_type": "display_data"
    }
   ],
   "source": [
    "plotCounts(dds, gene=which.min(res$padj), intgroup=\"condition\")"
   ]
  },
  {
   "cell_type": "markdown",
   "metadata": {},
   "source": [
    "Para uma customização na plotagem, um argumento é `returnData` que pode aceitar um parâmtro lógico, especificando  \n",
    "que a função de ve retornar apenas um _data.frame_ para plotagem com **ggplot**.  "
   ]
  },
  {
   "cell_type": "code",
   "execution_count": 73,
   "metadata": {},
   "outputs": [
    {
     "name": "stderr",
     "output_type": "stream",
     "text": [
      "\n",
      "Attaching package: ‘ggplot2’\n",
      "\n",
      "The following object is masked from ‘package:IHW’:\n",
      "\n",
      "    alpha\n",
      "\n"
     ]
    },
    {
     "data": {
      "image/png": "[encoded data removed]",
      "text/plain": [
       "plot without title"
      ]
     },
     "metadata": {},
     "output_type": "display_data"
    }
   ],
   "source": [
    "d <- plotCounts(dds, gene=which.min(res$padj), intgroup=\"condition\", \n",
    "                returnData=TRUE)\n",
    "library(\"ggplot2\")\n",
    "ggplot(d, aes(x=condition, y=count)) + \n",
    "  geom_point(position=position_jitter(w=0.1,h=0)) + \n",
    "  scale_y_log10(breaks=c(25,100,400))"
   ]
  },
  {
   "cell_type": "markdown",
   "metadata": {},
   "source": [
    "## Exportando os Resultados em Arquivo CSV  \n",
    "\n",
    "Arquivo de texto simples."
   ]
  },
  {
   "cell_type": "code",
   "execution_count": 75,
   "metadata": {},
   "outputs": [],
   "source": [
    "write.csv(as.data.frame(resOrdered), \n",
    "          file=\"zika_vs_controls_results.csv\")"
   ]
  },
  {
   "cell_type": "code",
   "execution_count": 86,
   "metadata": {},
   "outputs": [
    {
     "data": {
      "image/png": "[encoded data removed]",
      "text/plain": [
       "Plot with title “ENSG00000135845”"
      ]
     },
     "metadata": {},
     "output_type": "display_data"
    }
   ],
   "source": [
    "# Outros genes\n",
    "plotCounts(dds, gene='ENSG00000135845', intgroup=\"condition\")"
   ]
  },
  {
   "cell_type": "code",
   "execution_count": 89,
   "metadata": {},
   "outputs": [
    {
     "data": {
      "image/png": "[encoded data removed]",
      "text/plain": [
       "plot without title"
      ]
     },
     "metadata": {},
     "output_type": "display_data"
    }
   ],
   "source": [
    "# Outros genes\n",
    "e <- plotCounts(dds, gene='ENSG00000135845', intgroup=\"condition\", returnData = T)\n",
    "library(\"ggplot2\")\n",
    "ggplot(e, aes(x=condition, y=count)) + \n",
    "  geom_point(position=position_jitter(w=0.1,h=0)) + \n",
    "  scale_y_log10(breaks=c(25,100,400))"
   ]
  },
  {
   "cell_type": "code",
   "execution_count": 90,
   "metadata": {},
   "outputs": [
    {
     "data": {
      "image/png": "[encoded data removed]",
      "text/plain": [
       "plot without title"
      ]
     },
     "metadata": {},
     "output_type": "display_data"
    }
   ],
   "source": [
    "f <- plotCounts(dds, gene='ENSG00000168300', intgroup=\"condition\", returnData = T)\n",
    "library(\"ggplot2\")\n",
    "ggplot(f, aes(x=condition, y=count)) + \n",
    "  geom_point(position=position_jitter(w=0.1,h=0)) + \n",
    "  scale_y_log10(breaks=c(25,100,400))"
   ]
  },
  {
   "cell_type": "code",
   "execution_count": 94,
   "metadata": {},
   "outputs": [
    {
     "data": {
      "image/png": "[encoded data removed]",
      "text/plain": [
       "plot without title"
      ]
     },
     "metadata": {},
     "output_type": "display_data"
    }
   ],
   "source": [
    "g <- plotCounts(dds, gene='ENSG00000254708', intgroup=\"condition\", returnData = T)\n",
    "library(\"ggplot2\")\n",
    "ggplot(g, aes(x=condition, y=count)) + \n",
    "  geom_point(position=position_jitter(w=0.1,h=0)) + \n",
    "  scale_y_log10(breaks=c(25,100,400))"
   ]
  },
  {
   "cell_type": "markdown",
   "metadata": {},
   "source": [
    "## Mais Informações na Coluna Results"
   ]
  },
  {
   "cell_type": "code",
   "execution_count": 95,
   "metadata": {},
   "outputs": [
    {
     "data": {
      "text/html": [
       "<ol class=list-inline>\n",
       "\t<li>'mean of normalized counts for all samples'</li>\n",
       "\t<li>'log2 fold change (MLE): condition zika vs control'</li>\n",
       "\t<li>'standard error: condition zika vs control'</li>\n",
       "\t<li>'Wald statistic: condition zika vs control'</li>\n",
       "\t<li>'Wald test p-value: condition zika vs control'</li>\n",
       "\t<li>'BH adjusted p-values'</li>\n",
       "</ol>\n"
      ],
      "text/latex": [
       "\\begin{enumerate*}\n",
       "\\item 'mean of normalized counts for all samples'\n",
       "\\item 'log2 fold change (MLE): condition zika vs control'\n",
       "\\item 'standard error: condition zika vs control'\n",
       "\\item 'Wald statistic: condition zika vs control'\n",
       "\\item 'Wald test p-value: condition zika vs control'\n",
       "\\item 'BH adjusted p-values'\n",
       "\\end{enumerate*}\n"
      ],
      "text/markdown": [
       "1. 'mean of normalized counts for all samples'\n",
       "2. 'log2 fold change (MLE): condition zika vs control'\n",
       "3. 'standard error: condition zika vs control'\n",
       "4. 'Wald statistic: condition zika vs control'\n",
       "5. 'Wald test p-value: condition zika vs control'\n",
       "6. 'BH adjusted p-values'\n",
       "\n",
       "\n"
      ],
      "text/plain": [
       "[1] \"mean of normalized counts for all samples\"        \n",
       "[2] \"log2 fold change (MLE): condition zika vs control\"\n",
       "[3] \"standard error: condition zika vs control\"        \n",
       "[4] \"Wald statistic: condition zika vs control\"        \n",
       "[5] \"Wald test p-value: condition zika vs control\"     \n",
       "[6] \"BH adjusted p-values\"                             "
      ]
     },
     "metadata": {},
     "output_type": "display_data"
    }
   ],
   "source": [
    "mcols(res)$description"
   ]
  }
 ],
 "metadata": {
  "kernelspec": {
   "display_name": "R",
   "language": "R",
   "name": "ir"
  },
  "language_info": {
   "codemirror_mode": "r",
   "file_extension": ".r",
   "mimetype": "text/x-r-source",
   "name": "R",
   "pygments_lexer": "r",
   "version": "3.6.1"
  }
 },
 "nbformat": 4,
 "nbformat_minor": 4
}
